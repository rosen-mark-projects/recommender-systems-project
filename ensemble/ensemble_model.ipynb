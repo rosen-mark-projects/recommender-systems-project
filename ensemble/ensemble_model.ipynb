{
 "cells": [
  {
   "cell_type": "code",
   "execution_count": 1,
   "metadata": {},
   "outputs": [],
   "source": [
    "import pickle\n",
    "import sys\n",
    "sys.path.append(\"../\")\n",
    "\n",
    "import pandas as pd\n",
    "import numpy as np\n",
    "import tensorflow as tf\n",
    "\n",
    "from sklearn.metrics import mean_squared_error\n",
    "from math import sqrt\n",
    "from surprise import accuracy\n",
    "from reco_utils.dataset.python_splitters import python_stratified_split\n",
    "from reco_utils.evaluation.python_evaluation import rmse\n",
    "from reco_utils.recommender.sar import SAR\n",
    "from reco_utils.recommender.ncf.ncf_singlenode import NCF"
   ]
  },
  {
   "cell_type": "code",
   "execution_count": 2,
   "metadata": {},
   "outputs": [],
   "source": [
    "tf.logging.set_verbosity(tf.logging.ERROR)"
   ]
  },
  {
   "cell_type": "code",
   "execution_count": 3,
   "metadata": {},
   "outputs": [],
   "source": [
    "test = pd.read_csv('../Data/test.csv', names=['user_id', 'profile_id', 'rating'])"
   ]
  },
  {
   "cell_type": "code",
   "execution_count": 4,
   "metadata": {},
   "outputs": [],
   "source": [
    "test_knn = pd.read_csv('../Data/test.csv', names=['user_id', 'profile_id', 'rating'])\n",
    "test_knn['user_id'] = test_knn['user_id'].astype(str)\n",
    "test_knn['profile_id'] = test_knn['profile_id'].astype(str)\n",
    "\n",
    "tuples = [tuple(x) for x in test_knn.to_numpy()]"
   ]
  },
  {
   "cell_type": "code",
   "execution_count": 5,
   "metadata": {},
   "outputs": [],
   "source": [
    "f = open('../kNN/model/KNN.pickle','rb') \n",
    "loaded_model = pickle.load(f)\n",
    "f.close()"
   ]
  },
  {
   "cell_type": "code",
   "execution_count": 6,
   "metadata": {},
   "outputs": [],
   "source": [
    "predictions = loaded_model.test(tuples)"
   ]
  },
  {
   "cell_type": "code",
   "execution_count": 7,
   "metadata": {},
   "outputs": [],
   "source": [
    "predictions_knn = [el.est for el in predictions]"
   ]
  },
  {
   "cell_type": "code",
   "execution_count": 8,
   "metadata": {},
   "outputs": [],
   "source": [
    "test['pred_knn'] = predictions_knn"
   ]
  },
  {
   "cell_type": "code",
   "execution_count": 9,
   "metadata": {},
   "outputs": [],
   "source": [
    "f = open('../SAR/model/SAR.pickle','rb') \n",
    "loaded_sar = pickle.load(f)\n",
    "f.close()"
   ]
  },
  {
   "cell_type": "code",
   "execution_count": 10,
   "metadata": {},
   "outputs": [
    {
     "name": "stderr",
     "output_type": "stream",
     "text": [
      "../reco_utils/recommender/sar/sar_singlenode.py:333: RuntimeWarning: invalid value encountered in true_divide\n",
      "  self.unity_user_affinity[user_ids, :].dot(self.item_similarity),\n",
      "Items found in test not seen during training, new items will have score of 0\n"
     ]
    }
   ],
   "source": [
    "predictions = loaded_sar.predict(test, normalize=True)"
   ]
  },
  {
   "cell_type": "code",
   "execution_count": 11,
   "metadata": {},
   "outputs": [],
   "source": [
    "predictions = predictions.replace([np.inf, -np.inf], 0)"
   ]
  },
  {
   "cell_type": "code",
   "execution_count": 12,
   "metadata": {},
   "outputs": [],
   "source": [
    "test['pred_sar'] = predictions['prediction']"
   ]
  },
  {
   "cell_type": "code",
   "execution_count": 13,
   "metadata": {},
   "outputs": [],
   "source": [
    "model = NCF (\n",
    "    n_users=2000, \n",
    "    n_items=1531,\n",
    "    model_type=\"NeuMF\",\n",
    "    n_factors=8,\n",
    "    layer_sizes=[32,16,8]\n",
    ")"
   ]
  },
  {
   "cell_type": "code",
   "execution_count": 14,
   "metadata": {},
   "outputs": [],
   "source": [
    "f = open('../NCF/model/user2id_embedding.pickle','rb') \n",
    "user2id_embedding = pickle.load(f)\n",
    "f.close()\n",
    "\n",
    "f = open('../NCF/model/item2id_embedding.pickle','rb') \n",
    "item2id_embedding = pickle.load(f)\n",
    "f.close()\n",
    "\n",
    "f = open('../NCF/model/id2user_embedding.pickle','rb') \n",
    "id2user_embedding = pickle.load(f)\n",
    "f.close()\n",
    "\n",
    "f = open('../NCF/model/id2item_embedding.pickle','rb') \n",
    "id2item_embedding = pickle.load(f)\n",
    "f.close()"
   ]
  },
  {
   "cell_type": "code",
   "execution_count": 15,
   "metadata": {},
   "outputs": [],
   "source": [
    "model.load(neumf_dir='../NCF/model')\n",
    "model.user2id = user2id_embedding\n",
    "model.item2id = item2id_embedding\n",
    "model.id2user = id2user_embedding\n",
    "model.id2item = id2item_embedding"
   ]
  },
  {
   "cell_type": "code",
   "execution_count": 16,
   "metadata": {},
   "outputs": [],
   "source": [
    "test['predictions_ncf'] = test.apply(lambda x: model.predict(x.user_id, x.profile_id), axis=1)\n",
    "test['predictions_ncf'] *= 10\n",
    "\n",
    "rms = sqrt(mean_squared_error(test['rating'].values, test['predictions_ncf'].values))\n",
    "print(rms)"
   ]
  },
  {
   "cell_type": "code",
   "execution_count": 18,
   "metadata": {},
   "outputs": [
    {
     "name": "stdout",
     "output_type": "stream",
     "text": [
      "2.1120785294155144\n"
     ]
    }
   ],
   "source": [
    "# ensemble knn and sar\n",
    "\n",
    "test['ensemble'] = test['pred_knn'] * 0.6 + test['pred_sar'] * 0.4\n",
    "\n",
    "rms = sqrt(mean_squared_error(test['rating'].values, test['ensemble'].values))\n",
    "\n",
    "print(rms)"
   ]
  },
  {
   "cell_type": "code",
   "execution_count": 19,
   "metadata": {},
   "outputs": [
    {
     "name": "stdout",
     "output_type": "stream",
     "text": [
      "2.5456876498682486\n"
     ]
    }
   ],
   "source": [
    "# ensemble knn and ncf\n",
    "\n",
    "test['ensemble'] = test['pred_knn'] * 0.6 + test['predictions_ncf'] * 0.4\n",
    "\n",
    "rms = sqrt(mean_squared_error(test['rating'].values, test['ensemble'].values))\n",
    "\n",
    "print(rms)"
   ]
  },
  {
   "cell_type": "code",
   "execution_count": 20,
   "metadata": {},
   "outputs": [
    {
     "name": "stdout",
     "output_type": "stream",
     "text": [
      "3.102747699270003\n"
     ]
    }
   ],
   "source": [
    "# ensemble sar and ncf\n",
    "\n",
    "test['ensemble'] = test['pred_sar'] * 0.6 + test['predictions_ncf'] * 0.4\n",
    "\n",
    "rms = sqrt(mean_squared_error(test['rating'].values, test['ensemble'].values))\n",
    "\n",
    "print(rms)"
   ]
  },
  {
   "cell_type": "code",
   "execution_count": null,
   "metadata": {},
   "outputs": [],
   "source": []
  }
 ],
 "metadata": {
  "kernelspec": {
   "display_name": "Rec systems",
   "language": "python",
   "name": "mark"
  },
  "language_info": {
   "codemirror_mode": {
    "name": "ipython",
    "version": 3
   },
   "file_extension": ".py",
   "mimetype": "text/x-python",
   "name": "python",
   "nbconvert_exporter": "python",
   "pygments_lexer": "ipython3",
   "version": "3.7.6"
  }
 },
 "nbformat": 4,
 "nbformat_minor": 2
}
