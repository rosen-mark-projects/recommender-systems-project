{
 "cells": [
  {
   "cell_type": "code",
   "execution_count": 1,
   "metadata": {},
   "outputs": [
    {
     "name": "stderr",
     "output_type": "stream",
     "text": [
      "Using TensorFlow backend.\n"
     ]
    }
   ],
   "source": [
    "import pickle\n",
    "import sys\n",
    "sys.path.append(\"../\")\n",
    "import warnings\n",
    "warnings.filterwarnings('ignore')\n",
    "\n",
    "import pandas as pd\n",
    "import numpy as np\n",
    "import tensorflow as tf\n",
    "\n",
    "from sklearn.metrics import mean_squared_error, mean_absolute_error\n",
    "from math import sqrt\n",
    "from surprise import accuracy\n",
    "from reco_utils.dataset.python_splitters import python_stratified_split\n",
    "from reco_utils.evaluation.python_evaluation import rmse\n",
    "from reco_utils.recommender.sar import SAR\n",
    "from reco_utils.recommender.ncf.ncf_singlenode import NCF\n",
    "from keras.models import load_model\n"
   ]
  },
  {
   "cell_type": "code",
   "execution_count": 2,
   "metadata": {},
   "outputs": [],
   "source": [
    "tf.logging.set_verbosity(tf.logging.ERROR)"
   ]
  },
  {
   "cell_type": "code",
   "execution_count": 3,
   "metadata": {},
   "outputs": [],
   "source": [
    "test = pd.read_csv('../Data/test.csv', names=['user_id', 'profile_id', 'rating'])"
   ]
  },
  {
   "cell_type": "code",
   "execution_count": 4,
   "metadata": {},
   "outputs": [],
   "source": [
    "test_knn = pd.read_csv('../Data/test.csv', names=['user_id', 'profile_id', 'rating'])\n",
    "test_knn['user_id'] = test_knn['user_id'].astype(str)\n",
    "test_knn['profile_id'] = test_knn['profile_id'].astype(str)\n",
    "\n",
    "tuples = [tuple(x) for x in test_knn.to_numpy()]"
   ]
  },
  {
   "cell_type": "code",
   "execution_count": 5,
   "metadata": {},
   "outputs": [],
   "source": [
    "f = open('../kNN/model/KNN.pickle','rb') \n",
    "loaded_model = pickle.load(f)\n",
    "f.close()"
   ]
  },
  {
   "cell_type": "code",
   "execution_count": 6,
   "metadata": {},
   "outputs": [],
   "source": [
    "predictions = loaded_model.test(tuples)"
   ]
  },
  {
   "cell_type": "code",
   "execution_count": 7,
   "metadata": {},
   "outputs": [],
   "source": [
    "predictions_knn = [el.est for el in predictions]"
   ]
  },
  {
   "cell_type": "code",
   "execution_count": 8,
   "metadata": {},
   "outputs": [],
   "source": [
    "test['pred_knn'] = predictions_knn"
   ]
  },
  {
   "cell_type": "code",
   "execution_count": 9,
   "metadata": {},
   "outputs": [],
   "source": [
    "f = open('../SAR/model/SAR.pickle','rb') \n",
    "loaded_sar = pickle.load(f)\n",
    "f.close()"
   ]
  },
  {
   "cell_type": "code",
   "execution_count": 10,
   "metadata": {},
   "outputs": [
    {
     "name": "stderr",
     "output_type": "stream",
     "text": [
      "Items found in test not seen during training, new items will have score of 0\n"
     ]
    }
   ],
   "source": [
    "predictions = loaded_sar.predict(test, normalize=True)"
   ]
  },
  {
   "cell_type": "code",
   "execution_count": 11,
   "metadata": {},
   "outputs": [],
   "source": [
    "predictions = predictions.replace([np.inf, -np.inf], 0)"
   ]
  },
  {
   "cell_type": "code",
   "execution_count": 12,
   "metadata": {},
   "outputs": [],
   "source": [
    "test['pred_sar'] = predictions['prediction']"
   ]
  },
  {
   "cell_type": "code",
   "execution_count": 13,
   "metadata": {},
   "outputs": [],
   "source": [
    "loaded_MF = load_model('../MF/mf-model')"
   ]
  },
  {
   "cell_type": "code",
   "execution_count": 14,
   "metadata": {},
   "outputs": [],
   "source": [
    "y_hat = np.round(loaded_MF.predict([test.user_id, test.profile_id]) * 10, 0)\n",
    "\n",
    "test['predictions_mf'] = y_hat"
   ]
  },
  {
   "cell_type": "code",
   "execution_count": 15,
   "metadata": {},
   "outputs": [
    {
     "name": "stdout",
     "output_type": "stream",
     "text": [
      "2.1120785294155144\n"
     ]
    }
   ],
   "source": [
    "# ensemble knn and sar\n",
    "\n",
    "test['ensemble'] = test['pred_knn'] * 0.6 + test['pred_sar'] * 0.4\n",
    "\n",
    "rms = sqrt(mean_squared_error(test['rating'].values, test['ensemble'].values))\n",
    "\n",
    "print(rms)"
   ]
  },
  {
   "cell_type": "code",
   "execution_count": 17,
   "metadata": {},
   "outputs": [
    {
     "name": "stdout",
     "output_type": "stream",
     "text": [
      "2.1642779901252056\n"
     ]
    }
   ],
   "source": [
    "# ensemble knn and mf\n",
    "\n",
    "test['ensemble'] = test['pred_knn'] * 0.5 + test['predictions_mf'] * 0.5\n",
    "\n",
    "rms = sqrt(mean_squared_error(test['rating'].values, test['ensemble'].values))\n",
    "\n",
    "print(rms)"
   ]
  },
  {
   "cell_type": "code",
   "execution_count": 18,
   "metadata": {},
   "outputs": [
    {
     "name": "stdout",
     "output_type": "stream",
     "text": [
      "2.201163504239118\n"
     ]
    }
   ],
   "source": [
    "# ensemble knn and mf аnd sar\n",
    "\n",
    "test['ensemble'] = test['pred_knn'] * 0.4 + test['predictions_mf'] * 0.3 + test['pred_sar'] * 0.3\n",
    "\n",
    "rms = sqrt(mean_squared_error(test['rating'].values, test['ensemble'].values))\n",
    "\n",
    "print(rms)"
   ]
  },
  {
   "cell_type": "code",
   "execution_count": 20,
   "metadata": {},
   "outputs": [
    {
     "data": {
      "text/plain": [
       "1.4962389907881706"
      ]
     },
     "execution_count": 20,
     "metadata": {},
     "output_type": "execute_result"
    }
   ],
   "source": [
    "mean_absolute_error(test['rating'].values, test['pred_knn'].values)"
   ]
  },
  {
   "cell_type": "code",
   "execution_count": 21,
   "metadata": {},
   "outputs": [
    {
     "data": {
      "text/plain": [
       "2.0709614126880314"
      ]
     },
     "execution_count": 21,
     "metadata": {},
     "output_type": "execute_result"
    }
   ],
   "source": [
    "mean_absolute_error(test['rating'].values, test['predictions_mf'].values)"
   ]
  },
  {
   "cell_type": "code",
   "execution_count": 22,
   "metadata": {},
   "outputs": [
    {
     "data": {
      "text/plain": [
       "2.3765798664460775"
      ]
     },
     "execution_count": 22,
     "metadata": {},
     "output_type": "execute_result"
    }
   ],
   "source": [
    "mean_absolute_error(test['rating'].values, test['pred_sar'].values)"
   ]
  },
  {
   "cell_type": "code",
   "execution_count": null,
   "metadata": {},
   "outputs": [],
   "source": []
  }
 ],
 "metadata": {
  "kernelspec": {
   "display_name": "Rec systems",
   "language": "python",
   "name": "mark"
  },
  "language_info": {
   "codemirror_mode": {
    "name": "ipython",
    "version": 3
   },
   "file_extension": ".py",
   "mimetype": "text/x-python",
   "name": "python",
   "nbconvert_exporter": "python",
   "pygments_lexer": "ipython3",
   "version": "3.7.6"
  }
 },
 "nbformat": 4,
 "nbformat_minor": 2
}
