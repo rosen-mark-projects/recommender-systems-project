{
 "cells": [
  {
   "cell_type": "code",
   "execution_count": 1,
   "metadata": {
    "colab": {
     "base_uri": "https://localhost:8080/",
     "height": 1000
    },
    "colab_type": "code",
    "id": "CZqtiiTXe9oW",
    "outputId": "6240a221-1429-45da-e369-0e7cced6a19c"
   },
   "outputs": [
    {
     "name": "stdout",
     "output_type": "stream",
     "text": [
      "Reading package lists... Done\n",
      "Building dependency tree       \n",
      "Reading state information... Done\n",
      "The following package was automatically installed and is no longer required:\n",
      "  libnvidia-common-440\n",
      "Use 'sudo apt autoremove' to remove it.\n",
      "The following additional packages will be installed:\n",
      "  libapr1 libaprutil1 libserf-1-1 libsvn1\n",
      "Suggested packages:\n",
      "  db5.3-util libapache2-mod-svn subversion-tools\n",
      "The following NEW packages will be installed:\n",
      "  libapr1 libaprutil1 libserf-1-1 libsvn1 subversion\n",
      "0 upgraded, 5 newly installed, 0 to remove and 33 not upgraded.\n",
      "Need to get 2,237 kB of archives.\n",
      "After this operation, 9,910 kB of additional disk space will be used.\n",
      "Get:1 http://archive.ubuntu.com/ubuntu bionic/main amd64 libapr1 amd64 1.6.3-2 [90.9 kB]\n",
      "Get:2 http://archive.ubuntu.com/ubuntu bionic/main amd64 libaprutil1 amd64 1.6.1-2 [84.4 kB]\n",
      "Get:3 http://archive.ubuntu.com/ubuntu bionic/universe amd64 libserf-1-1 amd64 1.3.9-6 [44.4 kB]\n",
      "Get:4 http://archive.ubuntu.com/ubuntu bionic/universe amd64 libsvn1 amd64 1.9.7-4ubuntu1 [1,183 kB]\n",
      "Get:5 http://archive.ubuntu.com/ubuntu bionic/universe amd64 subversion amd64 1.9.7-4ubuntu1 [834 kB]\n",
      "Fetched 2,237 kB in 3s (832 kB/s)\n",
      "debconf: unable to initialize frontend: Dialog\n",
      "debconf: (No usable dialog-like program is installed, so the dialog based frontend cannot be used. at /usr/share/perl5/Debconf/FrontEnd/Dialog.pm line 76, <> line 5.)\n",
      "debconf: falling back to frontend: Readline\n",
      "debconf: unable to initialize frontend: Readline\n",
      "debconf: (This frontend requires a controlling tty.)\n",
      "debconf: falling back to frontend: Teletype\n",
      "dpkg-preconfigure: unable to re-open stdin: \n",
      "Selecting previously unselected package libapr1:amd64.\n",
      "(Reading database ... 144379 files and directories currently installed.)\n",
      "Preparing to unpack .../libapr1_1.6.3-2_amd64.deb ...\n",
      "Unpacking libapr1:amd64 (1.6.3-2) ...\n",
      "Selecting previously unselected package libaprutil1:amd64.\n",
      "Preparing to unpack .../libaprutil1_1.6.1-2_amd64.deb ...\n",
      "Unpacking libaprutil1:amd64 (1.6.1-2) ...\n",
      "Selecting previously unselected package libserf-1-1:amd64.\n",
      "Preparing to unpack .../libserf-1-1_1.3.9-6_amd64.deb ...\n",
      "Unpacking libserf-1-1:amd64 (1.3.9-6) ...\n",
      "Selecting previously unselected package libsvn1:amd64.\n",
      "Preparing to unpack .../libsvn1_1.9.7-4ubuntu1_amd64.deb ...\n",
      "Unpacking libsvn1:amd64 (1.9.7-4ubuntu1) ...\n",
      "Selecting previously unselected package subversion.\n",
      "Preparing to unpack .../subversion_1.9.7-4ubuntu1_amd64.deb ...\n",
      "Unpacking subversion (1.9.7-4ubuntu1) ...\n",
      "Setting up libapr1:amd64 (1.6.3-2) ...\n",
      "Setting up libaprutil1:amd64 (1.6.1-2) ...\n",
      "Setting up libserf-1-1:amd64 (1.3.9-6) ...\n",
      "Setting up libsvn1:amd64 (1.9.7-4ubuntu1) ...\n",
      "Setting up subversion (1.9.7-4ubuntu1) ...\n",
      "Processing triggers for libc-bin (2.27-3ubuntu1) ...\n",
      "/sbin/ldconfig.real: /usr/local/lib/python3.6/dist-packages/ideep4py/lib/libmkldnn.so.0 is not a symbolic link\n",
      "\n",
      "Processing triggers for man-db (2.8.3-2ubuntu0.1) ...\n",
      "A    reco_utils/README.md\n",
      "A    reco_utils/__init__.py\n",
      "A    reco_utils/azureml\n",
      "A    reco_utils/azureml/__init__.py\n",
      "A    reco_utils/azureml/aks_utils.py\n",
      "A    reco_utils/azureml/azureml_designer_modules\n",
      "A    reco_utils/azureml/azureml_designer_modules/entries\n",
      "A    reco_utils/azureml/azureml_designer_modules/entries/map_entry.py\n",
      "A    reco_utils/azureml/azureml_designer_modules/entries/ndcg_entry.py\n",
      "A    reco_utils/azureml/azureml_designer_modules/entries/precision_at_k_entry.py\n",
      "A    reco_utils/azureml/azureml_designer_modules/entries/recall_at_k_entry.py\n",
      "A    reco_utils/azureml/azureml_designer_modules/entries/score_sar_entry.py\n",
      "A    reco_utils/azureml/azureml_designer_modules/entries/stratified_splitter_entry.py\n",
      "A    reco_utils/azureml/azureml_designer_modules/entries/train_sar_entry.py\n",
      "A    reco_utils/azureml/azureml_designer_modules/module_specs\n",
      "A    reco_utils/azureml/azureml_designer_modules/module_specs/map.yaml\n",
      "A    reco_utils/azureml/azureml_designer_modules/module_specs/ndcg.yaml\n",
      "A    reco_utils/azureml/azureml_designer_modules/module_specs/precision_at_k.yaml\n",
      "A    reco_utils/azureml/azureml_designer_modules/module_specs/recall_at_k.yaml\n",
      "A    reco_utils/azureml/azureml_designer_modules/module_specs/sar_conda.yaml\n",
      "A    reco_utils/azureml/azureml_designer_modules/module_specs/sar_score.yaml\n",
      "A    reco_utils/azureml/azureml_designer_modules/module_specs/sar_train.yaml\n",
      "A    reco_utils/azureml/azureml_designer_modules/module_specs/stratified_splitter.yaml\n",
      "A    reco_utils/azureml/azureml_utils.py\n",
      "A    reco_utils/azureml/svd_training.py\n",
      "A    reco_utils/azureml/wide_deep_training.py\n",
      "A    reco_utils/common\n",
      "A    reco_utils/common/__init__.py\n",
      "A    reco_utils/common/constants.py\n",
      "A    reco_utils/common/general_utils.py\n",
      "A    reco_utils/common/gpu_utils.py\n",
      "A    reco_utils/common/notebook_memory_management.py\n",
      "A    reco_utils/common/notebook_utils.py\n",
      "A    reco_utils/common/plot.py\n",
      "A    reco_utils/common/python_utils.py\n",
      "A    reco_utils/common/spark_utils.py\n",
      "A    reco_utils/common/tf_utils.py\n",
      "A    reco_utils/common/timer.py\n",
      "A    reco_utils/dataset\n",
      "A    reco_utils/dataset/__init__.py\n",
      "A    reco_utils/dataset/amazon_reviews.py\n",
      "A    reco_utils/dataset/blob_utils.py\n",
      "A    reco_utils/dataset/cosmos_cli.py\n",
      "A    reco_utils/dataset/covid_utils.py\n",
      "A    reco_utils/dataset/criteo.py\n",
      "A    reco_utils/dataset/download_utils.py\n",
      "A    reco_utils/dataset/movielens.py\n",
      "A    reco_utils/dataset/pandas_df_utils.py\n",
      "A    reco_utils/dataset/python_splitters.py\n",
      "A    reco_utils/dataset/spark_splitters.py\n",
      "A    reco_utils/dataset/sparse.py\n",
      "A    reco_utils/dataset/split_utils.py\n",
      "A    reco_utils/dataset/wikidata.py\n",
      "A    reco_utils/evaluation\n",
      "A    reco_utils/evaluation/__init__.py\n",
      "A    reco_utils/evaluation/python_evaluation.py\n",
      "A    reco_utils/evaluation/spark_evaluation.py\n",
      "A    reco_utils/recommender\n",
      "A    reco_utils/recommender/__init__.py\n",
      "A    reco_utils/recommender/cornac\n",
      "A    reco_utils/recommender/cornac/__init__.py\n",
      "A    reco_utils/recommender/cornac/cornac_utils.py\n",
      "A    reco_utils/recommender/deeprec\n",
      "A    reco_utils/recommender/deeprec/__init__.py\n",
      "A    reco_utils/recommender/deeprec/config\n",
      "A    reco_utils/recommender/deeprec/config/asvd.yaml\n",
      "A    reco_utils/recommender/deeprec/config/caser.yaml\n",
      "A    reco_utils/recommender/deeprec/config/gru4rec.yaml\n",
      "A    reco_utils/recommender/deeprec/config/sli_rec.yaml\n",
      "A    reco_utils/recommender/deeprec/deeprec_utils.py\n",
      "A    reco_utils/recommender/deeprec/io\n",
      "A    reco_utils/recommender/deeprec/io/__init__.py\n",
      "A    reco_utils/recommender/deeprec/io/dkn_iterator.py\n",
      "A    reco_utils/recommender/deeprec/io/iterator.py\n",
      "A    reco_utils/recommender/deeprec/io/sequential_iterator.py\n",
      "A    reco_utils/recommender/deeprec/models\n",
      "A    reco_utils/recommender/deeprec/models/__init__.py\n",
      "A    reco_utils/recommender/deeprec/models/base_model.py\n",
      "A    reco_utils/recommender/deeprec/models/dkn.py\n",
      "A    reco_utils/recommender/deeprec/models/sequential\n",
      "A    reco_utils/recommender/deeprec/models/sequential/asvd.py\n",
      "A    reco_utils/recommender/deeprec/models/sequential/caser.py\n",
      "A    reco_utils/recommender/deeprec/models/sequential/gru4rec.py\n",
      "A    reco_utils/recommender/deeprec/models/sequential/rnn_cell_implement.py\n",
      "A    reco_utils/recommender/deeprec/models/sequential/sequential_base_model.py\n",
      "A    reco_utils/recommender/deeprec/models/sequential/sli_rec.py\n",
      "A    reco_utils/recommender/deeprec/models/xDeepFM.py\n",
      "A    reco_utils/recommender/fastai\n",
      "A    reco_utils/recommender/fastai/__init__.py\n",
      "A    reco_utils/recommender/fastai/fastai_utils.py\n",
      "A    reco_utils/recommender/lightfm\n",
      "A    reco_utils/recommender/lightfm/__init__.py\n",
      "A    reco_utils/recommender/lightfm/lightfm_utils.py\n",
      "A    reco_utils/recommender/lightgbm\n",
      "A    reco_utils/recommender/lightgbm/__init__.py\n",
      "A    reco_utils/recommender/lightgbm/lightgbm_utils.py\n",
      "A    reco_utils/recommender/ncf\n",
      "A    reco_utils/recommender/ncf/__init__.py\n",
      "A    reco_utils/recommender/ncf/dataset.py\n",
      "A    reco_utils/recommender/ncf/ncf_singlenode.py\n",
      "A    reco_utils/recommender/newsrec\n",
      "A    reco_utils/recommender/newsrec/__init__.py\n",
      "A    reco_utils/recommender/newsrec/io\n",
      "A    reco_utils/recommender/newsrec/io/__init__.py\n",
      "A    reco_utils/recommender/newsrec/io/naml_iterator.py\n",
      "A    reco_utils/recommender/newsrec/io/news_iterator.py\n",
      "A    reco_utils/recommender/newsrec/models\n",
      "A    reco_utils/recommender/newsrec/models/__init__.py\n",
      "A    reco_utils/recommender/newsrec/models/base_model.py\n",
      "A    reco_utils/recommender/newsrec/models/layers.py\n",
      "A    reco_utils/recommender/newsrec/models/lstur.py\n",
      "A    reco_utils/recommender/newsrec/models/naml.py\n",
      "A    reco_utils/recommender/newsrec/models/npa.py\n",
      "A    reco_utils/recommender/newsrec/models/nrms.py\n",
      "A    reco_utils/recommender/newsrec/newsrec_utils.py\n",
      "A    reco_utils/recommender/rbm\n",
      "A    reco_utils/recommender/rbm/__init__.py\n",
      "A    reco_utils/recommender/rbm/rbm.py\n",
      "A    reco_utils/recommender/rlrmc\n",
      "A    reco_utils/recommender/rlrmc/RLRMCalgorithm.py\n",
      "A    reco_utils/recommender/rlrmc/RLRMCdataset.py\n",
      "A    reco_utils/recommender/rlrmc/__init__.py\n",
      "A    reco_utils/recommender/rlrmc/conjugate_gradient_ms.py\n",
      "A    reco_utils/recommender/sar\n",
      "A    reco_utils/recommender/sar/__init__.py\n",
      "A    reco_utils/recommender/sar/sar_singlenode.py\n",
      "A    reco_utils/recommender/surprise\n",
      "A    reco_utils/recommender/surprise/__init__.py\n",
      "A    reco_utils/recommender/surprise/surprise_utils.py\n",
      "A    reco_utils/recommender/tfidf\n",
      "A    reco_utils/recommender/tfidf/__init__.py\n",
      "A    reco_utils/recommender/tfidf/tfidf_utils.py\n",
      "A    reco_utils/recommender/vowpal_wabbit\n",
      "A    reco_utils/recommender/vowpal_wabbit/__init__.py\n",
      "A    reco_utils/recommender/vowpal_wabbit/vw.py\n",
      "A    reco_utils/recommender/wide_deep\n",
      "A    reco_utils/recommender/wide_deep/__init__.py\n",
      "A    reco_utils/recommender/wide_deep/wide_deep_utils.py\n",
      "A    reco_utils/tuning\n",
      "A    reco_utils/tuning/__init__.py\n",
      "A    reco_utils/tuning/nni\n",
      "A    reco_utils/tuning/nni/ncf_training.py\n",
      "A    reco_utils/tuning/nni/ncf_utils.py\n",
      "A    reco_utils/tuning/nni/nni_utils.py\n",
      "A    reco_utils/tuning/nni/svd_training.py\n",
      "A    reco_utils/tuning/parameter_sweep.py\n",
      "Checked out revision 10106.\n"
     ]
    }
   ],
   "source": [
    "!sudo apt install subversion\n",
    "!svn checkout https://github.com/microsoft/recommenders/trunk/reco_utils"
   ]
  },
  {
   "cell_type": "code",
   "execution_count": 1,
   "metadata": {
    "colab": {},
    "colab_type": "code",
    "id": "PdXIy3UXeLrR"
   },
   "outputs": [],
   "source": [
    "import logging\n",
    "import pickle\n",
    "import numpy as np\n",
    "import pandas as pd\n",
    "\n",
    "from reco_utils.dataset.python_splitters import python_stratified_split\n",
    "from reco_utils.evaluation.python_evaluation import rmse\n",
    "from reco_utils.recommender.sar import SAR"
   ]
  },
  {
   "cell_type": "code",
   "execution_count": 3,
   "metadata": {
    "colab": {
     "base_uri": "https://localhost:8080/",
     "height": 202
    },
    "colab_type": "code",
    "id": "0uqgvsU3dnZ4",
    "outputId": "201e032c-2bc8-42a7-aa0f-7cd7760a3c9a"
   },
   "outputs": [
    {
     "name": "stdout",
     "output_type": "stream",
     "text": [
      "--2020-06-30 14:35:27--  http://www.occamslab.com/petricek/data/ratings.dat\n",
      "Resolving www.occamslab.com (www.occamslab.com)... 82.208.6.71\n",
      "Connecting to www.occamslab.com (www.occamslab.com)|82.208.6.71|:80... connected.\n",
      "HTTP request sent, awaiting response... 200 OK\n",
      "Length: 274354671 (262M) [text/plain]\n",
      "Saving to: ‘ratings.dat’\n",
      "\n",
      "ratings.dat         100%[===================>] 261.64M   563KB/s    in 8m 43s  \n",
      "\n",
      "2020-06-30 14:44:11 (512 KB/s) - ‘ratings.dat’ saved [274354671/274354671]\n",
      "\n"
     ]
    }
   ],
   "source": [
    "# !wget http://www.occamslab.com/petricek/data/ratings.dat"
   ]
  },
  {
   "cell_type": "code",
   "execution_count": 2,
   "metadata": {
    "colab": {},
    "colab_type": "code",
    "id": "FQoP68_vfiUG"
   },
   "outputs": [],
   "source": [
    "# top k items to recommend\n",
    "TOP_K = 10\n",
    "data = pd.read_csv('../Data/ratings_compressed.csv', names=['user_id', 'profile_id', 'rating'])\n",
    "data['rating'] = data['rating'].astype(np.float32)"
   ]
  },
  {
   "cell_type": "code",
   "execution_count": 3,
   "metadata": {},
   "outputs": [
    {
     "data": {
      "text/plain": [
       "110023"
      ]
     },
     "execution_count": 3,
     "metadata": {},
     "output_type": "execute_result"
    }
   ],
   "source": [
    "len(data)"
   ]
  },
  {
   "cell_type": "code",
   "execution_count": 4,
   "metadata": {
    "colab": {},
    "colab_type": "code",
    "id": "vpeJDU5nf0hq"
   },
   "outputs": [],
   "source": [
    "train, test = python_stratified_split(data, ratio=0.75, col_user='user_id', col_item='profile_id', seed=42)"
   ]
  },
  {
   "cell_type": "code",
   "execution_count": 6,
   "metadata": {},
   "outputs": [],
   "source": [
    "# train.to_csv('../Data/train.csv', header=False, index=False)\n",
    "# test.to_csv('../Data/test.csv', header=False, index=False)"
   ]
  },
  {
   "cell_type": "code",
   "execution_count": 5,
   "metadata": {
    "colab": {},
    "colab_type": "code",
    "id": "Xg-_IByGf8Ow"
   },
   "outputs": [],
   "source": [
    "model = SAR(\n",
    "    col_user=\"user_id\",\n",
    "    col_item=\"profile_id\",\n",
    "    col_rating=\"rating\",\n",
    "    similarity_type=\"jaccard\",\n",
    "    time_decay_coefficient=0,\n",
    "    normalize=True\n",
    ")"
   ]
  },
  {
   "cell_type": "code",
   "execution_count": 6,
   "metadata": {
    "colab": {},
    "colab_type": "code",
    "id": "7Fiqq2BGhMKD"
   },
   "outputs": [],
   "source": [
    "model.fit(train)"
   ]
  },
  {
   "cell_type": "code",
   "execution_count": 106,
   "metadata": {
    "colab": {
     "base_uri": "https://localhost:8080/",
     "height": 101
    },
    "colab_type": "code",
    "id": "AG55z3dVhNM4",
    "outputId": "fc5a6d0d-41ff-438e-bc96-0bd362862873"
   },
   "outputs": [
    {
     "name": "stderr",
     "output_type": "stream",
     "text": [
      "/home/mark/GVI_Analytics/Rec_system/recommender-systems-project/SAR/reco_utils/recommender/sar/sar_singlenode.py:333: RuntimeWarning: invalid value encountered in true_divide\n",
      "  self.unity_user_affinity[user_ids, :].dot(self.item_similarity),\n",
      "Items found in test not seen during training, new items will have score of 0\n"
     ]
    }
   ],
   "source": [
    "top_k = model.recommend_k_items(test, remove_seen=True, normalize=True) # if we want just top K for users\n",
    "score = model.score(test, normalize=True) # if we want to predict all items for users\n",
    "predictions = model.predict(test, normalize=True) # if we want to predict the test set only, MAYBE NOT NORMALIZED TO SCALE ORIGINAL RATINGS!"
   ]
  },
  {
   "cell_type": "code",
   "execution_count": 112,
   "metadata": {},
   "outputs": [],
   "source": [
    "predictions = predictions.replace([np.inf, -np.inf], 0)"
   ]
  },
  {
   "cell_type": "code",
   "execution_count": 114,
   "metadata": {},
   "outputs": [
    {
     "data": {
      "text/plain": [
       "2.861099430521089"
      ]
     },
     "execution_count": 114,
     "metadata": {},
     "output_type": "execute_result"
    }
   ],
   "source": [
    "rmse(test, predictions, col_user='user_id', col_item='profile_id', col_rating='rating', col_prediction='prediction')"
   ]
  },
  {
   "cell_type": "code",
   "execution_count": 119,
   "metadata": {},
   "outputs": [],
   "source": [
    "\n",
    "f = open('model/SAR.pickle', 'wb')\n",
    "pickle.dump(model, f)  \n",
    "f.close()"
   ]
  },
  {
   "cell_type": "code",
   "execution_count": 120,
   "metadata": {},
   "outputs": [],
   "source": [
    "f = open('model/SAR.pickle','rb') \n",
    "loaded_model = pickle.load(f)\n",
    "f.close()"
   ]
  },
  {
   "cell_type": "code",
   "execution_count": 121,
   "metadata": {},
   "outputs": [
    {
     "name": "stderr",
     "output_type": "stream",
     "text": [
      "/home/mark/GVI_Analytics/Rec_system/recommender-systems-project/SAR/reco_utils/recommender/sar/sar_singlenode.py:333: RuntimeWarning: invalid value encountered in true_divide\n",
      "  self.unity_user_affinity[user_ids, :].dot(self.item_similarity),\n",
      "Items found in test not seen during training, new items will have score of 0\n"
     ]
    }
   ],
   "source": [
    "predictions = loaded_model.predict(test, normalize=True)"
   ]
  },
  {
   "cell_type": "code",
   "execution_count": 124,
   "metadata": {},
   "outputs": [],
   "source": [
    "predictions = predictions.replace([np.inf, -np.inf], 0)"
   ]
  },
  {
   "cell_type": "code",
   "execution_count": 125,
   "metadata": {},
   "outputs": [
    {
     "data": {
      "text/plain": [
       "2.861099430521089"
      ]
     },
     "execution_count": 125,
     "metadata": {},
     "output_type": "execute_result"
    }
   ],
   "source": [
    "rmse(test, predictions, col_user='user_id', col_item='profile_id', col_rating='rating', col_prediction='prediction')"
   ]
  },
  {
   "cell_type": "code",
   "execution_count": 126,
   "metadata": {},
   "outputs": [],
   "source": [
    "train.to_csv('../Data/train.csv')"
   ]
  },
  {
   "cell_type": "code",
   "execution_count": 127,
   "metadata": {},
   "outputs": [],
   "source": [
    "test.to_csv('../Data/test.csv')"
   ]
  },
  {
   "cell_type": "code",
   "execution_count": null,
   "metadata": {},
   "outputs": [],
   "source": []
  }
 ],
 "metadata": {
  "colab": {
   "name": "recsys-sar.ipynb",
   "provenance": []
  },
  "kernelspec": {
   "display_name": "Python 3",
   "language": "python",
   "name": "python3"
  },
  "language_info": {
   "codemirror_mode": {
    "name": "ipython",
    "version": 3
   },
   "file_extension": ".py",
   "mimetype": "text/x-python",
   "name": "python",
   "nbconvert_exporter": "python",
   "pygments_lexer": "ipython3",
   "version": "3.7.6"
  }
 },
 "nbformat": 4,
 "nbformat_minor": 1
}
