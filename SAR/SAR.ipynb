{
 "cells": [
  {
   "cell_type": "code",
   "execution_count": 2,
   "metadata": {
    "colab": {},
    "colab_type": "code",
    "id": "PdXIy3UXeLrR"
   },
   "outputs": [],
   "source": [
    "import sys\n",
    "sys.path.append(\"../\")\n",
    "\n",
    "import logging\n",
    "import pickle\n",
    "import numpy as np\n",
    "import pandas as pd\n",
    "\n",
    "from reco_utils.dataset.python_splitters import python_stratified_split\n",
    "from reco_utils.evaluation.python_evaluation import rmse\n",
    "from reco_utils.recommender.sar import SAR"
   ]
  },
  {
   "cell_type": "code",
   "execution_count": 3,
   "metadata": {
    "colab": {
     "base_uri": "https://localhost:8080/",
     "height": 202
    },
    "colab_type": "code",
    "id": "0uqgvsU3dnZ4",
    "outputId": "201e032c-2bc8-42a7-aa0f-7cd7760a3c9a"
   },
   "outputs": [
    {
     "name": "stdout",
     "output_type": "stream",
     "text": [
      "--2020-06-30 14:35:27--  http://www.occamslab.com/petricek/data/ratings.dat\n",
      "Resolving www.occamslab.com (www.occamslab.com)... 82.208.6.71\n",
      "Connecting to www.occamslab.com (www.occamslab.com)|82.208.6.71|:80... connected.\n",
      "HTTP request sent, awaiting response... 200 OK\n",
      "Length: 274354671 (262M) [text/plain]\n",
      "Saving to: ‘ratings.dat’\n",
      "\n",
      "ratings.dat         100%[===================>] 261.64M   563KB/s    in 8m 43s  \n",
      "\n",
      "2020-06-30 14:44:11 (512 KB/s) - ‘ratings.dat’ saved [274354671/274354671]\n",
      "\n"
     ]
    }
   ],
   "source": [
    "# !wget http://www.occamslab.com/petricek/data/ratings.dat"
   ]
  },
  {
   "cell_type": "code",
   "execution_count": 3,
   "metadata": {
    "colab": {},
    "colab_type": "code",
    "id": "FQoP68_vfiUG"
   },
   "outputs": [],
   "source": [
    "# top k items to recommend\n",
    "TOP_K = 10\n",
    "data = pd.read_csv('../Data/ratings_compressed.csv', names=['user_id', 'profile_id', 'rating'])\n",
    "data['rating'] = data['rating'].astype(np.float32)"
   ]
  },
  {
   "cell_type": "code",
   "execution_count": 4,
   "metadata": {},
   "outputs": [
    {
     "data": {
      "text/plain": [
       "110023"
      ]
     },
     "execution_count": 4,
     "metadata": {},
     "output_type": "execute_result"
    }
   ],
   "source": [
    "len(data)"
   ]
  },
  {
   "cell_type": "code",
   "execution_count": 5,
   "metadata": {
    "colab": {},
    "colab_type": "code",
    "id": "vpeJDU5nf0hq"
   },
   "outputs": [],
   "source": [
    "train, test = python_stratified_split(data, ratio=0.75, col_user='user_id', col_item='profile_id', seed=42)"
   ]
  },
  {
   "cell_type": "code",
   "execution_count": 6,
   "metadata": {},
   "outputs": [],
   "source": [
    "# train.to_csv('../Data/train.csv', header=False, index=False)\n",
    "# test.to_csv('../Data/test.csv', header=False, index=False)"
   ]
  },
  {
   "cell_type": "code",
   "execution_count": 6,
   "metadata": {
    "colab": {},
    "colab_type": "code",
    "id": "Xg-_IByGf8Ow"
   },
   "outputs": [],
   "source": [
    "model = SAR(\n",
    "    col_user=\"user_id\",\n",
    "    col_item=\"profile_id\",\n",
    "    col_rating=\"rating\",\n",
    "    similarity_type=\"jaccard\",\n",
    "    time_decay_coefficient=0,\n",
    "    normalize=True\n",
    ")"
   ]
  },
  {
   "cell_type": "code",
   "execution_count": 7,
   "metadata": {
    "colab": {},
    "colab_type": "code",
    "id": "7Fiqq2BGhMKD"
   },
   "outputs": [],
   "source": [
    "model.fit(train)"
   ]
  },
  {
   "cell_type": "code",
   "execution_count": 8,
   "metadata": {
    "colab": {
     "base_uri": "https://localhost:8080/",
     "height": 101
    },
    "colab_type": "code",
    "id": "AG55z3dVhNM4",
    "outputId": "fc5a6d0d-41ff-438e-bc96-0bd362862873"
   },
   "outputs": [
    {
     "name": "stderr",
     "output_type": "stream",
     "text": [
      "../reco_utils/recommender/sar/sar_singlenode.py:333: RuntimeWarning: invalid value encountered in true_divide\n",
      "  self.unity_user_affinity[user_ids, :].dot(self.item_similarity),\n",
      "Items found in test not seen during training, new items will have score of 0\n"
     ]
    }
   ],
   "source": [
    "top_k = model.recommend_k_items(test, remove_seen=True, normalize=True) # if we want just top K for users\n",
    "score = model.score(test, normalize=True) # if we want to predict all items for users\n",
    "predictions = model.predict(test, normalize=True) # if we want to predict the test set only, MAYBE NOT NORMALIZED TO SCALE ORIGINAL RATINGS!"
   ]
  },
  {
   "cell_type": "code",
   "execution_count": 112,
   "metadata": {},
   "outputs": [],
   "source": [
    "predictions = predictions.replace([np.inf, -np.inf], 0)"
   ]
  },
  {
   "cell_type": "code",
   "execution_count": 114,
   "metadata": {},
   "outputs": [
    {
     "data": {
      "text/plain": [
       "2.861099430521089"
      ]
     },
     "execution_count": 114,
     "metadata": {},
     "output_type": "execute_result"
    }
   ],
   "source": [
    "rmse(test, predictions, col_user='user_id', col_item='profile_id', col_rating='rating', col_prediction='prediction')"
   ]
  },
  {
   "cell_type": "code",
   "execution_count": 9,
   "metadata": {},
   "outputs": [],
   "source": [
    "\n",
    "f = open('model/SAR.pickle', 'wb')\n",
    "pickle.dump(model, f)  \n",
    "f.close()"
   ]
  },
  {
   "cell_type": "code",
   "execution_count": 120,
   "metadata": {},
   "outputs": [],
   "source": [
    "f = open('model/SAR.pickle','rb') \n",
    "loaded_model = pickle.load(f)\n",
    "f.close()"
   ]
  },
  {
   "cell_type": "code",
   "execution_count": 1,
   "metadata": {},
   "outputs": [
    {
     "ename": "NameError",
     "evalue": "name 'loaded_model' is not defined",
     "output_type": "error",
     "traceback": [
      "\u001b[0;31m---------------------------------------------------------------------------\u001b[0m",
      "\u001b[0;31mNameError\u001b[0m                                 Traceback (most recent call last)",
      "\u001b[0;32m<ipython-input-1-1a0ef1cc3383>\u001b[0m in \u001b[0;36m<module>\u001b[0;34m\u001b[0m\n\u001b[0;32m----> 1\u001b[0;31m \u001b[0mpredictions\u001b[0m \u001b[0;34m=\u001b[0m \u001b[0mloaded_model\u001b[0m\u001b[0;34m.\u001b[0m\u001b[0mpredict\u001b[0m\u001b[0;34m(\u001b[0m\u001b[0mtest\u001b[0m\u001b[0;34m,\u001b[0m \u001b[0mnormalize\u001b[0m\u001b[0;34m=\u001b[0m\u001b[0;32mTrue\u001b[0m\u001b[0;34m)\u001b[0m\u001b[0;34m\u001b[0m\u001b[0;34m\u001b[0m\u001b[0m\n\u001b[0m",
      "\u001b[0;31mNameError\u001b[0m: name 'loaded_model' is not defined"
     ]
    }
   ],
   "source": [
    "predictions = loaded_model.predict(test, normalize=True)"
   ]
  },
  {
   "cell_type": "code",
   "execution_count": 124,
   "metadata": {},
   "outputs": [],
   "source": [
    "predictions = predictions.replace([np.inf, -np.inf], 0)"
   ]
  },
  {
   "cell_type": "code",
   "execution_count": 125,
   "metadata": {},
   "outputs": [
    {
     "data": {
      "text/plain": [
       "2.861099430521089"
      ]
     },
     "execution_count": 125,
     "metadata": {},
     "output_type": "execute_result"
    }
   ],
   "source": [
    "rmse(test, predictions, col_user='user_id', col_item='profile_id', col_rating='rating', col_prediction='prediction')"
   ]
  },
  {
   "cell_type": "code",
   "execution_count": 126,
   "metadata": {},
   "outputs": [],
   "source": [
    "train.to_csv('../Data/train.csv')"
   ]
  },
  {
   "cell_type": "code",
   "execution_count": 127,
   "metadata": {},
   "outputs": [],
   "source": [
    "test.to_csv('../Data/test.csv')"
   ]
  },
  {
   "cell_type": "code",
   "execution_count": null,
   "metadata": {},
   "outputs": [],
   "source": []
  }
 ],
 "metadata": {
  "colab": {
   "name": "recsys-sar.ipynb",
   "provenance": []
  },
  "kernelspec": {
   "display_name": "Python 3",
   "language": "python",
   "name": "python3"
  },
  "language_info": {
   "codemirror_mode": {
    "name": "ipython",
    "version": 3
   },
   "file_extension": ".py",
   "mimetype": "text/x-python",
   "name": "python",
   "nbconvert_exporter": "python",
   "pygments_lexer": "ipython3",
   "version": "3.7.6"
  }
 },
 "nbformat": 4,
 "nbformat_minor": 1
}
