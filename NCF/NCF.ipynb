{
 "cells": [
  {
   "cell_type": "code",
   "execution_count": 4,
   "metadata": {},
   "outputs": [
    {
     "name": "stdout",
     "output_type": "stream",
     "text": [
      "A    reco_utils/README.md\n",
      "A    reco_utils/__init__.py\n",
      "A    reco_utils/azureml\n",
      "A    reco_utils/azureml/__init__.py\n",
      "A    reco_utils/azureml/aks_utils.py\n",
      "A    reco_utils/azureml/azureml_designer_modules\n",
      "A    reco_utils/azureml/azureml_designer_modules/entries\n",
      "A    reco_utils/azureml/azureml_designer_modules/entries/map_entry.py\n",
      "A    reco_utils/azureml/azureml_designer_modules/entries/ndcg_entry.py\n",
      "A    reco_utils/azureml/azureml_designer_modules/entries/precision_at_k_entry.py\n",
      "A    reco_utils/azureml/azureml_designer_modules/entries/recall_at_k_entry.py\n",
      "A    reco_utils/azureml/azureml_designer_modules/entries/score_sar_entry.py\n",
      "A    reco_utils/azureml/azureml_designer_modules/entries/stratified_splitter_entry.py\n",
      "A    reco_utils/azureml/azureml_designer_modules/entries/train_sar_entry.py\n",
      "A    reco_utils/azureml/azureml_designer_modules/module_specs\n",
      "A    reco_utils/azureml/azureml_designer_modules/module_specs/map.yaml\n",
      "A    reco_utils/azureml/azureml_designer_modules/module_specs/ndcg.yaml\n",
      "A    reco_utils/azureml/azureml_designer_modules/module_specs/precision_at_k.yaml\n",
      "A    reco_utils/azureml/azureml_designer_modules/module_specs/recall_at_k.yaml\n",
      "A    reco_utils/azureml/azureml_designer_modules/module_specs/sar_conda.yaml\n",
      "A    reco_utils/azureml/azureml_designer_modules/module_specs/sar_score.yaml\n",
      "A    reco_utils/azureml/azureml_designer_modules/module_specs/sar_train.yaml\n",
      "A    reco_utils/azureml/azureml_designer_modules/module_specs/stratified_splitter.yaml\n",
      "A    reco_utils/azureml/azureml_utils.py\n",
      "A    reco_utils/azureml/svd_training.py\n",
      "A    reco_utils/azureml/wide_deep_training.py\n",
      "A    reco_utils/common\n",
      "A    reco_utils/common/__init__.py\n",
      "A    reco_utils/common/constants.py\n",
      "A    reco_utils/common/general_utils.py\n",
      "A    reco_utils/common/gpu_utils.py\n",
      "A    reco_utils/common/notebook_memory_management.py\n",
      "A    reco_utils/common/notebook_utils.py\n",
      "A    reco_utils/common/plot.py\n",
      "A    reco_utils/common/python_utils.py\n",
      "A    reco_utils/common/spark_utils.py\n",
      "A    reco_utils/common/tf_utils.py\n",
      "A    reco_utils/common/timer.py\n",
      "A    reco_utils/dataset\n",
      "A    reco_utils/dataset/__init__.py\n",
      "A    reco_utils/dataset/amazon_reviews.py\n",
      "A    reco_utils/dataset/blob_utils.py\n",
      "A    reco_utils/dataset/cosmos_cli.py\n",
      "A    reco_utils/dataset/covid_utils.py\n",
      "A    reco_utils/dataset/criteo.py\n",
      "A    reco_utils/dataset/download_utils.py\n",
      "A    reco_utils/dataset/movielens.py\n",
      "A    reco_utils/dataset/pandas_df_utils.py\n",
      "A    reco_utils/dataset/python_splitters.py\n",
      "A    reco_utils/dataset/spark_splitters.py\n",
      "A    reco_utils/dataset/sparse.py\n",
      "A    reco_utils/dataset/split_utils.py\n",
      "A    reco_utils/dataset/wikidata.py\n",
      "A    reco_utils/evaluation\n",
      "A    reco_utils/evaluation/__init__.py\n",
      "A    reco_utils/evaluation/python_evaluation.py\n",
      "A    reco_utils/evaluation/spark_evaluation.py\n",
      "A    reco_utils/recommender\n",
      "A    reco_utils/recommender/__init__.py\n",
      "A    reco_utils/recommender/cornac\n",
      "A    reco_utils/recommender/cornac/__init__.py\n",
      "A    reco_utils/recommender/cornac/cornac_utils.py\n",
      "A    reco_utils/recommender/deeprec\n",
      "A    reco_utils/recommender/deeprec/__init__.py\n",
      "A    reco_utils/recommender/deeprec/config\n",
      "A    reco_utils/recommender/deeprec/config/asvd.yaml\n",
      "A    reco_utils/recommender/deeprec/config/caser.yaml\n",
      "A    reco_utils/recommender/deeprec/config/gru4rec.yaml\n",
      "A    reco_utils/recommender/deeprec/config/sli_rec.yaml\n",
      "A    reco_utils/recommender/deeprec/deeprec_utils.py\n",
      "A    reco_utils/recommender/deeprec/io\n",
      "A    reco_utils/recommender/deeprec/io/__init__.py\n",
      "A    reco_utils/recommender/deeprec/io/dkn_iterator.py\n",
      "A    reco_utils/recommender/deeprec/io/iterator.py\n",
      "A    reco_utils/recommender/deeprec/io/sequential_iterator.py\n",
      "A    reco_utils/recommender/deeprec/models\n",
      "A    reco_utils/recommender/deeprec/models/__init__.py\n",
      "A    reco_utils/recommender/deeprec/models/base_model.py\n",
      "A    reco_utils/recommender/deeprec/models/dkn.py\n",
      "A    reco_utils/recommender/deeprec/models/sequential\n",
      "A    reco_utils/recommender/deeprec/models/sequential/asvd.py\n",
      "A    reco_utils/recommender/deeprec/models/sequential/caser.py\n",
      "A    reco_utils/recommender/deeprec/models/sequential/gru4rec.py\n",
      "A    reco_utils/recommender/deeprec/models/sequential/rnn_cell_implement.py\n",
      "A    reco_utils/recommender/deeprec/models/sequential/sequential_base_model.py\n",
      "A    reco_utils/recommender/deeprec/models/sequential/sli_rec.py\n",
      "A    reco_utils/recommender/deeprec/models/xDeepFM.py\n",
      "A    reco_utils/recommender/fastai\n",
      "A    reco_utils/recommender/fastai/__init__.py\n",
      "A    reco_utils/recommender/fastai/fastai_utils.py\n",
      "A    reco_utils/recommender/lightfm\n",
      "A    reco_utils/recommender/lightfm/__init__.py\n",
      "A    reco_utils/recommender/lightfm/lightfm_utils.py\n",
      "A    reco_utils/recommender/lightgbm\n",
      "A    reco_utils/recommender/lightgbm/__init__.py\n",
      "A    reco_utils/recommender/lightgbm/lightgbm_utils.py\n",
      "A    reco_utils/recommender/ncf\n",
      "A    reco_utils/recommender/ncf/__init__.py\n",
      "A    reco_utils/recommender/ncf/dataset.py\n",
      "A    reco_utils/recommender/ncf/ncf_singlenode.py\n",
      "A    reco_utils/recommender/newsrec\n",
      "A    reco_utils/recommender/newsrec/__init__.py\n",
      "A    reco_utils/recommender/newsrec/io\n",
      "A    reco_utils/recommender/newsrec/io/__init__.py\n",
      "A    reco_utils/recommender/newsrec/io/naml_iterator.py\n",
      "A    reco_utils/recommender/newsrec/io/news_iterator.py\n",
      "A    reco_utils/recommender/newsrec/models\n",
      "A    reco_utils/recommender/newsrec/models/__init__.py\n",
      "A    reco_utils/recommender/newsrec/models/base_model.py\n",
      "A    reco_utils/recommender/newsrec/models/layers.py\n",
      "A    reco_utils/recommender/newsrec/models/lstur.py\n",
      "A    reco_utils/recommender/newsrec/models/naml.py\n",
      "A    reco_utils/recommender/newsrec/models/npa.py\n",
      "A    reco_utils/recommender/newsrec/models/nrms.py\n",
      "A    reco_utils/recommender/newsrec/newsrec_utils.py\n",
      "A    reco_utils/recommender/rbm\n",
      "A    reco_utils/recommender/rbm/__init__.py\n",
      "A    reco_utils/recommender/rbm/rbm.py\n",
      "A    reco_utils/recommender/rlrmc\n",
      "A    reco_utils/recommender/rlrmc/RLRMCalgorithm.py\n",
      "A    reco_utils/recommender/rlrmc/RLRMCdataset.py\n",
      "A    reco_utils/recommender/rlrmc/__init__.py\n",
      "A    reco_utils/recommender/rlrmc/conjugate_gradient_ms.py\n",
      "A    reco_utils/recommender/sar\n",
      "A    reco_utils/recommender/sar/__init__.py\n",
      "A    reco_utils/recommender/sar/sar_singlenode.py\n",
      "A    reco_utils/recommender/surprise\n",
      "A    reco_utils/recommender/surprise/__init__.py\n",
      "A    reco_utils/recommender/surprise/surprise_utils.py\n",
      "A    reco_utils/recommender/tfidf\n",
      "A    reco_utils/recommender/tfidf/__init__.py\n",
      "A    reco_utils/recommender/tfidf/tfidf_utils.py\n",
      "A    reco_utils/recommender/vowpal_wabbit\n",
      "A    reco_utils/recommender/vowpal_wabbit/__init__.py\n",
      "A    reco_utils/recommender/vowpal_wabbit/vw.py\n",
      "A    reco_utils/recommender/wide_deep\n",
      "A    reco_utils/recommender/wide_deep/__init__.py\n",
      "A    reco_utils/recommender/wide_deep/wide_deep_utils.py\n",
      "A    reco_utils/tuning\n",
      "A    reco_utils/tuning/__init__.py\n",
      "A    reco_utils/tuning/nni\n",
      "A    reco_utils/tuning/nni/ncf_training.py\n",
      "A    reco_utils/tuning/nni/ncf_utils.py\n",
      "A    reco_utils/tuning/nni/nni_utils.py\n",
      "A    reco_utils/tuning/nni/svd_training.py\n",
      "A    reco_utils/tuning/parameter_sweep.py\n",
      "Checked out revision 10104.\n"
     ]
    }
   ],
   "source": [
    "!svn checkout https://github.com/microsoft/recommenders/trunk/reco_utils"
   ]
  },
  {
   "cell_type": "code",
   "execution_count": 3,
   "metadata": {},
   "outputs": [
    {
     "name": "stdout",
     "output_type": "stream",
     "text": [
      "System version: 3.7.6 (default, Dec 19 2019, 23:50:13) \n",
      "[GCC 7.4.0]\n",
      "Pandas version: 0.25.3\n",
      "Tensorflow version: 1.15.2\n"
     ]
    }
   ],
   "source": [
    "import sys\n",
    "import time\n",
    "import pandas as pd\n",
    "\n",
    "import tensorflow as tf\n",
    "tf.logging.set_verbosity(tf.logging.ERROR)\n",
    "\n",
    "from reco_utils.recommender.ncf.ncf_singlenode import NCF\n",
    "from reco_utils.recommender.ncf.dataset import Dataset as NCFDataset\n",
    "from reco_utils.dataset import movielens\n",
    "from reco_utils.common.notebook_utils import is_jupyter\n",
    "from reco_utils.dataset.python_splitters import python_chrono_split\n",
    "from reco_utils.evaluation.python_evaluation import (rmse, mae, rsquared, exp_var, map_at_k, ndcg_at_k, precision_at_k, \n",
    "                                               recall_at_k, get_top_k_items)\n",
    "\n",
    "print(\"System version: {}\".format(sys.version))\n",
    "print(\"Pandas version: {}\".format(pd.__version__))\n",
    "print(\"Tensorflow version: {}\".format(tf.__version__))"
   ]
  },
  {
   "cell_type": "code",
   "execution_count": 4,
   "metadata": {},
   "outputs": [],
   "source": [
    "tf.logging.set_verbosity(tf.logging.ERROR)"
   ]
  },
  {
   "cell_type": "code",
   "execution_count": 5,
   "metadata": {},
   "outputs": [],
   "source": [
    "# top k items to recommend\n",
    "TOP_K = 10\n",
    "\n",
    "# Model parameters\n",
    "EPOCHS = 5\n",
    "BATCH_SIZE = 256\n",
    "\n",
    "SEED = 42"
   ]
  },
  {
   "cell_type": "code",
   "execution_count": 6,
   "metadata": {},
   "outputs": [],
   "source": [
    "df = pd.read_csv('../Data/ratings.csv', names = ['userID', 'itemID', 'rating'])"
   ]
  },
  {
   "cell_type": "code",
   "execution_count": 7,
   "metadata": {},
   "outputs": [],
   "source": [
    "df = df[:50000]"
   ]
  },
  {
   "cell_type": "code",
   "execution_count": 8,
   "metadata": {},
   "outputs": [
    {
     "name": "stdout",
     "output_type": "stream",
     "text": [
      "27042\n",
      "325\n"
     ]
    }
   ],
   "source": [
    "print(len(df['itemID'].unique()))\n",
    "print(len(df['userID'].unique()))"
   ]
  },
  {
   "cell_type": "code",
   "execution_count": 9,
   "metadata": {},
   "outputs": [],
   "source": [
    "df['timestamp'] = range(50000)"
   ]
  },
  {
   "cell_type": "code",
   "execution_count": 10,
   "metadata": {},
   "outputs": [],
   "source": [
    "train, test = python_chrono_split(df, 0.75)"
   ]
  },
  {
   "cell_type": "code",
   "execution_count": 11,
   "metadata": {},
   "outputs": [],
   "source": [
    "data = NCFDataset(train=train, test=test, seed=SEED)"
   ]
  },
  {
   "cell_type": "code",
   "execution_count": 12,
   "metadata": {},
   "outputs": [],
   "source": [
    "model = NCF (\n",
    "    n_users=data.n_users, \n",
    "    n_items=data.n_items,\n",
    "    model_type=\"NeuMF\",\n",
    "    n_factors=4,\n",
    "    layer_sizes=[16,8,4],\n",
    "    n_epochs=EPOCHS,\n",
    "    batch_size=BATCH_SIZE,\n",
    "    learning_rate=1e-3,\n",
    "    verbose=1,\n",
    "    seed=SEED\n",
    ")"
   ]
  },
  {
   "cell_type": "code",
   "execution_count": 13,
   "metadata": {},
   "outputs": [
    {
     "name": "stdout",
     "output_type": "stream",
     "text": [
      "Epoch 1 [7.49s]: train_loss = 0.513784 \n",
      "Epoch 2 [7.59s]: train_loss = 0.448289 \n",
      "Epoch 3 [7.39s]: train_loss = 0.385378 \n",
      "Epoch 4 [7.67s]: train_loss = 0.334699 \n",
      "Epoch 5 [7.30s]: train_loss = 0.298456 \n",
      "Took 37.43812942504883 seconds for training.\n"
     ]
    }
   ],
   "source": [
    "start_time = time.time()\n",
    "\n",
    "model.fit(data)\n",
    "\n",
    "train_time = time.time() - start_time\n",
    "\n",
    "print(\"Took {} seconds for training.\".format(train_time))"
   ]
  },
  {
   "cell_type": "code",
   "execution_count": 14,
   "metadata": {},
   "outputs": [
    {
     "name": "stdout",
     "output_type": "stream",
     "text": [
      "Took 9.038759469985962 seconds for prediction.\n"
     ]
    }
   ],
   "source": [
    "start_time = time.time()\n",
    "\n",
    "users, items, preds = [], [], []\n",
    "item = list(train.itemID.unique())\n",
    "for user in train.userID.unique():\n",
    "    user = [user] * len(item) \n",
    "    users.extend(user)\n",
    "    items.extend(item)\n",
    "    preds.extend(list(model.predict(user, item, is_list=True)))\n",
    "\n",
    "all_predictions = pd.DataFrame(data={\"userID\": users, \"itemID\":items, \"prediction\":preds})\n",
    "\n",
    "merged = pd.merge(train, all_predictions, on=[\"userID\", \"itemID\"], how=\"outer\")\n",
    "all_predictions = merged[merged.rating.isnull()].drop('rating', axis=1)\n",
    "\n",
    "test_time = time.time() - start_time\n",
    "print(\"Took {} seconds for prediction.\".format(test_time))"
   ]
  },
  {
   "cell_type": "code",
   "execution_count": 15,
   "metadata": {},
   "outputs": [
    {
     "name": "stdout",
     "output_type": "stream",
     "text": [
      "MAP:\t0.000920\n",
      "NDCG:\t0.006844\n",
      "Precision@K:\t0.007077\n",
      "Recall@K:\t0.004493\n"
     ]
    }
   ],
   "source": [
    "eval_map = map_at_k(test, all_predictions, col_prediction='prediction', k=TOP_K)\n",
    "eval_ndcg = ndcg_at_k(test, all_predictions, col_prediction='prediction', k=TOP_K)\n",
    "eval_precision = precision_at_k(test, all_predictions, col_prediction='prediction', k=TOP_K)\n",
    "eval_recall = recall_at_k(test, all_predictions, col_prediction='prediction', k=TOP_K)\n",
    "\n",
    "print(\"MAP:\\t%f\" % eval_map,\n",
    "      \"NDCG:\\t%f\" % eval_ndcg,\n",
    "      \"Precision@K:\\t%f\" % eval_precision,\n",
    "      \"Recall@K:\\t%f\" % eval_recall, sep='\\n')"
   ]
  },
  {
   "cell_type": "code",
   "execution_count": null,
   "metadata": {},
   "outputs": [],
   "source": []
  }
 ],
 "metadata": {
  "kernelspec": {
   "display_name": "Rec systems",
   "language": "python",
   "name": "mark"
  },
  "language_info": {
   "codemirror_mode": {
    "name": "ipython",
    "version": 3
   },
   "file_extension": ".py",
   "mimetype": "text/x-python",
   "name": "python",
   "nbconvert_exporter": "python",
   "pygments_lexer": "ipython3",
   "version": "3.7.6"
  }
 },
 "nbformat": 4,
 "nbformat_minor": 2
}
