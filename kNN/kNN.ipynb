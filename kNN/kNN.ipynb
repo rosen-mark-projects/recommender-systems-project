{
  "nbformat": 4,
  "nbformat_minor": 0,
  "metadata": {
    "colab": {
      "name": "recsys-knn.ipynb",
      "provenance": [],
      "collapsed_sections": []
    },
    "kernelspec": {
      "name": "python3",
      "display_name": "Python 3"
    }
  },
  "cells": [
    {
      "cell_type": "code",
      "metadata": {
        "id": "-rZvPT6cX1eE",
        "colab_type": "code",
        "colab": {}
      },
      "source": [
        "import pandas as pd\n",
        "import numpy as np\n",
        "from surprise import accuracy\n",
        "from surprise.model_selection import train_test_split\n",
        "from surprise import KNNBasic\n",
        "from surprise.model_selection import KFold\n",
        "from surprise import Dataset\n",
        "from surprise import Reader"
      ],
      "execution_count": 3,
      "outputs": []
    },
    {
      "cell_type": "code",
      "metadata": {
        "id": "rMtPTy3ZX8x7",
        "colab_type": "code",
        "colab": {
          "base_uri": "https://localhost:8080/",
          "height": 202
        },
        "outputId": "d0a261d2-63a9-499c-fa0c-887c8693b061"
      },
      "source": [
        "!wget http://www.occamslab.com/petricek/data/ratings.dat"
      ],
      "execution_count": 4,
      "outputs": [
        {
          "output_type": "stream",
          "text": [
            "--2020-06-30 08:41:18--  http://www.occamslab.com/petricek/data/ratings.dat\n",
            "Resolving www.occamslab.com (www.occamslab.com)... 82.208.6.71\n",
            "Connecting to www.occamslab.com (www.occamslab.com)|82.208.6.71|:80... connected.\n",
            "HTTP request sent, awaiting response... 200 OK\n",
            "Length: 274354671 (262M) [text/plain]\n",
            "Saving to: ‘ratings.dat’\n",
            "\n",
            "ratings.dat         100%[===================>] 261.64M  1.21MB/s    in 3m 45s  \n",
            "\n",
            "2020-06-30 08:45:04 (1.16 MB/s) - ‘ratings.dat’ saved [274354671/274354671]\n",
            "\n"
          ],
          "name": "stdout"
        }
      ]
    },
    {
      "cell_type": "code",
      "metadata": {
        "id": "p66cM_VWYCjr",
        "colab_type": "code",
        "colab": {}
      },
      "source": [
        "reader = Reader(sep=',', rating_scale=(1,10), skip_lines=17000000)\n",
        "\n",
        "data = Dataset.load_from_file('ratings.dat', reader=reader)"
      ],
      "execution_count": 5,
      "outputs": []
    },
    {
      "cell_type": "code",
      "metadata": {
        "id": "BSCC7J3eYDGg",
        "colab_type": "code",
        "colab": {}
      },
      "source": [
        "kf = KFold(n_splits=5)\n",
        "options = {'name':'cosine'}\n",
        "knnModel = KNNBasic(sim_options=options)\n"
      ],
      "execution_count": 6,
      "outputs": []
    },
    {
      "cell_type": "code",
      "metadata": {
        "id": "18ByWvlpYERf",
        "colab_type": "code",
        "colab": {
          "base_uri": "https://localhost:8080/",
          "height": 269
        },
        "outputId": "3aca7a7b-7588-4461-cf0b-321ecbba2599"
      },
      "source": [
        "best_algo = None\n",
        "best_rmse = 1000.0\n",
        "best_pred = None\n",
        "for trainset, testset in kf.split(data):\n",
        "    # train and test algorithm.\n",
        "    knnModel.fit(trainset)\n",
        "    predictions = knnModel.test(testset)\n",
        "    # Compute and print Root Mean Squared Error\n",
        "    rmse = accuracy.rmse(predictions, verbose=True)\n",
        "    if rmse < best_rmse:\n",
        "        best_algo = knnModel\n",
        "        best_pred = predictions\n",
        "        best_rmse = rmse"
      ],
      "execution_count": 7,
      "outputs": [
        {
          "output_type": "stream",
          "text": [
            "Computing the cosine similarity matrix...\n",
            "Done computing similarity matrix.\n",
            "RMSE: 2.2843\n",
            "Computing the cosine similarity matrix...\n",
            "Done computing similarity matrix.\n",
            "RMSE: 2.2890\n",
            "Computing the cosine similarity matrix...\n",
            "Done computing similarity matrix.\n",
            "RMSE: 2.2983\n",
            "Computing the cosine similarity matrix...\n",
            "Done computing similarity matrix.\n",
            "RMSE: 2.2887\n",
            "Computing the cosine similarity matrix...\n",
            "Done computing similarity matrix.\n",
            "RMSE: 2.2891\n"
          ],
          "name": "stdout"
        }
      ]
    },
    {
      "cell_type": "code",
      "metadata": {
        "id": "mcJPFAhZYFoR",
        "colab_type": "code",
        "colab": {
          "base_uri": "https://localhost:8080/",
          "height": 34
        },
        "outputId": "289f9ffe-e085-4962-f170-92d518d941c4"
      },
      "source": [
        "neighbors = best_algo.get_neighbors(2900, k=4) # 2900 is the user id\n",
        "neighbors"
      ],
      "execution_count": 9,
      "outputs": [
        {
          "output_type": "execute_result",
          "data": {
            "text/plain": [
              "[12, 15, 20, 23]"
            ]
          },
          "metadata": {
            "tags": []
          },
          "execution_count": 9
        }
      ]
    }
  ]
}