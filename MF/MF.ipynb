{
  "nbformat": 4,
  "nbformat_minor": 0,
  "metadata": {
    "colab": {
      "name": "recsys-mf.ipynb",
      "provenance": [],
      "collapsed_sections": []
    },
    "kernelspec": {
      "name": "python3",
      "display_name": "Python 3"
    },
    "accelerator": "TPU"
  },
  "cells": [
    {
      "cell_type": "code",
      "metadata": {
        "id": "-L6L06TVZzw_",
        "colab_type": "code",
        "colab": {
          "base_uri": "https://localhost:8080/",
          "height": 722
        },
        "outputId": "84c5335c-514f-4a38-bb99-4f02c2b79fe0"
      },
      "source": [
        "# import os\n",
        "# import pprint\n",
        "# import tensorflow as tf\n",
        "\n",
        "# if 'COLAB_TPU_ADDR' not in os.environ:\n",
        "#   print('ERROR: Not connected to a TPU runtime; please see the first cell in this notebook for instructions!')\n",
        "# else:\n",
        "#   tpu_address = 'grpc://' + os.environ['COLAB_TPU_ADDR']\n",
        "#   print ('TPU address is', tpu_address)\n",
        "\n",
        "#   with tf.compat.v1.Session(tpu_address) as session:\n",
        "#     devices = session.list_devices()\n",
        "    \n",
        "#   print('TPU devices:')\n",
        "#   pprint.pprint(devices)\n",
        "\n",
        "%tensorflow_version 2.x\n",
        "import tensorflow as tf\n",
        "print(\"Tensorflow version \" + tf.__version__)\n",
        "\n",
        "try:\n",
        "  tpu = tf.distribute.cluster_resolver.TPUClusterResolver()  # TPU detection\n",
        "  print('Running on TPU ', tpu.cluster_spec().as_dict()['worker'])\n",
        "except ValueError:\n",
        "  raise BaseException('ERROR: Not connected to a TPU runtime; please see the previous cell in this notebook for instructions!')\n",
        "\n",
        "tf.config.experimental_connect_to_cluster(tpu)\n",
        "tf.tpu.experimental.initialize_tpu_system(tpu)\n",
        "tpu_strategy = tf.distribute.experimental.TPUStrategy(tpu)"
      ],
      "execution_count": null,
      "outputs": [
        {
          "output_type": "stream",
          "text": [
            "Tensorflow version 2.2.0\n",
            "Running on TPU  ['10.76.230.178:8470']\n",
            "INFO:tensorflow:Initializing the TPU system: grpc://10.76.230.178:8470\n"
          ],
          "name": "stdout"
        },
        {
          "output_type": "stream",
          "text": [
            "INFO:tensorflow:Initializing the TPU system: grpc://10.76.230.178:8470\n"
          ],
          "name": "stderr"
        },
        {
          "output_type": "stream",
          "text": [
            "INFO:tensorflow:Clearing out eager caches\n"
          ],
          "name": "stdout"
        },
        {
          "output_type": "stream",
          "text": [
            "INFO:tensorflow:Clearing out eager caches\n"
          ],
          "name": "stderr"
        },
        {
          "output_type": "stream",
          "text": [
            "INFO:tensorflow:Finished initializing TPU system.\n"
          ],
          "name": "stdout"
        },
        {
          "output_type": "stream",
          "text": [
            "INFO:tensorflow:Finished initializing TPU system.\n"
          ],
          "name": "stderr"
        },
        {
          "output_type": "stream",
          "text": [
            "INFO:tensorflow:Found TPU system:\n"
          ],
          "name": "stdout"
        },
        {
          "output_type": "stream",
          "text": [
            "INFO:tensorflow:Found TPU system:\n"
          ],
          "name": "stderr"
        },
        {
          "output_type": "stream",
          "text": [
            "INFO:tensorflow:*** Num TPU Cores: 8\n"
          ],
          "name": "stdout"
        },
        {
          "output_type": "stream",
          "text": [
            "INFO:tensorflow:*** Num TPU Cores: 8\n"
          ],
          "name": "stderr"
        },
        {
          "output_type": "stream",
          "text": [
            "INFO:tensorflow:*** Num TPU Workers: 1\n"
          ],
          "name": "stdout"
        },
        {
          "output_type": "stream",
          "text": [
            "INFO:tensorflow:*** Num TPU Workers: 1\n"
          ],
          "name": "stderr"
        },
        {
          "output_type": "stream",
          "text": [
            "INFO:tensorflow:*** Num TPU Cores Per Worker: 8\n"
          ],
          "name": "stdout"
        },
        {
          "output_type": "stream",
          "text": [
            "INFO:tensorflow:*** Num TPU Cores Per Worker: 8\n"
          ],
          "name": "stderr"
        },
        {
          "output_type": "stream",
          "text": [
            "INFO:tensorflow:*** Available Device: _DeviceAttributes(/job:localhost/replica:0/task:0/device:CPU:0, CPU, 0, 0)\n"
          ],
          "name": "stdout"
        },
        {
          "output_type": "stream",
          "text": [
            "INFO:tensorflow:*** Available Device: _DeviceAttributes(/job:localhost/replica:0/task:0/device:CPU:0, CPU, 0, 0)\n"
          ],
          "name": "stderr"
        },
        {
          "output_type": "stream",
          "text": [
            "INFO:tensorflow:*** Available Device: _DeviceAttributes(/job:localhost/replica:0/task:0/device:XLA_CPU:0, XLA_CPU, 0, 0)\n"
          ],
          "name": "stdout"
        },
        {
          "output_type": "stream",
          "text": [
            "INFO:tensorflow:*** Available Device: _DeviceAttributes(/job:localhost/replica:0/task:0/device:XLA_CPU:0, XLA_CPU, 0, 0)\n"
          ],
          "name": "stderr"
        },
        {
          "output_type": "stream",
          "text": [
            "INFO:tensorflow:*** Available Device: _DeviceAttributes(/job:worker/replica:0/task:0/device:CPU:0, CPU, 0, 0)\n"
          ],
          "name": "stdout"
        },
        {
          "output_type": "stream",
          "text": [
            "INFO:tensorflow:*** Available Device: _DeviceAttributes(/job:worker/replica:0/task:0/device:CPU:0, CPU, 0, 0)\n"
          ],
          "name": "stderr"
        },
        {
          "output_type": "stream",
          "text": [
            "INFO:tensorflow:*** Available Device: _DeviceAttributes(/job:worker/replica:0/task:0/device:TPU:0, TPU, 0, 0)\n"
          ],
          "name": "stdout"
        },
        {
          "output_type": "stream",
          "text": [
            "INFO:tensorflow:*** Available Device: _DeviceAttributes(/job:worker/replica:0/task:0/device:TPU:0, TPU, 0, 0)\n"
          ],
          "name": "stderr"
        },
        {
          "output_type": "stream",
          "text": [
            "INFO:tensorflow:*** Available Device: _DeviceAttributes(/job:worker/replica:0/task:0/device:TPU:1, TPU, 0, 0)\n"
          ],
          "name": "stdout"
        },
        {
          "output_type": "stream",
          "text": [
            "INFO:tensorflow:*** Available Device: _DeviceAttributes(/job:worker/replica:0/task:0/device:TPU:1, TPU, 0, 0)\n"
          ],
          "name": "stderr"
        },
        {
          "output_type": "stream",
          "text": [
            "INFO:tensorflow:*** Available Device: _DeviceAttributes(/job:worker/replica:0/task:0/device:TPU:2, TPU, 0, 0)\n"
          ],
          "name": "stdout"
        },
        {
          "output_type": "stream",
          "text": [
            "INFO:tensorflow:*** Available Device: _DeviceAttributes(/job:worker/replica:0/task:0/device:TPU:2, TPU, 0, 0)\n"
          ],
          "name": "stderr"
        },
        {
          "output_type": "stream",
          "text": [
            "INFO:tensorflow:*** Available Device: _DeviceAttributes(/job:worker/replica:0/task:0/device:TPU:3, TPU, 0, 0)\n"
          ],
          "name": "stdout"
        },
        {
          "output_type": "stream",
          "text": [
            "INFO:tensorflow:*** Available Device: _DeviceAttributes(/job:worker/replica:0/task:0/device:TPU:3, TPU, 0, 0)\n"
          ],
          "name": "stderr"
        },
        {
          "output_type": "stream",
          "text": [
            "INFO:tensorflow:*** Available Device: _DeviceAttributes(/job:worker/replica:0/task:0/device:TPU:4, TPU, 0, 0)\n"
          ],
          "name": "stdout"
        },
        {
          "output_type": "stream",
          "text": [
            "INFO:tensorflow:*** Available Device: _DeviceAttributes(/job:worker/replica:0/task:0/device:TPU:4, TPU, 0, 0)\n"
          ],
          "name": "stderr"
        },
        {
          "output_type": "stream",
          "text": [
            "INFO:tensorflow:*** Available Device: _DeviceAttributes(/job:worker/replica:0/task:0/device:TPU:5, TPU, 0, 0)\n"
          ],
          "name": "stdout"
        },
        {
          "output_type": "stream",
          "text": [
            "INFO:tensorflow:*** Available Device: _DeviceAttributes(/job:worker/replica:0/task:0/device:TPU:5, TPU, 0, 0)\n"
          ],
          "name": "stderr"
        },
        {
          "output_type": "stream",
          "text": [
            "INFO:tensorflow:*** Available Device: _DeviceAttributes(/job:worker/replica:0/task:0/device:TPU:6, TPU, 0, 0)\n"
          ],
          "name": "stdout"
        },
        {
          "output_type": "stream",
          "text": [
            "INFO:tensorflow:*** Available Device: _DeviceAttributes(/job:worker/replica:0/task:0/device:TPU:6, TPU, 0, 0)\n"
          ],
          "name": "stderr"
        },
        {
          "output_type": "stream",
          "text": [
            "INFO:tensorflow:*** Available Device: _DeviceAttributes(/job:worker/replica:0/task:0/device:TPU:7, TPU, 0, 0)\n"
          ],
          "name": "stdout"
        },
        {
          "output_type": "stream",
          "text": [
            "INFO:tensorflow:*** Available Device: _DeviceAttributes(/job:worker/replica:0/task:0/device:TPU:7, TPU, 0, 0)\n"
          ],
          "name": "stderr"
        },
        {
          "output_type": "stream",
          "text": [
            "INFO:tensorflow:*** Available Device: _DeviceAttributes(/job:worker/replica:0/task:0/device:TPU_SYSTEM:0, TPU_SYSTEM, 0, 0)\n"
          ],
          "name": "stdout"
        },
        {
          "output_type": "stream",
          "text": [
            "INFO:tensorflow:*** Available Device: _DeviceAttributes(/job:worker/replica:0/task:0/device:TPU_SYSTEM:0, TPU_SYSTEM, 0, 0)\n"
          ],
          "name": "stderr"
        },
        {
          "output_type": "stream",
          "text": [
            "INFO:tensorflow:*** Available Device: _DeviceAttributes(/job:worker/replica:0/task:0/device:XLA_CPU:0, XLA_CPU, 0, 0)\n"
          ],
          "name": "stdout"
        },
        {
          "output_type": "stream",
          "text": [
            "INFO:tensorflow:*** Available Device: _DeviceAttributes(/job:worker/replica:0/task:0/device:XLA_CPU:0, XLA_CPU, 0, 0)\n"
          ],
          "name": "stderr"
        }
      ]
    },
    {
      "cell_type": "code",
      "metadata": {
        "id": "mnw6EF1EaGFH",
        "colab_type": "code",
        "colab": {
          "base_uri": "https://localhost:8080/",
          "height": 34
        },
        "outputId": "1de2c097-3687-48a1-f405-f4d80a99e199"
      },
      "source": [
        "import keras\n",
        "from IPython.display import SVG\n",
        "from keras.optimizers import Adam\n",
        "from keras.utils.vis_utils import model_to_dot\n",
        "\n",
        "\n",
        "import pandas as pd\n",
        "import numpy as np\n",
        "import matplotlib.pyplot as plt\n",
        "\n",
        "from sklearn.model_selection import train_test_split\n",
        "\n",
        "import warnings\n",
        "warnings.filterwarnings('ignore')\n",
        "\n",
        "%matplotlib inline"
      ],
      "execution_count": null,
      "outputs": [
        {
          "output_type": "stream",
          "text": [
            "Using TensorFlow backend.\n"
          ],
          "name": "stderr"
        }
      ]
    },
    {
      "cell_type": "code",
      "metadata": {
        "id": "k3GRk2i2azD7",
        "colab_type": "code",
        "colab": {
          "base_uri": "https://localhost:8080/",
          "height": 202
        },
        "outputId": "ae5c5874-8181-44dd-8add-eb421585a845"
      },
      "source": [
        "!wget http://www.occamslab.com/petricek/data/ratings.dat"
      ],
      "execution_count": null,
      "outputs": [
        {
          "output_type": "stream",
          "text": [
            "--2020-06-29 21:04:37--  http://www.occamslab.com/petricek/data/ratings.dat\n",
            "Resolving www.occamslab.com (www.occamslab.com)... 82.208.6.71\n",
            "Connecting to www.occamslab.com (www.occamslab.com)|82.208.6.71|:80... connected.\n",
            "HTTP request sent, awaiting response... 200 OK\n",
            "Length: 274354671 (262M) [text/plain]\n",
            "Saving to: ‘ratings.dat’\n",
            "\n",
            "ratings.dat         100%[===================>] 261.64M  1.09MB/s    in 4m 8s   \n",
            "\n",
            "2020-06-29 21:08:45 (1.06 MB/s) - ‘ratings.dat’ saved [274354671/274354671]\n",
            "\n"
          ],
          "name": "stdout"
        }
      ]
    },
    {
      "cell_type": "code",
      "metadata": {
        "id": "c6e1KJRSeWUB",
        "colab_type": "code",
        "colab": {}
      },
      "source": [
        "ratings_df = pd.read_csv('ratings.dat', names=['user_id', 'profile_id', 'rating'])"
      ],
      "execution_count": null,
      "outputs": []
    },
    {
      "cell_type": "code",
      "metadata": {
        "id": "0mFnb2D-CUh3",
        "colab_type": "code",
        "colab": {
          "base_uri": "https://localhost:8080/",
          "height": 402
        },
        "outputId": "0a299073-92f5-45a1-c2f0-ad085cf8e94b"
      },
      "source": [
        "ratings_df"
      ],
      "execution_count": null,
      "outputs": [
        {
          "output_type": "execute_result",
          "data": {
            "text/html": [
              "<div>\n",
              "<style scoped>\n",
              "    .dataframe tbody tr th:only-of-type {\n",
              "        vertical-align: middle;\n",
              "    }\n",
              "\n",
              "    .dataframe tbody tr th {\n",
              "        vertical-align: top;\n",
              "    }\n",
              "\n",
              "    .dataframe thead th {\n",
              "        text-align: right;\n",
              "    }\n",
              "</style>\n",
              "<table border=\"1\" class=\"dataframe\">\n",
              "  <thead>\n",
              "    <tr style=\"text-align: right;\">\n",
              "      <th></th>\n",
              "      <th>user_id</th>\n",
              "      <th>profile_id</th>\n",
              "      <th>rating</th>\n",
              "    </tr>\n",
              "  </thead>\n",
              "  <tbody>\n",
              "    <tr>\n",
              "      <th>0</th>\n",
              "      <td>1</td>\n",
              "      <td>133</td>\n",
              "      <td>8</td>\n",
              "    </tr>\n",
              "    <tr>\n",
              "      <th>1</th>\n",
              "      <td>1</td>\n",
              "      <td>720</td>\n",
              "      <td>6</td>\n",
              "    </tr>\n",
              "    <tr>\n",
              "      <th>2</th>\n",
              "      <td>1</td>\n",
              "      <td>971</td>\n",
              "      <td>10</td>\n",
              "    </tr>\n",
              "    <tr>\n",
              "      <th>3</th>\n",
              "      <td>1</td>\n",
              "      <td>1095</td>\n",
              "      <td>7</td>\n",
              "    </tr>\n",
              "    <tr>\n",
              "      <th>4</th>\n",
              "      <td>1</td>\n",
              "      <td>1616</td>\n",
              "      <td>10</td>\n",
              "    </tr>\n",
              "    <tr>\n",
              "      <th>...</th>\n",
              "      <td>...</td>\n",
              "      <td>...</td>\n",
              "      <td>...</td>\n",
              "    </tr>\n",
              "    <tr>\n",
              "      <th>17359341</th>\n",
              "      <td>135359</td>\n",
              "      <td>215145</td>\n",
              "      <td>8</td>\n",
              "    </tr>\n",
              "    <tr>\n",
              "      <th>17359342</th>\n",
              "      <td>135359</td>\n",
              "      <td>215718</td>\n",
              "      <td>4</td>\n",
              "    </tr>\n",
              "    <tr>\n",
              "      <th>17359343</th>\n",
              "      <td>135359</td>\n",
              "      <td>218646</td>\n",
              "      <td>10</td>\n",
              "    </tr>\n",
              "    <tr>\n",
              "      <th>17359344</th>\n",
              "      <td>135359</td>\n",
              "      <td>218857</td>\n",
              "      <td>7</td>\n",
              "    </tr>\n",
              "    <tr>\n",
              "      <th>17359345</th>\n",
              "      <td>135359</td>\n",
              "      <td>218988</td>\n",
              "      <td>5</td>\n",
              "    </tr>\n",
              "  </tbody>\n",
              "</table>\n",
              "<p>17359346 rows × 3 columns</p>\n",
              "</div>"
            ],
            "text/plain": [
              "          user_id  profile_id  rating\n",
              "0               1         133       8\n",
              "1               1         720       6\n",
              "2               1         971      10\n",
              "3               1        1095       7\n",
              "4               1        1616      10\n",
              "...           ...         ...     ...\n",
              "17359341   135359      215145       8\n",
              "17359342   135359      215718       4\n",
              "17359343   135359      218646      10\n",
              "17359344   135359      218857       7\n",
              "17359345   135359      218988       5\n",
              "\n",
              "[17359346 rows x 3 columns]"
            ]
          },
          "metadata": {
            "tags": []
          },
          "execution_count": 29
        }
      ]
    },
    {
      "cell_type": "markdown",
      "metadata": {
        "id": "oTAFP0bMwmXC",
        "colab_type": "text"
      },
      "source": [
        "# Matrix factorization"
      ]
    },
    {
      "cell_type": "code",
      "metadata": {
        "id": "UyQDy2KonQMW",
        "colab_type": "code",
        "colab": {}
      },
      "source": [
        "ratings_df = ratings_df[:100000]"
      ],
      "execution_count": null,
      "outputs": []
    },
    {
      "cell_type": "code",
      "metadata": {
        "id": "FnqJHFA3fvp6",
        "colab_type": "code",
        "colab": {}
      },
      "source": [
        "ratings_df.rating = ratings_df.rating / 10"
      ],
      "execution_count": null,
      "outputs": []
    },
    {
      "cell_type": "code",
      "metadata": {
        "id": "djGD314DjgTM",
        "colab_type": "code",
        "colab": {}
      },
      "source": [
        "ratings_df['user_id'] = ratings_df['user_id'].astype(np.int64)\n",
        "ratings_df['profile_id'] = ratings_df['profile_id'].astype(np.int64)"
      ],
      "execution_count": null,
      "outputs": []
    },
    {
      "cell_type": "code",
      "metadata": {
        "id": "8ff3TrsmjaRA",
        "colab_type": "code",
        "colab": {}
      },
      "source": [
        "train, test = train_test_split(ratings_df, test_size=0.3)"
      ],
      "execution_count": null,
      "outputs": []
    },
    {
      "cell_type": "code",
      "metadata": {
        "id": "99-SHLftja1o",
        "colab_type": "code",
        "colab": {
          "base_uri": "https://localhost:8080/",
          "height": 561
        },
        "outputId": "5a4047f3-0564-4592-ad01-5c4fcccad168"
      },
      "source": [
        "n_users, n_profiles = max(ratings_df.user_id.unique()), max(ratings_df.profile_id.unique())\n",
        "n_latent_factors = 6\n",
        "\n",
        "profile_input = keras.layers.Input(shape=[1],name='Profile')\n",
        "profile_embedding = keras.layers.Embedding(n_profiles + 1, n_latent_factors, name='Profile-Embedding')(profile_input)\n",
        "profile_vec = keras.layers.Flatten(name='FlattenProfiles')(profile_embedding)\n",
        "\n",
        "user_input = keras.layers.Input(shape=[1],name='User')\n",
        "user_embedding = keras.layers.Embedding(n_users + 1, n_latent_factors,name='User-Embedding')(user_input)\n",
        "user_vec = keras.layers.Flatten(name='FlattenUsers')(user_embedding)\n",
        "\n",
        "prod = keras.layers.dot([profile_vec, user_vec],axes=1, name= 'DotProduct')\n",
        "\n",
        "dense_1 = keras.layers.Dense(120, activation='relu', name='FullyConnected')(prod)\n",
        "bn_1 = keras.layers.BatchNormalization()(dense_1)\n",
        "\n",
        "dense_2 = keras.layers.Dense(100, activation='relu', name='FullyConnected-1')(bn_1)\n",
        "bn_2 = keras.layers.BatchNormalization()(dense_2)\n",
        "\n",
        "result = keras.layers.Dense(1, activation='sigmoid',name='Activation')(bn_2)\n",
        "\n",
        "model = keras.Model([user_input, profile_input], result)\n",
        "model.compile('adam', 'mean_squared_error')\n",
        "\n",
        "SVG(model_to_dot(model,  show_shapes=True, show_layer_names=True, rankdir='HB').create(prog='dot', format='svg'))"
      ],
      "execution_count": null,
      "outputs": [
        {
          "output_type": "execute_result",
          "data": {
            "text/plain": [
              "<IPython.core.display.SVG object>"
            ],
            "image/svg+xml": "<svg height=\"405pt\" viewBox=\"0.00 0.00 708.00 304.00\" width=\"944pt\" xmlns=\"http://www.w3.org/2000/svg\" xmlns:xlink=\"http://www.w3.org/1999/xlink\">\n<g class=\"graph\" id=\"graph0\" transform=\"scale(1.3333 1.3333) rotate(0) translate(4 300)\">\n<title>G</title>\n<polygon fill=\"#ffffff\" points=\"-4,4 -4,-300 704,-300 704,4 -4,4\" stroke=\"transparent\"/>\n<!-- 140217381198424 -->\n<g class=\"node\" id=\"node1\">\n<title>140217381198424</title>\n<polygon fill=\"none\" points=\"45.5,-249.5 45.5,-295.5 301.5,-295.5 301.5,-249.5 45.5,-249.5\" stroke=\"#000000\"/>\n<text fill=\"#000000\" font-family=\"Times,serif\" font-size=\"14.00\" text-anchor=\"middle\" x=\"108.5\" y=\"-268.8\">Profile: InputLayer</text>\n<polyline fill=\"none\" points=\"171.5,-249.5 171.5,-295.5 \" stroke=\"#000000\"/>\n<text fill=\"#000000\" font-family=\"Times,serif\" font-size=\"14.00\" text-anchor=\"middle\" x=\"200.5\" y=\"-280.3\">input:</text>\n<polyline fill=\"none\" points=\"171.5,-272.5 229.5,-272.5 \" stroke=\"#000000\"/>\n<text fill=\"#000000\" font-family=\"Times,serif\" font-size=\"14.00\" text-anchor=\"middle\" x=\"200.5\" y=\"-257.3\">output:</text>\n<polyline fill=\"none\" points=\"229.5,-249.5 229.5,-295.5 \" stroke=\"#000000\"/>\n<text fill=\"#000000\" font-family=\"Times,serif\" font-size=\"14.00\" text-anchor=\"middle\" x=\"265.5\" y=\"-280.3\">(None, 1)</text>\n<polyline fill=\"none\" points=\"229.5,-272.5 301.5,-272.5 \" stroke=\"#000000\"/>\n<text fill=\"#000000\" font-family=\"Times,serif\" font-size=\"14.00\" text-anchor=\"middle\" x=\"265.5\" y=\"-257.3\">(None, 1)</text>\n</g>\n<!-- 140217381198536 -->\n<g class=\"node\" id=\"node3\">\n<title>140217381198536</title>\n<polygon fill=\"none\" points=\"0,-166.5 0,-212.5 347,-212.5 347,-166.5 0,-166.5\" stroke=\"#000000\"/>\n<text fill=\"#000000\" font-family=\"Times,serif\" font-size=\"14.00\" text-anchor=\"middle\" x=\"101\" y=\"-185.8\">Profile-Embedding: Embedding</text>\n<polyline fill=\"none\" points=\"202,-166.5 202,-212.5 \" stroke=\"#000000\"/>\n<text fill=\"#000000\" font-family=\"Times,serif\" font-size=\"14.00\" text-anchor=\"middle\" x=\"231\" y=\"-197.3\">input:</text>\n<polyline fill=\"none\" points=\"202,-189.5 260,-189.5 \" stroke=\"#000000\"/>\n<text fill=\"#000000\" font-family=\"Times,serif\" font-size=\"14.00\" text-anchor=\"middle\" x=\"231\" y=\"-174.3\">output:</text>\n<polyline fill=\"none\" points=\"260,-166.5 260,-212.5 \" stroke=\"#000000\"/>\n<text fill=\"#000000\" font-family=\"Times,serif\" font-size=\"14.00\" text-anchor=\"middle\" x=\"303.5\" y=\"-197.3\">(None, 1)</text>\n<polyline fill=\"none\" points=\"260,-189.5 347,-189.5 \" stroke=\"#000000\"/>\n<text fill=\"#000000\" font-family=\"Times,serif\" font-size=\"14.00\" text-anchor=\"middle\" x=\"303.5\" y=\"-174.3\">(None, 1, 6)</text>\n</g>\n<!-- 140217381198424&#45;&gt;140217381198536 -->\n<g class=\"edge\" id=\"edge1\">\n<title>140217381198424-&gt;140217381198536</title>\n<path d=\"M173.5,-249.3799C173.5,-241.1745 173.5,-231.7679 173.5,-222.8786\" fill=\"none\" stroke=\"#000000\"/>\n<polygon fill=\"#000000\" points=\"177.0001,-222.784 173.5,-212.784 170.0001,-222.784 177.0001,-222.784\" stroke=\"#000000\"/>\n</g>\n<!-- 140217381198592 -->\n<g class=\"node\" id=\"node2\">\n<title>140217381198592</title>\n<polygon fill=\"none\" points=\"410.5,-249.5 410.5,-295.5 654.5,-295.5 654.5,-249.5 410.5,-249.5\" stroke=\"#000000\"/>\n<text fill=\"#000000\" font-family=\"Times,serif\" font-size=\"14.00\" text-anchor=\"middle\" x=\"467.5\" y=\"-268.8\">User: InputLayer</text>\n<polyline fill=\"none\" points=\"524.5,-249.5 524.5,-295.5 \" stroke=\"#000000\"/>\n<text fill=\"#000000\" font-family=\"Times,serif\" font-size=\"14.00\" text-anchor=\"middle\" x=\"553.5\" y=\"-280.3\">input:</text>\n<polyline fill=\"none\" points=\"524.5,-272.5 582.5,-272.5 \" stroke=\"#000000\"/>\n<text fill=\"#000000\" font-family=\"Times,serif\" font-size=\"14.00\" text-anchor=\"middle\" x=\"553.5\" y=\"-257.3\">output:</text>\n<polyline fill=\"none\" points=\"582.5,-249.5 582.5,-295.5 \" stroke=\"#000000\"/>\n<text fill=\"#000000\" font-family=\"Times,serif\" font-size=\"14.00\" text-anchor=\"middle\" x=\"618.5\" y=\"-280.3\">(None, 1)</text>\n<polyline fill=\"none\" points=\"582.5,-272.5 654.5,-272.5 \" stroke=\"#000000\"/>\n<text fill=\"#000000\" font-family=\"Times,serif\" font-size=\"14.00\" text-anchor=\"middle\" x=\"618.5\" y=\"-257.3\">(None, 1)</text>\n</g>\n<!-- 140217381198816 -->\n<g class=\"node\" id=\"node4\">\n<title>140217381198816</title>\n<polygon fill=\"none\" points=\"365,-166.5 365,-212.5 700,-212.5 700,-166.5 365,-166.5\" stroke=\"#000000\"/>\n<text fill=\"#000000\" font-family=\"Times,serif\" font-size=\"14.00\" text-anchor=\"middle\" x=\"460\" y=\"-185.8\">User-Embedding: Embedding</text>\n<polyline fill=\"none\" points=\"555,-166.5 555,-212.5 \" stroke=\"#000000\"/>\n<text fill=\"#000000\" font-family=\"Times,serif\" font-size=\"14.00\" text-anchor=\"middle\" x=\"584\" y=\"-197.3\">input:</text>\n<polyline fill=\"none\" points=\"555,-189.5 613,-189.5 \" stroke=\"#000000\"/>\n<text fill=\"#000000\" font-family=\"Times,serif\" font-size=\"14.00\" text-anchor=\"middle\" x=\"584\" y=\"-174.3\">output:</text>\n<polyline fill=\"none\" points=\"613,-166.5 613,-212.5 \" stroke=\"#000000\"/>\n<text fill=\"#000000\" font-family=\"Times,serif\" font-size=\"14.00\" text-anchor=\"middle\" x=\"656.5\" y=\"-197.3\">(None, 1)</text>\n<polyline fill=\"none\" points=\"613,-189.5 700,-189.5 \" stroke=\"#000000\"/>\n<text fill=\"#000000\" font-family=\"Times,serif\" font-size=\"14.00\" text-anchor=\"middle\" x=\"656.5\" y=\"-174.3\">(None, 1, 6)</text>\n</g>\n<!-- 140217381198592&#45;&gt;140217381198816 -->\n<g class=\"edge\" id=\"edge2\">\n<title>140217381198592-&gt;140217381198816</title>\n<path d=\"M532.5,-249.3799C532.5,-241.1745 532.5,-231.7679 532.5,-222.8786\" fill=\"none\" stroke=\"#000000\"/>\n<polygon fill=\"#000000\" points=\"536.0001,-222.784 532.5,-212.784 529.0001,-222.784 536.0001,-222.784\" stroke=\"#000000\"/>\n</g>\n<!-- 140217381198480 -->\n<g class=\"node\" id=\"node5\">\n<title>140217381198480</title>\n<polygon fill=\"none\" points=\"56,-83.5 56,-129.5 347,-129.5 347,-83.5 56,-83.5\" stroke=\"#000000\"/>\n<text fill=\"#000000\" font-family=\"Times,serif\" font-size=\"14.00\" text-anchor=\"middle\" x=\"129\" y=\"-102.8\">FlattenProfiles: Flatten</text>\n<polyline fill=\"none\" points=\"202,-83.5 202,-129.5 \" stroke=\"#000000\"/>\n<text fill=\"#000000\" font-family=\"Times,serif\" font-size=\"14.00\" text-anchor=\"middle\" x=\"231\" y=\"-114.3\">input:</text>\n<polyline fill=\"none\" points=\"202,-106.5 260,-106.5 \" stroke=\"#000000\"/>\n<text fill=\"#000000\" font-family=\"Times,serif\" font-size=\"14.00\" text-anchor=\"middle\" x=\"231\" y=\"-91.3\">output:</text>\n<polyline fill=\"none\" points=\"260,-83.5 260,-129.5 \" stroke=\"#000000\"/>\n<text fill=\"#000000\" font-family=\"Times,serif\" font-size=\"14.00\" text-anchor=\"middle\" x=\"303.5\" y=\"-114.3\">(None, 1, 6)</text>\n<polyline fill=\"none\" points=\"260,-106.5 347,-106.5 \" stroke=\"#000000\"/>\n<text fill=\"#000000\" font-family=\"Times,serif\" font-size=\"14.00\" text-anchor=\"middle\" x=\"303.5\" y=\"-91.3\">(None, 6)</text>\n</g>\n<!-- 140217381198536&#45;&gt;140217381198480 -->\n<g class=\"edge\" id=\"edge3\">\n<title>140217381198536-&gt;140217381198480</title>\n<path d=\"M181.2996,-166.3799C184.1278,-157.9962 187.3791,-148.3584 190.4351,-139.2996\" fill=\"none\" stroke=\"#000000\"/>\n<polygon fill=\"#000000\" points=\"193.765,-140.3782 193.6452,-129.784 187.1322,-138.1406 193.765,-140.3782\" stroke=\"#000000\"/>\n</g>\n<!-- 140217381198872 -->\n<g class=\"node\" id=\"node6\">\n<title>140217381198872</title>\n<polygon fill=\"none\" points=\"379,-83.5 379,-129.5 658,-129.5 658,-83.5 379,-83.5\" stroke=\"#000000\"/>\n<text fill=\"#000000\" font-family=\"Times,serif\" font-size=\"14.00\" text-anchor=\"middle\" x=\"446\" y=\"-102.8\">FlattenUsers: Flatten</text>\n<polyline fill=\"none\" points=\"513,-83.5 513,-129.5 \" stroke=\"#000000\"/>\n<text fill=\"#000000\" font-family=\"Times,serif\" font-size=\"14.00\" text-anchor=\"middle\" x=\"542\" y=\"-114.3\">input:</text>\n<polyline fill=\"none\" points=\"513,-106.5 571,-106.5 \" stroke=\"#000000\"/>\n<text fill=\"#000000\" font-family=\"Times,serif\" font-size=\"14.00\" text-anchor=\"middle\" x=\"542\" y=\"-91.3\">output:</text>\n<polyline fill=\"none\" points=\"571,-83.5 571,-129.5 \" stroke=\"#000000\"/>\n<text fill=\"#000000\" font-family=\"Times,serif\" font-size=\"14.00\" text-anchor=\"middle\" x=\"614.5\" y=\"-114.3\">(None, 1, 6)</text>\n<polyline fill=\"none\" points=\"571,-106.5 658,-106.5 \" stroke=\"#000000\"/>\n<text fill=\"#000000\" font-family=\"Times,serif\" font-size=\"14.00\" text-anchor=\"middle\" x=\"614.5\" y=\"-91.3\">(None, 6)</text>\n</g>\n<!-- 140217381198816&#45;&gt;140217381198872 -->\n<g class=\"edge\" id=\"edge4\">\n<title>140217381198816-&gt;140217381198872</title>\n<path d=\"M528.6002,-166.3799C527.2162,-158.1745 525.6295,-148.7679 524.1301,-139.8786\" fill=\"none\" stroke=\"#000000\"/>\n<polygon fill=\"#000000\" points=\"527.542,-139.0625 522.4274,-129.784 520.6395,-140.2269 527.542,-139.0625\" stroke=\"#000000\"/>\n</g>\n<!-- 140217381198760 -->\n<g class=\"node\" id=\"node7\">\n<title>140217381198760</title>\n<polygon fill=\"none\" points=\"195,-.5 195,-46.5 510,-46.5 510,-.5 195,-.5\" stroke=\"#000000\"/>\n<text fill=\"#000000\" font-family=\"Times,serif\" font-size=\"14.00\" text-anchor=\"middle\" x=\"251.5\" y=\"-19.8\">DotProduct: Dot</text>\n<polyline fill=\"none\" points=\"308,-.5 308,-46.5 \" stroke=\"#000000\"/>\n<text fill=\"#000000\" font-family=\"Times,serif\" font-size=\"14.00\" text-anchor=\"middle\" x=\"337\" y=\"-31.3\">input:</text>\n<polyline fill=\"none\" points=\"308,-23.5 366,-23.5 \" stroke=\"#000000\"/>\n<text fill=\"#000000\" font-family=\"Times,serif\" font-size=\"14.00\" text-anchor=\"middle\" x=\"337\" y=\"-8.3\">output:</text>\n<polyline fill=\"none\" points=\"366,-.5 366,-46.5 \" stroke=\"#000000\"/>\n<text fill=\"#000000\" font-family=\"Times,serif\" font-size=\"14.00\" text-anchor=\"middle\" x=\"438\" y=\"-31.3\">[(None, 6), (None, 6)]</text>\n<polyline fill=\"none\" points=\"366,-23.5 510,-23.5 \" stroke=\"#000000\"/>\n<text fill=\"#000000\" font-family=\"Times,serif\" font-size=\"14.00\" text-anchor=\"middle\" x=\"438\" y=\"-8.3\">(None, 1)</text>\n</g>\n<!-- 140217381198480&#45;&gt;140217381198760 -->\n<g class=\"edge\" id=\"edge5\">\n<title>140217381198480-&gt;140217381198760</title>\n<path d=\"M243.5619,-83.3799C261.5668,-73.4832 282.7511,-61.8388 301.6285,-51.4625\" fill=\"none\" stroke=\"#000000\"/>\n<polygon fill=\"#000000\" points=\"303.3246,-54.5241 310.402,-46.6399 299.9527,-48.3898 303.3246,-54.5241\" stroke=\"#000000\"/>\n</g>\n<!-- 140217381198872&#45;&gt;140217381198760 -->\n<g class=\"edge\" id=\"edge6\">\n<title>140217381198872-&gt;140217381198760</title>\n<path d=\"M472.2597,-83.3799C452.2872,-73.3936 428.7558,-61.6279 407.8622,-51.1811\" fill=\"none\" stroke=\"#000000\"/>\n<polygon fill=\"#000000\" points=\"409.2894,-47.9816 398.7799,-46.6399 406.1589,-54.2426 409.2894,-47.9816\" stroke=\"#000000\"/>\n</g>\n</g>\n</svg>"
          },
          "metadata": {
            "tags": []
          },
          "execution_count": 32
        }
      ]
    },
    {
      "cell_type": "code",
      "metadata": {
        "id": "YMlX9lnfkZMS",
        "colab_type": "code",
        "colab": {
          "base_uri": "https://localhost:8080/",
          "height": 403
        },
        "outputId": "74e313c0-4d73-4824-c221-e05e0a0a47bb"
      },
      "source": [
        "model.summary()"
      ],
      "execution_count": null,
      "outputs": [
        {
          "output_type": "stream",
          "text": [
            "Model: \"model_4\"\n",
            "__________________________________________________________________________________________________\n",
            "Layer (type)                    Output Shape         Param #     Connected to                     \n",
            "==================================================================================================\n",
            "Profile (InputLayer)            (None, 1)            0                                            \n",
            "__________________________________________________________________________________________________\n",
            "User (InputLayer)               (None, 1)            0                                            \n",
            "__________________________________________________________________________________________________\n",
            "Profile-Embedding (Embedding)   (None, 1, 6)         1325724     Profile[0][0]                    \n",
            "__________________________________________________________________________________________________\n",
            "User-Embedding (Embedding)      (None, 1, 6)         4218        User[0][0]                       \n",
            "__________________________________________________________________________________________________\n",
            "FlattenProfiles (Flatten)       (None, 6)            0           Profile-Embedding[0][0]          \n",
            "__________________________________________________________________________________________________\n",
            "FlattenUsers (Flatten)          (None, 6)            0           User-Embedding[0][0]             \n",
            "__________________________________________________________________________________________________\n",
            "DotProduct (Dot)                (None, 1)            0           FlattenProfiles[0][0]            \n",
            "                                                                 FlattenUsers[0][0]               \n",
            "==================================================================================================\n",
            "Total params: 1,329,942\n",
            "Trainable params: 1,329,942\n",
            "Non-trainable params: 0\n",
            "__________________________________________________________________________________________________\n"
          ],
          "name": "stdout"
        }
      ]
    },
    {
      "cell_type": "code",
      "metadata": {
        "id": "apKbg0gIkbj3",
        "colab_type": "code",
        "colab": {
          "base_uri": "https://localhost:8080/",
          "height": 151
        },
        "outputId": "64fc9455-deae-44f0-eb0b-066b8c2b4bf6"
      },
      "source": [
        "history = model.fit([train['user_id'], train['profile_id']], train['rating'], epochs=4, verbose=1)"
      ],
      "execution_count": null,
      "outputs": [
        {
          "output_type": "stream",
          "text": [
            "Epoch 1/4\n",
            "70000/70000 [==============================] - 17s 247us/step - loss: 0.4327\n",
            "Epoch 2/4\n",
            "70000/70000 [==============================] - 17s 249us/step - loss: 0.2995\n",
            "Epoch 3/4\n",
            "70000/70000 [==============================] - 18s 255us/step - loss: 0.1521\n",
            "Epoch 4/4\n",
            "70000/70000 [==============================] - 18s 252us/step - loss: 0.0836\n"
          ],
          "name": "stdout"
        }
      ]
    },
    {
      "cell_type": "code",
      "metadata": {
        "id": "St6zigA1nu5O",
        "colab_type": "code",
        "colab": {
          "base_uri": "https://localhost:8080/",
          "height": 296
        },
        "outputId": "b17d8091-8ede-475e-b4b4-5a450a20ffa0"
      },
      "source": [
        "pd.Series(history.history['loss']).plot(logy=True)\n",
        "plt.xlabel(\"Epoch\")\n",
        "plt.ylabel(\"Train Error\")"
      ],
      "execution_count": null,
      "outputs": [
        {
          "output_type": "execute_result",
          "data": {
            "text/plain": [
              "Text(0, 0.5, 'Train Error')"
            ]
          },
          "metadata": {
            "tags": []
          },
          "execution_count": 35
        },
        {
          "output_type": "display_data",
          "data": {
            "image/png": "[encoded data removed]",
            "text/plain": [
              "<Figure size 432x288 with 1 Axes>"
            ]
          },
          "metadata": {
            "tags": [],
            "needs_background": "light"
          }
        }
      ]
    },
    {
      "cell_type": "code",
      "metadata": {
        "id": "Qc-RXuEBoqLG",
        "colab_type": "code",
        "colab": {}
      },
      "source": [
        "y_hat = np.round(model.predict([test.user_id, test.profile_id]) * 10, 0)\n",
        "y_true = test.rating * 10"
      ],
      "execution_count": null,
      "outputs": []
    },
    {
      "cell_type": "code",
      "metadata": {
        "id": "FuT_UTxDoyoX",
        "colab_type": "code",
        "colab": {
          "base_uri": "https://localhost:8080/",
          "height": 34
        },
        "outputId": "cd07a330-499c-42f2-c948-efdb84375496"
      },
      "source": [
        "from sklearn.metrics import mean_absolute_error\n",
        "mean_absolute_error(y_true, y_hat)"
      ],
      "execution_count": null,
      "outputs": [
        {
          "output_type": "execute_result",
          "data": {
            "text/plain": [
              "3.1510333333333334"
            ]
          },
          "metadata": {
            "tags": []
          },
          "execution_count": 37
        }
      ]
    },
    {
      "cell_type": "code",
      "metadata": {
        "id": "uCs-glxAsyAk",
        "colab_type": "code",
        "colab": {}
      },
      "source": [
        ""
      ],
      "execution_count": null,
      "outputs": []
    }
  ]
}