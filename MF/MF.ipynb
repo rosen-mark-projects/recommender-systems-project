{
  "nbformat": 4,
  "nbformat_minor": 0,
  "metadata": {
    "colab": {
      "name": "recsys-mf.ipynb",
      "provenance": [],
      "collapsed_sections": [],
      "toc_visible": true
    },
    "kernelspec": {
      "name": "python3",
      "display_name": "Python 3"
    },
    "accelerator": "TPU"
  },
  "cells": [
    {
      "cell_type": "code",
      "metadata": {
        "id": "-L6L06TVZzw_",
        "colab_type": "code",
        "colab": {
          "base_uri": "https://localhost:8080/",
          "height": 756
        },
        "outputId": "f1d1869e-ac6e-482c-d434-a3a42df6226e"
      },
      "source": [
        "# import os\n",
        "# import pprint\n",
        "# import tensorflow as tf\n",
        "\n",
        "# if 'COLAB_TPU_ADDR' not in os.environ:\n",
        "#   print('ERROR: Not connected to a TPU runtime; please see the first cell in this notebook for instructions!')\n",
        "# else:\n",
        "#   tpu_address = 'grpc://' + os.environ['COLAB_TPU_ADDR']\n",
        "#   print ('TPU address is', tpu_address)\n",
        "\n",
        "#   with tf.compat.v1.Session(tpu_address) as session:\n",
        "#     devices = session.list_devices()\n",
        "    \n",
        "#   print('TPU devices:')\n",
        "#   pprint.pprint(devices)\n",
        "\n",
        "%tensorflow_version 2.x\n",
        "import tensorflow as tf\n",
        "print(\"Tensorflow version \" + tf.__version__)\n",
        "\n",
        "try:\n",
        "  tpu = tf.distribute.cluster_resolver.TPUClusterResolver()  # TPU detection\n",
        "  print('Running on TPU ', tpu.cluster_spec().as_dict()['worker'])\n",
        "except ValueError:\n",
        "  raise BaseException('ERROR: Not connected to a TPU runtime; please see the previous cell in this notebook for instructions!')\n",
        "\n",
        "tf.config.experimental_connect_to_cluster(tpu)\n",
        "tf.tpu.experimental.initialize_tpu_system(tpu)\n",
        "tpu_strategy = tf.distribute.experimental.TPUStrategy(tpu)"
      ],
      "execution_count": 34,
      "outputs": [
        {
          "output_type": "stream",
          "text": [
            "Tensorflow version 2.2.0\n",
            "Running on TPU  ['10.55.44.170:8470']\n",
            "WARNING:tensorflow:TPU system grpc://10.55.44.170:8470 has already been initialized. Reinitializing the TPU can cause previously created variables on TPU to be lost.\n"
          ],
          "name": "stdout"
        },
        {
          "output_type": "stream",
          "text": [
            "WARNING:tensorflow:TPU system grpc://10.55.44.170:8470 has already been initialized. Reinitializing the TPU can cause previously created variables on TPU to be lost.\n"
          ],
          "name": "stderr"
        },
        {
          "output_type": "stream",
          "text": [
            "INFO:tensorflow:Initializing the TPU system: grpc://10.55.44.170:8470\n"
          ],
          "name": "stdout"
        },
        {
          "output_type": "stream",
          "text": [
            "INFO:tensorflow:Initializing the TPU system: grpc://10.55.44.170:8470\n"
          ],
          "name": "stderr"
        },
        {
          "output_type": "stream",
          "text": [
            "INFO:tensorflow:Clearing out eager caches\n"
          ],
          "name": "stdout"
        },
        {
          "output_type": "stream",
          "text": [
            "INFO:tensorflow:Clearing out eager caches\n"
          ],
          "name": "stderr"
        },
        {
          "output_type": "stream",
          "text": [
            "INFO:tensorflow:Finished initializing TPU system.\n"
          ],
          "name": "stdout"
        },
        {
          "output_type": "stream",
          "text": [
            "INFO:tensorflow:Finished initializing TPU system.\n"
          ],
          "name": "stderr"
        },
        {
          "output_type": "stream",
          "text": [
            "INFO:tensorflow:Found TPU system:\n"
          ],
          "name": "stdout"
        },
        {
          "output_type": "stream",
          "text": [
            "INFO:tensorflow:Found TPU system:\n"
          ],
          "name": "stderr"
        },
        {
          "output_type": "stream",
          "text": [
            "INFO:tensorflow:*** Num TPU Cores: 8\n"
          ],
          "name": "stdout"
        },
        {
          "output_type": "stream",
          "text": [
            "INFO:tensorflow:*** Num TPU Cores: 8\n"
          ],
          "name": "stderr"
        },
        {
          "output_type": "stream",
          "text": [
            "INFO:tensorflow:*** Num TPU Workers: 1\n"
          ],
          "name": "stdout"
        },
        {
          "output_type": "stream",
          "text": [
            "INFO:tensorflow:*** Num TPU Workers: 1\n"
          ],
          "name": "stderr"
        },
        {
          "output_type": "stream",
          "text": [
            "INFO:tensorflow:*** Num TPU Cores Per Worker: 8\n"
          ],
          "name": "stdout"
        },
        {
          "output_type": "stream",
          "text": [
            "INFO:tensorflow:*** Num TPU Cores Per Worker: 8\n"
          ],
          "name": "stderr"
        },
        {
          "output_type": "stream",
          "text": [
            "INFO:tensorflow:*** Available Device: _DeviceAttributes(/job:localhost/replica:0/task:0/device:CPU:0, CPU, 0, 0)\n"
          ],
          "name": "stdout"
        },
        {
          "output_type": "stream",
          "text": [
            "INFO:tensorflow:*** Available Device: _DeviceAttributes(/job:localhost/replica:0/task:0/device:CPU:0, CPU, 0, 0)\n"
          ],
          "name": "stderr"
        },
        {
          "output_type": "stream",
          "text": [
            "INFO:tensorflow:*** Available Device: _DeviceAttributes(/job:localhost/replica:0/task:0/device:XLA_CPU:0, XLA_CPU, 0, 0)\n"
          ],
          "name": "stdout"
        },
        {
          "output_type": "stream",
          "text": [
            "INFO:tensorflow:*** Available Device: _DeviceAttributes(/job:localhost/replica:0/task:0/device:XLA_CPU:0, XLA_CPU, 0, 0)\n"
          ],
          "name": "stderr"
        },
        {
          "output_type": "stream",
          "text": [
            "INFO:tensorflow:*** Available Device: _DeviceAttributes(/job:worker/replica:0/task:0/device:CPU:0, CPU, 0, 0)\n"
          ],
          "name": "stdout"
        },
        {
          "output_type": "stream",
          "text": [
            "INFO:tensorflow:*** Available Device: _DeviceAttributes(/job:worker/replica:0/task:0/device:CPU:0, CPU, 0, 0)\n"
          ],
          "name": "stderr"
        },
        {
          "output_type": "stream",
          "text": [
            "INFO:tensorflow:*** Available Device: _DeviceAttributes(/job:worker/replica:0/task:0/device:TPU:0, TPU, 0, 0)\n"
          ],
          "name": "stdout"
        },
        {
          "output_type": "stream",
          "text": [
            "INFO:tensorflow:*** Available Device: _DeviceAttributes(/job:worker/replica:0/task:0/device:TPU:0, TPU, 0, 0)\n"
          ],
          "name": "stderr"
        },
        {
          "output_type": "stream",
          "text": [
            "INFO:tensorflow:*** Available Device: _DeviceAttributes(/job:worker/replica:0/task:0/device:TPU:1, TPU, 0, 0)\n"
          ],
          "name": "stdout"
        },
        {
          "output_type": "stream",
          "text": [
            "INFO:tensorflow:*** Available Device: _DeviceAttributes(/job:worker/replica:0/task:0/device:TPU:1, TPU, 0, 0)\n"
          ],
          "name": "stderr"
        },
        {
          "output_type": "stream",
          "text": [
            "INFO:tensorflow:*** Available Device: _DeviceAttributes(/job:worker/replica:0/task:0/device:TPU:2, TPU, 0, 0)\n"
          ],
          "name": "stdout"
        },
        {
          "output_type": "stream",
          "text": [
            "INFO:tensorflow:*** Available Device: _DeviceAttributes(/job:worker/replica:0/task:0/device:TPU:2, TPU, 0, 0)\n"
          ],
          "name": "stderr"
        },
        {
          "output_type": "stream",
          "text": [
            "INFO:tensorflow:*** Available Device: _DeviceAttributes(/job:worker/replica:0/task:0/device:TPU:3, TPU, 0, 0)\n"
          ],
          "name": "stdout"
        },
        {
          "output_type": "stream",
          "text": [
            "INFO:tensorflow:*** Available Device: _DeviceAttributes(/job:worker/replica:0/task:0/device:TPU:3, TPU, 0, 0)\n"
          ],
          "name": "stderr"
        },
        {
          "output_type": "stream",
          "text": [
            "INFO:tensorflow:*** Available Device: _DeviceAttributes(/job:worker/replica:0/task:0/device:TPU:4, TPU, 0, 0)\n"
          ],
          "name": "stdout"
        },
        {
          "output_type": "stream",
          "text": [
            "INFO:tensorflow:*** Available Device: _DeviceAttributes(/job:worker/replica:0/task:0/device:TPU:4, TPU, 0, 0)\n"
          ],
          "name": "stderr"
        },
        {
          "output_type": "stream",
          "text": [
            "INFO:tensorflow:*** Available Device: _DeviceAttributes(/job:worker/replica:0/task:0/device:TPU:5, TPU, 0, 0)\n"
          ],
          "name": "stdout"
        },
        {
          "output_type": "stream",
          "text": [
            "INFO:tensorflow:*** Available Device: _DeviceAttributes(/job:worker/replica:0/task:0/device:TPU:5, TPU, 0, 0)\n"
          ],
          "name": "stderr"
        },
        {
          "output_type": "stream",
          "text": [
            "INFO:tensorflow:*** Available Device: _DeviceAttributes(/job:worker/replica:0/task:0/device:TPU:6, TPU, 0, 0)\n"
          ],
          "name": "stdout"
        },
        {
          "output_type": "stream",
          "text": [
            "INFO:tensorflow:*** Available Device: _DeviceAttributes(/job:worker/replica:0/task:0/device:TPU:6, TPU, 0, 0)\n"
          ],
          "name": "stderr"
        },
        {
          "output_type": "stream",
          "text": [
            "INFO:tensorflow:*** Available Device: _DeviceAttributes(/job:worker/replica:0/task:0/device:TPU:7, TPU, 0, 0)\n"
          ],
          "name": "stdout"
        },
        {
          "output_type": "stream",
          "text": [
            "INFO:tensorflow:*** Available Device: _DeviceAttributes(/job:worker/replica:0/task:0/device:TPU:7, TPU, 0, 0)\n"
          ],
          "name": "stderr"
        },
        {
          "output_type": "stream",
          "text": [
            "INFO:tensorflow:*** Available Device: _DeviceAttributes(/job:worker/replica:0/task:0/device:TPU_SYSTEM:0, TPU_SYSTEM, 0, 0)\n"
          ],
          "name": "stdout"
        },
        {
          "output_type": "stream",
          "text": [
            "INFO:tensorflow:*** Available Device: _DeviceAttributes(/job:worker/replica:0/task:0/device:TPU_SYSTEM:0, TPU_SYSTEM, 0, 0)\n"
          ],
          "name": "stderr"
        },
        {
          "output_type": "stream",
          "text": [
            "INFO:tensorflow:*** Available Device: _DeviceAttributes(/job:worker/replica:0/task:0/device:XLA_CPU:0, XLA_CPU, 0, 0)\n"
          ],
          "name": "stdout"
        },
        {
          "output_type": "stream",
          "text": [
            "INFO:tensorflow:*** Available Device: _DeviceAttributes(/job:worker/replica:0/task:0/device:XLA_CPU:0, XLA_CPU, 0, 0)\n"
          ],
          "name": "stderr"
        }
      ]
    },
    {
      "cell_type": "code",
      "metadata": {
        "id": "mnw6EF1EaGFH",
        "colab_type": "code",
        "colab": {}
      },
      "source": [
        "import keras\n",
        "from IPython.display import SVG\n",
        "from keras.optimizers import Adam\n",
        "from keras.utils.vis_utils import model_to_dot\n",
        "\n",
        "\n",
        "import pandas as pd\n",
        "import numpy as np\n",
        "import matplotlib.pyplot as plt\n",
        "from math import sqrt\n",
        "\n",
        "from sklearn.model_selection import train_test_split\n",
        "\n",
        "import warnings\n",
        "warnings.filterwarnings('ignore')\n",
        "\n",
        "%matplotlib inline"
      ],
      "execution_count": 35,
      "outputs": []
    },
    {
      "cell_type": "code",
      "metadata": {
        "id": "c6e1KJRSeWUB",
        "colab_type": "code",
        "colab": {}
      },
      "source": [
        "train = pd.read_csv('https://raw.githubusercontent.com/rosen-mark-projects/recommender-systems-project/master/Data/train.csv', names=['user_id', 'profile_id', 'rating']).astype(int)\n",
        "test = pd.read_csv('https://raw.githubusercontent.com/rosen-mark-projects/recommender-systems-project/master/Data/test.csv', names=['user_id', 'profile_id', 'rating']).astype(int)"
      ],
      "execution_count": 36,
      "outputs": []
    },
    {
      "cell_type": "code",
      "metadata": {
        "id": "0mFnb2D-CUh3",
        "colab_type": "code",
        "colab": {
          "base_uri": "https://localhost:8080/",
          "height": 402
        },
        "outputId": "77e1495a-a941-4937-ed2d-f3bf8cfeeb77"
      },
      "source": [
        "train"
      ],
      "execution_count": 37,
      "outputs": [
        {
          "output_type": "execute_result",
          "data": {
            "text/html": [
              "<div>\n",
              "<style scoped>\n",
              "    .dataframe tbody tr th:only-of-type {\n",
              "        vertical-align: middle;\n",
              "    }\n",
              "\n",
              "    .dataframe tbody tr th {\n",
              "        vertical-align: top;\n",
              "    }\n",
              "\n",
              "    .dataframe thead th {\n",
              "        text-align: right;\n",
              "    }\n",
              "</style>\n",
              "<table border=\"1\" class=\"dataframe\">\n",
              "  <thead>\n",
              "    <tr style=\"text-align: right;\">\n",
              "      <th></th>\n",
              "      <th>user_id</th>\n",
              "      <th>profile_id</th>\n",
              "      <th>rating</th>\n",
              "    </tr>\n",
              "  </thead>\n",
              "  <tbody>\n",
              "    <tr>\n",
              "      <th>0</th>\n",
              "      <td>0</td>\n",
              "      <td>1067</td>\n",
              "      <td>3</td>\n",
              "    </tr>\n",
              "    <tr>\n",
              "      <th>1</th>\n",
              "      <td>0</td>\n",
              "      <td>1575</td>\n",
              "      <td>1</td>\n",
              "    </tr>\n",
              "    <tr>\n",
              "      <th>2</th>\n",
              "      <td>0</td>\n",
              "      <td>653</td>\n",
              "      <td>1</td>\n",
              "    </tr>\n",
              "    <tr>\n",
              "      <th>3</th>\n",
              "      <td>0</td>\n",
              "      <td>1693</td>\n",
              "      <td>4</td>\n",
              "    </tr>\n",
              "    <tr>\n",
              "      <th>4</th>\n",
              "      <td>0</td>\n",
              "      <td>1296</td>\n",
              "      <td>6</td>\n",
              "    </tr>\n",
              "    <tr>\n",
              "      <th>...</th>\n",
              "      <td>...</td>\n",
              "      <td>...</td>\n",
              "      <td>...</td>\n",
              "    </tr>\n",
              "    <tr>\n",
              "      <th>82496</th>\n",
              "      <td>1999</td>\n",
              "      <td>715</td>\n",
              "      <td>4</td>\n",
              "    </tr>\n",
              "    <tr>\n",
              "      <th>82497</th>\n",
              "      <td>1999</td>\n",
              "      <td>297</td>\n",
              "      <td>1</td>\n",
              "    </tr>\n",
              "    <tr>\n",
              "      <th>82498</th>\n",
              "      <td>1999</td>\n",
              "      <td>1289</td>\n",
              "      <td>6</td>\n",
              "    </tr>\n",
              "    <tr>\n",
              "      <th>82499</th>\n",
              "      <td>1999</td>\n",
              "      <td>148</td>\n",
              "      <td>1</td>\n",
              "    </tr>\n",
              "    <tr>\n",
              "      <th>82500</th>\n",
              "      <td>1999</td>\n",
              "      <td>644</td>\n",
              "      <td>8</td>\n",
              "    </tr>\n",
              "  </tbody>\n",
              "</table>\n",
              "<p>82501 rows × 3 columns</p>\n",
              "</div>"
            ],
            "text/plain": [
              "       user_id  profile_id  rating\n",
              "0            0        1067       3\n",
              "1            0        1575       1\n",
              "2            0         653       1\n",
              "3            0        1693       4\n",
              "4            0        1296       6\n",
              "...        ...         ...     ...\n",
              "82496     1999         715       4\n",
              "82497     1999         297       1\n",
              "82498     1999        1289       6\n",
              "82499     1999         148       1\n",
              "82500     1999         644       8\n",
              "\n",
              "[82501 rows x 3 columns]"
            ]
          },
          "metadata": {
            "tags": []
          },
          "execution_count": 37
        }
      ]
    },
    {
      "cell_type": "markdown",
      "metadata": {
        "id": "oTAFP0bMwmXC",
        "colab_type": "text"
      },
      "source": [
        "# Matrix factorization"
      ]
    },
    {
      "cell_type": "code",
      "metadata": {
        "id": "FnqJHFA3fvp6",
        "colab_type": "code",
        "colab": {
          "base_uri": "https://localhost:8080/",
          "height": 402
        },
        "outputId": "05f3c59f-b58f-4788-89ac-a5660b65f037"
      },
      "source": [
        "train.rating = train.rating / 10\n",
        "test.rating = test.rating / 10\n",
        "test"
      ],
      "execution_count": 38,
      "outputs": [
        {
          "output_type": "execute_result",
          "data": {
            "text/html": [
              "<div>\n",
              "<style scoped>\n",
              "    .dataframe tbody tr th:only-of-type {\n",
              "        vertical-align: middle;\n",
              "    }\n",
              "\n",
              "    .dataframe tbody tr th {\n",
              "        vertical-align: top;\n",
              "    }\n",
              "\n",
              "    .dataframe thead th {\n",
              "        text-align: right;\n",
              "    }\n",
              "</style>\n",
              "<table border=\"1\" class=\"dataframe\">\n",
              "  <thead>\n",
              "    <tr style=\"text-align: right;\">\n",
              "      <th></th>\n",
              "      <th>user_id</th>\n",
              "      <th>profile_id</th>\n",
              "      <th>rating</th>\n",
              "    </tr>\n",
              "  </thead>\n",
              "  <tbody>\n",
              "    <tr>\n",
              "      <th>0</th>\n",
              "      <td>0</td>\n",
              "      <td>1826</td>\n",
              "      <td>1.0</td>\n",
              "    </tr>\n",
              "    <tr>\n",
              "      <th>1</th>\n",
              "      <td>0</td>\n",
              "      <td>300</td>\n",
              "      <td>0.8</td>\n",
              "    </tr>\n",
              "    <tr>\n",
              "      <th>2</th>\n",
              "      <td>0</td>\n",
              "      <td>1215</td>\n",
              "      <td>0.7</td>\n",
              "    </tr>\n",
              "    <tr>\n",
              "      <th>3</th>\n",
              "      <td>0</td>\n",
              "      <td>76</td>\n",
              "      <td>0.8</td>\n",
              "    </tr>\n",
              "    <tr>\n",
              "      <th>4</th>\n",
              "      <td>0</td>\n",
              "      <td>842</td>\n",
              "      <td>0.1</td>\n",
              "    </tr>\n",
              "    <tr>\n",
              "      <th>...</th>\n",
              "      <td>...</td>\n",
              "      <td>...</td>\n",
              "      <td>...</td>\n",
              "    </tr>\n",
              "    <tr>\n",
              "      <th>27517</th>\n",
              "      <td>1999</td>\n",
              "      <td>763</td>\n",
              "      <td>0.9</td>\n",
              "    </tr>\n",
              "    <tr>\n",
              "      <th>27518</th>\n",
              "      <td>1999</td>\n",
              "      <td>280</td>\n",
              "      <td>0.5</td>\n",
              "    </tr>\n",
              "    <tr>\n",
              "      <th>27519</th>\n",
              "      <td>1999</td>\n",
              "      <td>1615</td>\n",
              "      <td>0.4</td>\n",
              "    </tr>\n",
              "    <tr>\n",
              "      <th>27520</th>\n",
              "      <td>1999</td>\n",
              "      <td>1585</td>\n",
              "      <td>0.6</td>\n",
              "    </tr>\n",
              "    <tr>\n",
              "      <th>27521</th>\n",
              "      <td>1999</td>\n",
              "      <td>313</td>\n",
              "      <td>0.2</td>\n",
              "    </tr>\n",
              "  </tbody>\n",
              "</table>\n",
              "<p>27522 rows × 3 columns</p>\n",
              "</div>"
            ],
            "text/plain": [
              "       user_id  profile_id  rating\n",
              "0            0        1826     1.0\n",
              "1            0         300     0.8\n",
              "2            0        1215     0.7\n",
              "3            0          76     0.8\n",
              "4            0         842     0.1\n",
              "...        ...         ...     ...\n",
              "27517     1999         763     0.9\n",
              "27518     1999         280     0.5\n",
              "27519     1999        1615     0.4\n",
              "27520     1999        1585     0.6\n",
              "27521     1999         313     0.2\n",
              "\n",
              "[27522 rows x 3 columns]"
            ]
          },
          "metadata": {
            "tags": []
          },
          "execution_count": 38
        }
      ]
    },
    {
      "cell_type": "code",
      "metadata": {
        "id": "99-SHLftja1o",
        "colab_type": "code",
        "colab": {
          "base_uri": "https://localhost:8080/",
          "height": 1000
        },
        "outputId": "9edf1383-6f4b-4087-fc01-84a3e3961efe"
      },
      "source": [
        "n_users, n_profiles = max(train.user_id.unique()), max(train.profile_id.unique())\n",
        "n_latent_factors = 6\n",
        "\n",
        "profile_input = keras.layers.Input(shape=[1],name='Profile')\n",
        "profile_embedding = keras.layers.Embedding(n_profiles + 1, n_latent_factors, name='Profile-Embedding')(profile_input)\n",
        "profile_vec = keras.layers.Flatten(name='FlattenProfiles')(profile_embedding)\n",
        "\n",
        "user_input = keras.layers.Input(shape=[1],name='User')\n",
        "user_embedding = keras.layers.Embedding(n_users + 1, n_latent_factors,name='User-Embedding')(user_input)\n",
        "user_vec = keras.layers.Flatten(name='FlattenUsers')(user_embedding)\n",
        "\n",
        "prod = keras.layers.dot([profile_vec, user_vec],axes=1, name= 'DotProduct')\n",
        "\n",
        "dense_1 = keras.layers.Dense(120, activation='relu', name='FullyConnected')(prod)\n",
        "bn_1 = keras.layers.BatchNormalization()(dense_1)\n",
        "\n",
        "dense_2 = keras.layers.Dense(100, activation='relu', name='FullyConnected-1')(bn_1)\n",
        "bn_2 = keras.layers.BatchNormalization()(dense_2)\n",
        "\n",
        "result = keras.layers.Dense(1, activation='sigmoid',name='Activation')(bn_2)\n",
        "\n",
        "model = keras.Model([user_input, profile_input], result)\n",
        "model.compile('adam', 'mean_squared_error')\n",
        "\n",
        "SVG(model_to_dot(model,  show_shapes=True, show_layer_names=True, rankdir='HB').create(prog='dot', format='svg'))"
      ],
      "execution_count": 39,
      "outputs": [
        {
          "output_type": "execute_result",
          "data": {
            "text/plain": [
              "<IPython.core.display.SVG object>"
            ],
            "image/svg+xml": "<svg height=\"959pt\" viewBox=\"0.00 0.00 708.00 719.00\" width=\"944pt\" xmlns=\"http://www.w3.org/2000/svg\" xmlns:xlink=\"http://www.w3.org/1999/xlink\">\n<g class=\"graph\" id=\"graph0\" transform=\"scale(1.3333 1.3333) rotate(0) translate(4 715)\">\n<title>G</title>\n<polygon fill=\"#ffffff\" points=\"-4,4 -4,-715 704,-715 704,4 -4,4\" stroke=\"transparent\"/>\n<!-- 139972793604416 -->\n<g class=\"node\" id=\"node1\">\n<title>139972793604416</title>\n<polygon fill=\"none\" points=\"45.5,-664.5 45.5,-710.5 301.5,-710.5 301.5,-664.5 45.5,-664.5\" stroke=\"#000000\"/>\n<text fill=\"#000000\" font-family=\"Times,serif\" font-size=\"14.00\" text-anchor=\"middle\" x=\"108.5\" y=\"-683.8\">Profile: InputLayer</text>\n<polyline fill=\"none\" points=\"171.5,-664.5 171.5,-710.5 \" stroke=\"#000000\"/>\n<text fill=\"#000000\" font-family=\"Times,serif\" font-size=\"14.00\" text-anchor=\"middle\" x=\"200.5\" y=\"-695.3\">input:</text>\n<polyline fill=\"none\" points=\"171.5,-687.5 229.5,-687.5 \" stroke=\"#000000\"/>\n<text fill=\"#000000\" font-family=\"Times,serif\" font-size=\"14.00\" text-anchor=\"middle\" x=\"200.5\" y=\"-672.3\">output:</text>\n<polyline fill=\"none\" points=\"229.5,-664.5 229.5,-710.5 \" stroke=\"#000000\"/>\n<text fill=\"#000000\" font-family=\"Times,serif\" font-size=\"14.00\" text-anchor=\"middle\" x=\"265.5\" y=\"-695.3\">(None, 1)</text>\n<polyline fill=\"none\" points=\"229.5,-687.5 301.5,-687.5 \" stroke=\"#000000\"/>\n<text fill=\"#000000\" font-family=\"Times,serif\" font-size=\"14.00\" text-anchor=\"middle\" x=\"265.5\" y=\"-672.3\">(None, 1)</text>\n</g>\n<!-- 139972793604528 -->\n<g class=\"node\" id=\"node3\">\n<title>139972793604528</title>\n<polygon fill=\"none\" points=\"0,-581.5 0,-627.5 347,-627.5 347,-581.5 0,-581.5\" stroke=\"#000000\"/>\n<text fill=\"#000000\" font-family=\"Times,serif\" font-size=\"14.00\" text-anchor=\"middle\" x=\"101\" y=\"-600.8\">Profile-Embedding: Embedding</text>\n<polyline fill=\"none\" points=\"202,-581.5 202,-627.5 \" stroke=\"#000000\"/>\n<text fill=\"#000000\" font-family=\"Times,serif\" font-size=\"14.00\" text-anchor=\"middle\" x=\"231\" y=\"-612.3\">input:</text>\n<polyline fill=\"none\" points=\"202,-604.5 260,-604.5 \" stroke=\"#000000\"/>\n<text fill=\"#000000\" font-family=\"Times,serif\" font-size=\"14.00\" text-anchor=\"middle\" x=\"231\" y=\"-589.3\">output:</text>\n<polyline fill=\"none\" points=\"260,-581.5 260,-627.5 \" stroke=\"#000000\"/>\n<text fill=\"#000000\" font-family=\"Times,serif\" font-size=\"14.00\" text-anchor=\"middle\" x=\"303.5\" y=\"-612.3\">(None, 1)</text>\n<polyline fill=\"none\" points=\"260,-604.5 347,-604.5 \" stroke=\"#000000\"/>\n<text fill=\"#000000\" font-family=\"Times,serif\" font-size=\"14.00\" text-anchor=\"middle\" x=\"303.5\" y=\"-589.3\">(None, 1, 6)</text>\n</g>\n<!-- 139972793604416&#45;&gt;139972793604528 -->\n<g class=\"edge\" id=\"edge1\">\n<title>139972793604416-&gt;139972793604528</title>\n<path d=\"M173.5,-664.3799C173.5,-656.1745 173.5,-646.7679 173.5,-637.8786\" fill=\"none\" stroke=\"#000000\"/>\n<polygon fill=\"#000000\" points=\"177.0001,-637.784 173.5,-627.784 170.0001,-637.784 177.0001,-637.784\" stroke=\"#000000\"/>\n</g>\n<!-- 139972793604472 -->\n<g class=\"node\" id=\"node2\">\n<title>139972793604472</title>\n<polygon fill=\"none\" points=\"410.5,-664.5 410.5,-710.5 654.5,-710.5 654.5,-664.5 410.5,-664.5\" stroke=\"#000000\"/>\n<text fill=\"#000000\" font-family=\"Times,serif\" font-size=\"14.00\" text-anchor=\"middle\" x=\"467.5\" y=\"-683.8\">User: InputLayer</text>\n<polyline fill=\"none\" points=\"524.5,-664.5 524.5,-710.5 \" stroke=\"#000000\"/>\n<text fill=\"#000000\" font-family=\"Times,serif\" font-size=\"14.00\" text-anchor=\"middle\" x=\"553.5\" y=\"-695.3\">input:</text>\n<polyline fill=\"none\" points=\"524.5,-687.5 582.5,-687.5 \" stroke=\"#000000\"/>\n<text fill=\"#000000\" font-family=\"Times,serif\" font-size=\"14.00\" text-anchor=\"middle\" x=\"553.5\" y=\"-672.3\">output:</text>\n<polyline fill=\"none\" points=\"582.5,-664.5 582.5,-710.5 \" stroke=\"#000000\"/>\n<text fill=\"#000000\" font-family=\"Times,serif\" font-size=\"14.00\" text-anchor=\"middle\" x=\"618.5\" y=\"-695.3\">(None, 1)</text>\n<polyline fill=\"none\" points=\"582.5,-687.5 654.5,-687.5 \" stroke=\"#000000\"/>\n<text fill=\"#000000\" font-family=\"Times,serif\" font-size=\"14.00\" text-anchor=\"middle\" x=\"618.5\" y=\"-672.3\">(None, 1)</text>\n</g>\n<!-- 139972793604752 -->\n<g class=\"node\" id=\"node4\">\n<title>139972793604752</title>\n<polygon fill=\"none\" points=\"365,-581.5 365,-627.5 700,-627.5 700,-581.5 365,-581.5\" stroke=\"#000000\"/>\n<text fill=\"#000000\" font-family=\"Times,serif\" font-size=\"14.00\" text-anchor=\"middle\" x=\"460\" y=\"-600.8\">User-Embedding: Embedding</text>\n<polyline fill=\"none\" points=\"555,-581.5 555,-627.5 \" stroke=\"#000000\"/>\n<text fill=\"#000000\" font-family=\"Times,serif\" font-size=\"14.00\" text-anchor=\"middle\" x=\"584\" y=\"-612.3\">input:</text>\n<polyline fill=\"none\" points=\"555,-604.5 613,-604.5 \" stroke=\"#000000\"/>\n<text fill=\"#000000\" font-family=\"Times,serif\" font-size=\"14.00\" text-anchor=\"middle\" x=\"584\" y=\"-589.3\">output:</text>\n<polyline fill=\"none\" points=\"613,-581.5 613,-627.5 \" stroke=\"#000000\"/>\n<text fill=\"#000000\" font-family=\"Times,serif\" font-size=\"14.00\" text-anchor=\"middle\" x=\"656.5\" y=\"-612.3\">(None, 1)</text>\n<polyline fill=\"none\" points=\"613,-604.5 700,-604.5 \" stroke=\"#000000\"/>\n<text fill=\"#000000\" font-family=\"Times,serif\" font-size=\"14.00\" text-anchor=\"middle\" x=\"656.5\" y=\"-589.3\">(None, 1, 6)</text>\n</g>\n<!-- 139972793604472&#45;&gt;139972793604752 -->\n<g class=\"edge\" id=\"edge2\">\n<title>139972793604472-&gt;139972793604752</title>\n<path d=\"M532.5,-664.3799C532.5,-656.1745 532.5,-646.7679 532.5,-637.8786\" fill=\"none\" stroke=\"#000000\"/>\n<polygon fill=\"#000000\" points=\"536.0001,-637.784 532.5,-627.784 529.0001,-637.784 536.0001,-637.784\" stroke=\"#000000\"/>\n</g>\n<!-- 139972793604584 -->\n<g class=\"node\" id=\"node5\">\n<title>139972793604584</title>\n<polygon fill=\"none\" points=\"56,-498.5 56,-544.5 347,-544.5 347,-498.5 56,-498.5\" stroke=\"#000000\"/>\n<text fill=\"#000000\" font-family=\"Times,serif\" font-size=\"14.00\" text-anchor=\"middle\" x=\"129\" y=\"-517.8\">FlattenProfiles: Flatten</text>\n<polyline fill=\"none\" points=\"202,-498.5 202,-544.5 \" stroke=\"#000000\"/>\n<text fill=\"#000000\" font-family=\"Times,serif\" font-size=\"14.00\" text-anchor=\"middle\" x=\"231\" y=\"-529.3\">input:</text>\n<polyline fill=\"none\" points=\"202,-521.5 260,-521.5 \" stroke=\"#000000\"/>\n<text fill=\"#000000\" font-family=\"Times,serif\" font-size=\"14.00\" text-anchor=\"middle\" x=\"231\" y=\"-506.3\">output:</text>\n<polyline fill=\"none\" points=\"260,-498.5 260,-544.5 \" stroke=\"#000000\"/>\n<text fill=\"#000000\" font-family=\"Times,serif\" font-size=\"14.00\" text-anchor=\"middle\" x=\"303.5\" y=\"-529.3\">(None, 1, 6)</text>\n<polyline fill=\"none\" points=\"260,-521.5 347,-521.5 \" stroke=\"#000000\"/>\n<text fill=\"#000000\" font-family=\"Times,serif\" font-size=\"14.00\" text-anchor=\"middle\" x=\"303.5\" y=\"-506.3\">(None, 6)</text>\n</g>\n<!-- 139972793604528&#45;&gt;139972793604584 -->\n<g class=\"edge\" id=\"edge3\">\n<title>139972793604528-&gt;139972793604584</title>\n<path d=\"M181.2996,-581.3799C184.1278,-572.9962 187.3791,-563.3584 190.4351,-554.2996\" fill=\"none\" stroke=\"#000000\"/>\n<polygon fill=\"#000000\" points=\"193.765,-555.3782 193.6452,-544.784 187.1322,-553.1406 193.765,-555.3782\" stroke=\"#000000\"/>\n</g>\n<!-- 139972793604808 -->\n<g class=\"node\" id=\"node6\">\n<title>139972793604808</title>\n<polygon fill=\"none\" points=\"379,-498.5 379,-544.5 658,-544.5 658,-498.5 379,-498.5\" stroke=\"#000000\"/>\n<text fill=\"#000000\" font-family=\"Times,serif\" font-size=\"14.00\" text-anchor=\"middle\" x=\"446\" y=\"-517.8\">FlattenUsers: Flatten</text>\n<polyline fill=\"none\" points=\"513,-498.5 513,-544.5 \" stroke=\"#000000\"/>\n<text fill=\"#000000\" font-family=\"Times,serif\" font-size=\"14.00\" text-anchor=\"middle\" x=\"542\" y=\"-529.3\">input:</text>\n<polyline fill=\"none\" points=\"513,-521.5 571,-521.5 \" stroke=\"#000000\"/>\n<text fill=\"#000000\" font-family=\"Times,serif\" font-size=\"14.00\" text-anchor=\"middle\" x=\"542\" y=\"-506.3\">output:</text>\n<polyline fill=\"none\" points=\"571,-498.5 571,-544.5 \" stroke=\"#000000\"/>\n<text fill=\"#000000\" font-family=\"Times,serif\" font-size=\"14.00\" text-anchor=\"middle\" x=\"614.5\" y=\"-529.3\">(None, 1, 6)</text>\n<polyline fill=\"none\" points=\"571,-521.5 658,-521.5 \" stroke=\"#000000\"/>\n<text fill=\"#000000\" font-family=\"Times,serif\" font-size=\"14.00\" text-anchor=\"middle\" x=\"614.5\" y=\"-506.3\">(None, 6)</text>\n</g>\n<!-- 139972793604752&#45;&gt;139972793604808 -->\n<g class=\"edge\" id=\"edge4\">\n<title>139972793604752-&gt;139972793604808</title>\n<path d=\"M528.6002,-581.3799C527.2162,-573.1745 525.6295,-563.7679 524.1301,-554.8786\" fill=\"none\" stroke=\"#000000\"/>\n<polygon fill=\"#000000\" points=\"527.542,-554.0625 522.4274,-544.784 520.6395,-555.2269 527.542,-554.0625\" stroke=\"#000000\"/>\n</g>\n<!-- 139972793604696 -->\n<g class=\"node\" id=\"node7\">\n<title>139972793604696</title>\n<polygon fill=\"none\" points=\"195,-415.5 195,-461.5 510,-461.5 510,-415.5 195,-415.5\" stroke=\"#000000\"/>\n<text fill=\"#000000\" font-family=\"Times,serif\" font-size=\"14.00\" text-anchor=\"middle\" x=\"251.5\" y=\"-434.8\">DotProduct: Dot</text>\n<polyline fill=\"none\" points=\"308,-415.5 308,-461.5 \" stroke=\"#000000\"/>\n<text fill=\"#000000\" font-family=\"Times,serif\" font-size=\"14.00\" text-anchor=\"middle\" x=\"337\" y=\"-446.3\">input:</text>\n<polyline fill=\"none\" points=\"308,-438.5 366,-438.5 \" stroke=\"#000000\"/>\n<text fill=\"#000000\" font-family=\"Times,serif\" font-size=\"14.00\" text-anchor=\"middle\" x=\"337\" y=\"-423.3\">output:</text>\n<polyline fill=\"none\" points=\"366,-415.5 366,-461.5 \" stroke=\"#000000\"/>\n<text fill=\"#000000\" font-family=\"Times,serif\" font-size=\"14.00\" text-anchor=\"middle\" x=\"438\" y=\"-446.3\">[(None, 6), (None, 6)]</text>\n<polyline fill=\"none\" points=\"366,-438.5 510,-438.5 \" stroke=\"#000000\"/>\n<text fill=\"#000000\" font-family=\"Times,serif\" font-size=\"14.00\" text-anchor=\"middle\" x=\"438\" y=\"-423.3\">(None, 1)</text>\n</g>\n<!-- 139972793604584&#45;&gt;139972793604696 -->\n<g class=\"edge\" id=\"edge5\">\n<title>139972793604584-&gt;139972793604696</title>\n<path d=\"M243.5619,-498.3799C261.5668,-488.4832 282.7511,-476.8388 301.6285,-466.4625\" fill=\"none\" stroke=\"#000000\"/>\n<polygon fill=\"#000000\" points=\"303.3246,-469.5241 310.402,-461.6399 299.9527,-463.3898 303.3246,-469.5241\" stroke=\"#000000\"/>\n</g>\n<!-- 139972793604808&#45;&gt;139972793604696 -->\n<g class=\"edge\" id=\"edge6\">\n<title>139972793604808-&gt;139972793604696</title>\n<path d=\"M472.2597,-498.3799C452.2872,-488.3936 428.7558,-476.6279 407.8622,-466.1811\" fill=\"none\" stroke=\"#000000\"/>\n<polygon fill=\"#000000\" points=\"409.2894,-462.9816 398.7799,-461.6399 406.1589,-469.2426 409.2894,-462.9816\" stroke=\"#000000\"/>\n</g>\n<!-- 139972793542024 -->\n<g class=\"node\" id=\"node8\">\n<title>139972793542024</title>\n<polygon fill=\"none\" points=\"204,-332.5 204,-378.5 501,-378.5 501,-332.5 204,-332.5\" stroke=\"#000000\"/>\n<text fill=\"#000000\" font-family=\"Times,serif\" font-size=\"14.00\" text-anchor=\"middle\" x=\"280\" y=\"-351.8\">FullyConnected: Dense</text>\n<polyline fill=\"none\" points=\"356,-332.5 356,-378.5 \" stroke=\"#000000\"/>\n<text fill=\"#000000\" font-family=\"Times,serif\" font-size=\"14.00\" text-anchor=\"middle\" x=\"385\" y=\"-363.3\">input:</text>\n<polyline fill=\"none\" points=\"356,-355.5 414,-355.5 \" stroke=\"#000000\"/>\n<text fill=\"#000000\" font-family=\"Times,serif\" font-size=\"14.00\" text-anchor=\"middle\" x=\"385\" y=\"-340.3\">output:</text>\n<polyline fill=\"none\" points=\"414,-332.5 414,-378.5 \" stroke=\"#000000\"/>\n<text fill=\"#000000\" font-family=\"Times,serif\" font-size=\"14.00\" text-anchor=\"middle\" x=\"457.5\" y=\"-363.3\">(None, 1)</text>\n<polyline fill=\"none\" points=\"414,-355.5 501,-355.5 \" stroke=\"#000000\"/>\n<text fill=\"#000000\" font-family=\"Times,serif\" font-size=\"14.00\" text-anchor=\"middle\" x=\"457.5\" y=\"-340.3\">(None, 120)</text>\n</g>\n<!-- 139972793604696&#45;&gt;139972793542024 -->\n<g class=\"edge\" id=\"edge7\">\n<title>139972793604696-&gt;139972793542024</title>\n<path d=\"M352.5,-415.3799C352.5,-407.1745 352.5,-397.7679 352.5,-388.8786\" fill=\"none\" stroke=\"#000000\"/>\n<polygon fill=\"#000000\" points=\"356.0001,-388.784 352.5,-378.784 349.0001,-388.784 356.0001,-388.784\" stroke=\"#000000\"/>\n</g>\n<!-- 139972793605144 -->\n<g class=\"node\" id=\"node9\">\n<title>139972793605144</title>\n<polygon fill=\"none\" points=\"144.5,-249.5 144.5,-295.5 560.5,-295.5 560.5,-249.5 144.5,-249.5\" stroke=\"#000000\"/>\n<text fill=\"#000000\" font-family=\"Times,serif\" font-size=\"14.00\" text-anchor=\"middle\" x=\"280\" y=\"-268.8\">batch_normalization_5: BatchNormalization</text>\n<polyline fill=\"none\" points=\"415.5,-249.5 415.5,-295.5 \" stroke=\"#000000\"/>\n<text fill=\"#000000\" font-family=\"Times,serif\" font-size=\"14.00\" text-anchor=\"middle\" x=\"444.5\" y=\"-280.3\">input:</text>\n<polyline fill=\"none\" points=\"415.5,-272.5 473.5,-272.5 \" stroke=\"#000000\"/>\n<text fill=\"#000000\" font-family=\"Times,serif\" font-size=\"14.00\" text-anchor=\"middle\" x=\"444.5\" y=\"-257.3\">output:</text>\n<polyline fill=\"none\" points=\"473.5,-249.5 473.5,-295.5 \" stroke=\"#000000\"/>\n<text fill=\"#000000\" font-family=\"Times,serif\" font-size=\"14.00\" text-anchor=\"middle\" x=\"517\" y=\"-280.3\">(None, 120)</text>\n<polyline fill=\"none\" points=\"473.5,-272.5 560.5,-272.5 \" stroke=\"#000000\"/>\n<text fill=\"#000000\" font-family=\"Times,serif\" font-size=\"14.00\" text-anchor=\"middle\" x=\"517\" y=\"-257.3\">(None, 120)</text>\n</g>\n<!-- 139972793542024&#45;&gt;139972793605144 -->\n<g class=\"edge\" id=\"edge8\">\n<title>139972793542024-&gt;139972793605144</title>\n<path d=\"M352.5,-332.3799C352.5,-324.1745 352.5,-314.7679 352.5,-305.8786\" fill=\"none\" stroke=\"#000000\"/>\n<polygon fill=\"#000000\" points=\"356.0001,-305.784 352.5,-295.784 349.0001,-305.784 356.0001,-305.784\" stroke=\"#000000\"/>\n</g>\n<!-- 139972793601216 -->\n<g class=\"node\" id=\"node10\">\n<title>139972793601216</title>\n<polygon fill=\"none\" points=\"198,-166.5 198,-212.5 507,-212.5 507,-166.5 198,-166.5\" stroke=\"#000000\"/>\n<text fill=\"#000000\" font-family=\"Times,serif\" font-size=\"14.00\" text-anchor=\"middle\" x=\"280\" y=\"-185.8\">FullyConnected-1: Dense</text>\n<polyline fill=\"none\" points=\"362,-166.5 362,-212.5 \" stroke=\"#000000\"/>\n<text fill=\"#000000\" font-family=\"Times,serif\" font-size=\"14.00\" text-anchor=\"middle\" x=\"391\" y=\"-197.3\">input:</text>\n<polyline fill=\"none\" points=\"362,-189.5 420,-189.5 \" stroke=\"#000000\"/>\n<text fill=\"#000000\" font-family=\"Times,serif\" font-size=\"14.00\" text-anchor=\"middle\" x=\"391\" y=\"-174.3\">output:</text>\n<polyline fill=\"none\" points=\"420,-166.5 420,-212.5 \" stroke=\"#000000\"/>\n<text fill=\"#000000\" font-family=\"Times,serif\" font-size=\"14.00\" text-anchor=\"middle\" x=\"463.5\" y=\"-197.3\">(None, 120)</text>\n<polyline fill=\"none\" points=\"420,-189.5 507,-189.5 \" stroke=\"#000000\"/>\n<text fill=\"#000000\" font-family=\"Times,serif\" font-size=\"14.00\" text-anchor=\"middle\" x=\"463.5\" y=\"-174.3\">(None, 100)</text>\n</g>\n<!-- 139972793605144&#45;&gt;139972793601216 -->\n<g class=\"edge\" id=\"edge9\">\n<title>139972793605144-&gt;139972793601216</title>\n<path d=\"M352.5,-249.3799C352.5,-241.1745 352.5,-231.7679 352.5,-222.8786\" fill=\"none\" stroke=\"#000000\"/>\n<polygon fill=\"#000000\" points=\"356.0001,-222.784 352.5,-212.784 349.0001,-222.784 356.0001,-222.784\" stroke=\"#000000\"/>\n</g>\n<!-- 139972759542528 -->\n<g class=\"node\" id=\"node11\">\n<title>139972759542528</title>\n<polygon fill=\"none\" points=\"144.5,-83.5 144.5,-129.5 560.5,-129.5 560.5,-83.5 144.5,-83.5\" stroke=\"#000000\"/>\n<text fill=\"#000000\" font-family=\"Times,serif\" font-size=\"14.00\" text-anchor=\"middle\" x=\"280\" y=\"-102.8\">batch_normalization_6: BatchNormalization</text>\n<polyline fill=\"none\" points=\"415.5,-83.5 415.5,-129.5 \" stroke=\"#000000\"/>\n<text fill=\"#000000\" font-family=\"Times,serif\" font-size=\"14.00\" text-anchor=\"middle\" x=\"444.5\" y=\"-114.3\">input:</text>\n<polyline fill=\"none\" points=\"415.5,-106.5 473.5,-106.5 \" stroke=\"#000000\"/>\n<text fill=\"#000000\" font-family=\"Times,serif\" font-size=\"14.00\" text-anchor=\"middle\" x=\"444.5\" y=\"-91.3\">output:</text>\n<polyline fill=\"none\" points=\"473.5,-83.5 473.5,-129.5 \" stroke=\"#000000\"/>\n<text fill=\"#000000\" font-family=\"Times,serif\" font-size=\"14.00\" text-anchor=\"middle\" x=\"517\" y=\"-114.3\">(None, 100)</text>\n<polyline fill=\"none\" points=\"473.5,-106.5 560.5,-106.5 \" stroke=\"#000000\"/>\n<text fill=\"#000000\" font-family=\"Times,serif\" font-size=\"14.00\" text-anchor=\"middle\" x=\"517\" y=\"-91.3\">(None, 100)</text>\n</g>\n<!-- 139972793601216&#45;&gt;139972759542528 -->\n<g class=\"edge\" id=\"edge10\">\n<title>139972793601216-&gt;139972759542528</title>\n<path d=\"M352.5,-166.3799C352.5,-158.1745 352.5,-148.7679 352.5,-139.8786\" fill=\"none\" stroke=\"#000000\"/>\n<polygon fill=\"#000000\" points=\"356.0001,-139.784 352.5,-129.784 349.0001,-139.784 356.0001,-139.784\" stroke=\"#000000\"/>\n</g>\n<!-- 139972759541072 -->\n<g class=\"node\" id=\"node12\">\n<title>139972759541072</title>\n<polygon fill=\"none\" points=\"220.5,-.5 220.5,-46.5 484.5,-46.5 484.5,-.5 220.5,-.5\" stroke=\"#000000\"/>\n<text fill=\"#000000\" font-family=\"Times,serif\" font-size=\"14.00\" text-anchor=\"middle\" x=\"280\" y=\"-19.8\">Activation: Dense</text>\n<polyline fill=\"none\" points=\"339.5,-.5 339.5,-46.5 \" stroke=\"#000000\"/>\n<text fill=\"#000000\" font-family=\"Times,serif\" font-size=\"14.00\" text-anchor=\"middle\" x=\"368.5\" y=\"-31.3\">input:</text>\n<polyline fill=\"none\" points=\"339.5,-23.5 397.5,-23.5 \" stroke=\"#000000\"/>\n<text fill=\"#000000\" font-family=\"Times,serif\" font-size=\"14.00\" text-anchor=\"middle\" x=\"368.5\" y=\"-8.3\">output:</text>\n<polyline fill=\"none\" points=\"397.5,-.5 397.5,-46.5 \" stroke=\"#000000\"/>\n<text fill=\"#000000\" font-family=\"Times,serif\" font-size=\"14.00\" text-anchor=\"middle\" x=\"441\" y=\"-31.3\">(None, 100)</text>\n<polyline fill=\"none\" points=\"397.5,-23.5 484.5,-23.5 \" stroke=\"#000000\"/>\n<text fill=\"#000000\" font-family=\"Times,serif\" font-size=\"14.00\" text-anchor=\"middle\" x=\"441\" y=\"-8.3\">(None, 1)</text>\n</g>\n<!-- 139972759542528&#45;&gt;139972759541072 -->\n<g class=\"edge\" id=\"edge11\">\n<title>139972759542528-&gt;139972759541072</title>\n<path d=\"M352.5,-83.3799C352.5,-75.1745 352.5,-65.7679 352.5,-56.8786\" fill=\"none\" stroke=\"#000000\"/>\n<polygon fill=\"#000000\" points=\"356.0001,-56.784 352.5,-46.784 349.0001,-56.784 356.0001,-56.784\" stroke=\"#000000\"/>\n</g>\n</g>\n</svg>"
          },
          "metadata": {
            "tags": []
          },
          "execution_count": 39
        }
      ]
    },
    {
      "cell_type": "code",
      "metadata": {
        "id": "YMlX9lnfkZMS",
        "colab_type": "code",
        "colab": {
          "base_uri": "https://localhost:8080/",
          "height": 571
        },
        "outputId": "395e25db-7e1e-4b52-feff-0224ba72aacf"
      },
      "source": [
        "model.summary()"
      ],
      "execution_count": 40,
      "outputs": [
        {
          "output_type": "stream",
          "text": [
            "Model: \"model_3\"\n",
            "__________________________________________________________________________________________________\n",
            "Layer (type)                    Output Shape         Param #     Connected to                     \n",
            "==================================================================================================\n",
            "Profile (InputLayer)            (None, 1)            0                                            \n",
            "__________________________________________________________________________________________________\n",
            "User (InputLayer)               (None, 1)            0                                            \n",
            "__________________________________________________________________________________________________\n",
            "Profile-Embedding (Embedding)   (None, 1, 6)         12000       Profile[0][0]                    \n",
            "__________________________________________________________________________________________________\n",
            "User-Embedding (Embedding)      (None, 1, 6)         12000       User[0][0]                       \n",
            "__________________________________________________________________________________________________\n",
            "FlattenProfiles (Flatten)       (None, 6)            0           Profile-Embedding[0][0]          \n",
            "__________________________________________________________________________________________________\n",
            "FlattenUsers (Flatten)          (None, 6)            0           User-Embedding[0][0]             \n",
            "__________________________________________________________________________________________________\n",
            "DotProduct (Dot)                (None, 1)            0           FlattenProfiles[0][0]            \n",
            "                                                                 FlattenUsers[0][0]               \n",
            "__________________________________________________________________________________________________\n",
            "FullyConnected (Dense)          (None, 120)          240         DotProduct[0][0]                 \n",
            "__________________________________________________________________________________________________\n",
            "batch_normalization_5 (BatchNor (None, 120)          480         FullyConnected[0][0]             \n",
            "__________________________________________________________________________________________________\n",
            "FullyConnected-1 (Dense)        (None, 100)          12100       batch_normalization_5[0][0]      \n",
            "__________________________________________________________________________________________________\n",
            "batch_normalization_6 (BatchNor (None, 100)          400         FullyConnected-1[0][0]           \n",
            "__________________________________________________________________________________________________\n",
            "Activation (Dense)              (None, 1)            101         batch_normalization_6[0][0]      \n",
            "==================================================================================================\n",
            "Total params: 37,321\n",
            "Trainable params: 36,881\n",
            "Non-trainable params: 440\n",
            "__________________________________________________________________________________________________\n"
          ],
          "name": "stdout"
        }
      ]
    },
    {
      "cell_type": "code",
      "metadata": {
        "id": "apKbg0gIkbj3",
        "colab_type": "code",
        "colab": {
          "base_uri": "https://localhost:8080/",
          "height": 1000
        },
        "outputId": "3ca4e37c-d842-4049-f892-92102618cd37"
      },
      "source": [
        "history = model.fit([train['user_id'], train['profile_id']], train['rating'], epochs=50, verbose=1)"
      ],
      "execution_count": 41,
      "outputs": [
        {
          "output_type": "stream",
          "text": [
            "Epoch 1/50\n",
            "82501/82501 [==============================] - 14s 168us/step - loss: 0.0871\n",
            "Epoch 2/50\n",
            "82501/82501 [==============================] - 13s 161us/step - loss: 0.0712\n",
            "Epoch 3/50\n",
            "82501/82501 [==============================] - 13s 163us/step - loss: 0.0647\n",
            "Epoch 4/50\n",
            "82501/82501 [==============================] - 13s 162us/step - loss: 0.0607\n",
            "Epoch 5/50\n",
            "82501/82501 [==============================] - 13s 158us/step - loss: 0.0553\n",
            "Epoch 6/50\n",
            "82501/82501 [==============================] - 13s 153us/step - loss: 0.0514\n",
            "Epoch 7/50\n",
            "82501/82501 [==============================] - 13s 158us/step - loss: 0.0490\n",
            "Epoch 8/50\n",
            "82501/82501 [==============================] - 13s 157us/step - loss: 0.0474\n",
            "Epoch 9/50\n",
            "82501/82501 [==============================] - 13s 155us/step - loss: 0.0458\n",
            "Epoch 10/50\n",
            "82501/82501 [==============================] - 13s 159us/step - loss: 0.0446\n",
            "Epoch 11/50\n",
            "82501/82501 [==============================] - 14s 171us/step - loss: 0.0436\n",
            "Epoch 12/50\n",
            "82501/82501 [==============================] - 13s 158us/step - loss: 0.0424\n",
            "Epoch 13/50\n",
            "82501/82501 [==============================] - 13s 159us/step - loss: 0.0418\n",
            "Epoch 14/50\n",
            "82501/82501 [==============================] - 14s 165us/step - loss: 0.0409\n",
            "Epoch 15/50\n",
            "82501/82501 [==============================] - 13s 155us/step - loss: 0.0401\n",
            "Epoch 16/50\n",
            "82501/82501 [==============================] - 13s 161us/step - loss: 0.0396\n",
            "Epoch 17/50\n",
            "82501/82501 [==============================] - 13s 159us/step - loss: 0.0392\n",
            "Epoch 18/50\n",
            "82501/82501 [==============================] - 13s 161us/step - loss: 0.0386\n",
            "Epoch 19/50\n",
            "82501/82501 [==============================] - 13s 163us/step - loss: 0.0379\n",
            "Epoch 20/50\n",
            "82501/82501 [==============================] - 14s 165us/step - loss: 0.0378\n",
            "Epoch 21/50\n",
            "82501/82501 [==============================] - 13s 163us/step - loss: 0.0372\n",
            "Epoch 22/50\n",
            "82501/82501 [==============================] - 13s 161us/step - loss: 0.0370\n",
            "Epoch 23/50\n",
            "82501/82501 [==============================] - 13s 159us/step - loss: 0.0364\n",
            "Epoch 24/50\n",
            "82501/82501 [==============================] - 13s 162us/step - loss: 0.0361\n",
            "Epoch 25/50\n",
            "82501/82501 [==============================] - 13s 161us/step - loss: 0.0357\n",
            "Epoch 26/50\n",
            "82501/82501 [==============================] - 13s 157us/step - loss: 0.0357\n",
            "Epoch 27/50\n",
            "82501/82501 [==============================] - 13s 163us/step - loss: 0.0353\n",
            "Epoch 28/50\n",
            "82501/82501 [==============================] - 13s 155us/step - loss: 0.0352\n",
            "Epoch 29/50\n",
            "82501/82501 [==============================] - 12s 151us/step - loss: 0.0347\n",
            "Epoch 30/50\n",
            "82501/82501 [==============================] - 12s 146us/step - loss: 0.0343\n",
            "Epoch 31/50\n",
            "82501/82501 [==============================] - 12s 151us/step - loss: 0.0343\n",
            "Epoch 32/50\n",
            "82501/82501 [==============================] - 13s 153us/step - loss: 0.0341\n",
            "Epoch 33/50\n",
            "82501/82501 [==============================] - 13s 157us/step - loss: 0.0340\n",
            "Epoch 34/50\n",
            "82501/82501 [==============================] - 13s 159us/step - loss: 0.0338\n",
            "Epoch 35/50\n",
            "82501/82501 [==============================] - 13s 157us/step - loss: 0.0337\n",
            "Epoch 36/50\n",
            "82501/82501 [==============================] - 13s 155us/step - loss: 0.0335\n",
            "Epoch 37/50\n",
            "82501/82501 [==============================] - 12s 150us/step - loss: 0.0334\n",
            "Epoch 38/50\n",
            "82501/82501 [==============================] - 13s 159us/step - loss: 0.0332\n",
            "Epoch 39/50\n",
            "82501/82501 [==============================] - 13s 153us/step - loss: 0.0329\n",
            "Epoch 40/50\n",
            "82501/82501 [==============================] - 13s 160us/step - loss: 0.0329\n",
            "Epoch 41/50\n",
            "82501/82501 [==============================] - 13s 155us/step - loss: 0.0327\n",
            "Epoch 42/50\n",
            "82501/82501 [==============================] - 13s 159us/step - loss: 0.0326\n",
            "Epoch 43/50\n",
            "82501/82501 [==============================] - 13s 161us/step - loss: 0.0325\n",
            "Epoch 44/50\n",
            "82501/82501 [==============================] - 13s 155us/step - loss: 0.0324\n",
            "Epoch 45/50\n",
            "82501/82501 [==============================] - 13s 162us/step - loss: 0.0322\n",
            "Epoch 46/50\n",
            "82501/82501 [==============================] - 12s 148us/step - loss: 0.0320\n",
            "Epoch 47/50\n",
            "82501/82501 [==============================] - 13s 153us/step - loss: 0.0320\n",
            "Epoch 48/50\n",
            "82501/82501 [==============================] - 12s 150us/step - loss: 0.0319\n",
            "Epoch 49/50\n",
            "82501/82501 [==============================] - 12s 143us/step - loss: 0.0318\n",
            "Epoch 50/50\n",
            "82501/82501 [==============================] - 12s 142us/step - loss: 0.0317\n"
          ],
          "name": "stdout"
        }
      ]
    },
    {
      "cell_type": "code",
      "metadata": {
        "id": "St6zigA1nu5O",
        "colab_type": "code",
        "colab": {
          "base_uri": "https://localhost:8080/",
          "height": 296
        },
        "outputId": "987c1f44-882e-4098-c784-6e73e872b0c8"
      },
      "source": [
        "pd.Series(history.history['loss']).plot(logy=True)\n",
        "plt.xlabel(\"Epoch\")\n",
        "plt.ylabel(\"Train Error\")"
      ],
      "execution_count": 42,
      "outputs": [
        {
          "output_type": "execute_result",
          "data": {
            "text/plain": [
              "Text(0, 0.5, 'Train Error')"
            ]
          },
          "metadata": {
            "tags": []
          },
          "execution_count": 42
        },
        {
          "output_type": "display_data",
          "data": {
            "image/png": "[encoded data removed]",
            "text/plain": [
              "<Figure size 432x288 with 1 Axes>"
            ]
          },
          "metadata": {
            "tags": [],
            "needs_background": "light"
          }
        }
      ]
    },
    {
      "cell_type": "code",
      "metadata": {
        "id": "SVtLSyawiWId",
        "colab_type": "code",
        "colab": {}
      },
      "source": [
        "model.save('mf-model')"
      ],
      "execution_count": 48,
      "outputs": []
    },
    {
      "cell_type": "code",
      "metadata": {
        "id": "Qc-RXuEBoqLG",
        "colab_type": "code",
        "colab": {}
      },
      "source": [
        "y_hat = np.round(model.predict([test.user_id, test.profile_id]) * 10, 0)\n",
        "y_true = test.rating * 10"
      ],
      "execution_count": 44,
      "outputs": []
    },
    {
      "cell_type": "code",
      "metadata": {
        "id": "9JsIUM2Ai9IL",
        "colab_type": "code",
        "colab": {
          "base_uri": "https://localhost:8080/",
          "height": 218
        },
        "outputId": "f1a0acf9-2bbf-46e0-a66d-b3cc09c97afd"
      },
      "source": [
        "y_true"
      ],
      "execution_count": 46,
      "outputs": [
        {
          "output_type": "execute_result",
          "data": {
            "text/plain": [
              "0        10.0\n",
              "1         8.0\n",
              "2         7.0\n",
              "3         8.0\n",
              "4         1.0\n",
              "         ... \n",
              "27517     9.0\n",
              "27518     5.0\n",
              "27519     4.0\n",
              "27520     6.0\n",
              "27521     2.0\n",
              "Name: rating, Length: 27522, dtype: float64"
            ]
          },
          "metadata": {
            "tags": []
          },
          "execution_count": 46
        }
      ]
    },
    {
      "cell_type": "code",
      "metadata": {
        "id": "FuT_UTxDoyoX",
        "colab_type": "code",
        "colab": {
          "base_uri": "https://localhost:8080/",
          "height": 34
        },
        "outputId": "48e5e24e-6554-4ca6-d8af-2481b49456b7"
      },
      "source": [
        "from sklearn.metrics import mean_squared_error\n",
        "math.sqrt(mean_squared_error(y_true, y_hat))"
      ],
      "execution_count": 47,
      "outputs": [
        {
          "output_type": "execute_result",
          "data": {
            "text/plain": [
              "2.5851321472759263"
            ]
          },
          "metadata": {
            "tags": []
          },
          "execution_count": 47
        }
      ]
    },
    {
      "cell_type": "code",
      "metadata": {
        "id": "uCs-glxAsyAk",
        "colab_type": "code",
        "colab": {}
      },
      "source": [
        ""
      ],
      "execution_count": null,
      "outputs": []
    }
  ]
}