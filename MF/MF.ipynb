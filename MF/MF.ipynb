{
 "cells": [
  {
   "cell_type": "code",
   "execution_count": 34,
   "metadata": {
    "colab": {
     "base_uri": "https://localhost:8080/",
     "height": 756
    },
    "colab_type": "code",
    "id": "-L6L06TVZzw_",
    "outputId": "f1d1869e-ac6e-482c-d434-a3a42df6226e",
    "scrolled": true
   },
   "outputs": [
    {
     "name": "stdout",
     "output_type": "stream",
     "text": [
      "Tensorflow version 2.2.0\n",
      "Running on TPU  ['10.55.44.170:8470']\n",
      "WARNING:tensorflow:TPU system grpc://10.55.44.170:8470 has already been initialized. Reinitializing the TPU can cause previously created variables on TPU to be lost.\n"
     ]
    },
    {
     "name": "stderr",
     "output_type": "stream",
     "text": [
      "WARNING:tensorflow:TPU system grpc://10.55.44.170:8470 has already been initialized. Reinitializing the TPU can cause previously created variables on TPU to be lost.\n"
     ]
    },
    {
     "name": "stdout",
     "output_type": "stream",
     "text": [
      "INFO:tensorflow:Initializing the TPU system: grpc://10.55.44.170:8470\n"
     ]
    },
    {
     "name": "stderr",
     "output_type": "stream",
     "text": [
      "INFO:tensorflow:Initializing the TPU system: grpc://10.55.44.170:8470\n"
     ]
    },
    {
     "name": "stdout",
     "output_type": "stream",
     "text": [
      "INFO:tensorflow:Clearing out eager caches\n"
     ]
    },
    {
     "name": "stderr",
     "output_type": "stream",
     "text": [
      "INFO:tensorflow:Clearing out eager caches\n"
     ]
    },
    {
     "name": "stdout",
     "output_type": "stream",
     "text": [
      "INFO:tensorflow:Finished initializing TPU system.\n"
     ]
    },
    {
     "name": "stderr",
     "output_type": "stream",
     "text": [
      "INFO:tensorflow:Finished initializing TPU system.\n"
     ]
    },
    {
     "name": "stdout",
     "output_type": "stream",
     "text": [
      "INFO:tensorflow:Found TPU system:\n"
     ]
    },
    {
     "name": "stderr",
     "output_type": "stream",
     "text": [
      "INFO:tensorflow:Found TPU system:\n"
     ]
    },
    {
     "name": "stdout",
     "output_type": "stream",
     "text": [
      "INFO:tensorflow:*** Num TPU Cores: 8\n"
     ]
    },
    {
     "name": "stderr",
     "output_type": "stream",
     "text": [
      "INFO:tensorflow:*** Num TPU Cores: 8\n"
     ]
    },
    {
     "name": "stdout",
     "output_type": "stream",
     "text": [
      "INFO:tensorflow:*** Num TPU Workers: 1\n"
     ]
    },
    {
     "name": "stderr",
     "output_type": "stream",
     "text": [
      "INFO:tensorflow:*** Num TPU Workers: 1\n"
     ]
    },
    {
     "name": "stdout",
     "output_type": "stream",
     "text": [
      "INFO:tensorflow:*** Num TPU Cores Per Worker: 8\n"
     ]
    },
    {
     "name": "stderr",
     "output_type": "stream",
     "text": [
      "INFO:tensorflow:*** Num TPU Cores Per Worker: 8\n"
     ]
    },
    {
     "name": "stdout",
     "output_type": "stream",
     "text": [
      "INFO:tensorflow:*** Available Device: _DeviceAttributes(/job:localhost/replica:0/task:0/device:CPU:0, CPU, 0, 0)\n"
     ]
    },
    {
     "name": "stderr",
     "output_type": "stream",
     "text": [
      "INFO:tensorflow:*** Available Device: _DeviceAttributes(/job:localhost/replica:0/task:0/device:CPU:0, CPU, 0, 0)\n"
     ]
    },
    {
     "name": "stdout",
     "output_type": "stream",
     "text": [
      "INFO:tensorflow:*** Available Device: _DeviceAttributes(/job:localhost/replica:0/task:0/device:XLA_CPU:0, XLA_CPU, 0, 0)\n"
     ]
    },
    {
     "name": "stderr",
     "output_type": "stream",
     "text": [
      "INFO:tensorflow:*** Available Device: _DeviceAttributes(/job:localhost/replica:0/task:0/device:XLA_CPU:0, XLA_CPU, 0, 0)\n"
     ]
    },
    {
     "name": "stdout",
     "output_type": "stream",
     "text": [
      "INFO:tensorflow:*** Available Device: _DeviceAttributes(/job:worker/replica:0/task:0/device:CPU:0, CPU, 0, 0)\n"
     ]
    },
    {
     "name": "stderr",
     "output_type": "stream",
     "text": [
      "INFO:tensorflow:*** Available Device: _DeviceAttributes(/job:worker/replica:0/task:0/device:CPU:0, CPU, 0, 0)\n"
     ]
    },
    {
     "name": "stdout",
     "output_type": "stream",
     "text": [
      "INFO:tensorflow:*** Available Device: _DeviceAttributes(/job:worker/replica:0/task:0/device:TPU:0, TPU, 0, 0)\n"
     ]
    },
    {
     "name": "stderr",
     "output_type": "stream",
     "text": [
      "INFO:tensorflow:*** Available Device: _DeviceAttributes(/job:worker/replica:0/task:0/device:TPU:0, TPU, 0, 0)\n"
     ]
    },
    {
     "name": "stdout",
     "output_type": "stream",
     "text": [
      "INFO:tensorflow:*** Available Device: _DeviceAttributes(/job:worker/replica:0/task:0/device:TPU:1, TPU, 0, 0)\n"
     ]
    },
    {
     "name": "stderr",
     "output_type": "stream",
     "text": [
      "INFO:tensorflow:*** Available Device: _DeviceAttributes(/job:worker/replica:0/task:0/device:TPU:1, TPU, 0, 0)\n"
     ]
    },
    {
     "name": "stdout",
     "output_type": "stream",
     "text": [
      "INFO:tensorflow:*** Available Device: _DeviceAttributes(/job:worker/replica:0/task:0/device:TPU:2, TPU, 0, 0)\n"
     ]
    },
    {
     "name": "stderr",
     "output_type": "stream",
     "text": [
      "INFO:tensorflow:*** Available Device: _DeviceAttributes(/job:worker/replica:0/task:0/device:TPU:2, TPU, 0, 0)\n"
     ]
    },
    {
     "name": "stdout",
     "output_type": "stream",
     "text": [
      "INFO:tensorflow:*** Available Device: _DeviceAttributes(/job:worker/replica:0/task:0/device:TPU:3, TPU, 0, 0)\n"
     ]
    },
    {
     "name": "stderr",
     "output_type": "stream",
     "text": [
      "INFO:tensorflow:*** Available Device: _DeviceAttributes(/job:worker/replica:0/task:0/device:TPU:3, TPU, 0, 0)\n"
     ]
    },
    {
     "name": "stdout",
     "output_type": "stream",
     "text": [
      "INFO:tensorflow:*** Available Device: _DeviceAttributes(/job:worker/replica:0/task:0/device:TPU:4, TPU, 0, 0)\n"
     ]
    },
    {
     "name": "stderr",
     "output_type": "stream",
     "text": [
      "INFO:tensorflow:*** Available Device: _DeviceAttributes(/job:worker/replica:0/task:0/device:TPU:4, TPU, 0, 0)\n"
     ]
    },
    {
     "name": "stdout",
     "output_type": "stream",
     "text": [
      "INFO:tensorflow:*** Available Device: _DeviceAttributes(/job:worker/replica:0/task:0/device:TPU:5, TPU, 0, 0)\n"
     ]
    },
    {
     "name": "stderr",
     "output_type": "stream",
     "text": [
      "INFO:tensorflow:*** Available Device: _DeviceAttributes(/job:worker/replica:0/task:0/device:TPU:5, TPU, 0, 0)\n"
     ]
    },
    {
     "name": "stdout",
     "output_type": "stream",
     "text": [
      "INFO:tensorflow:*** Available Device: _DeviceAttributes(/job:worker/replica:0/task:0/device:TPU:6, TPU, 0, 0)\n"
     ]
    },
    {
     "name": "stderr",
     "output_type": "stream",
     "text": [
      "INFO:tensorflow:*** Available Device: _DeviceAttributes(/job:worker/replica:0/task:0/device:TPU:6, TPU, 0, 0)\n"
     ]
    },
    {
     "name": "stdout",
     "output_type": "stream",
     "text": [
      "INFO:tensorflow:*** Available Device: _DeviceAttributes(/job:worker/replica:0/task:0/device:TPU:7, TPU, 0, 0)\n"
     ]
    },
    {
     "name": "stderr",
     "output_type": "stream",
     "text": [
      "INFO:tensorflow:*** Available Device: _DeviceAttributes(/job:worker/replica:0/task:0/device:TPU:7, TPU, 0, 0)\n"
     ]
    },
    {
     "name": "stdout",
     "output_type": "stream",
     "text": [
      "INFO:tensorflow:*** Available Device: _DeviceAttributes(/job:worker/replica:0/task:0/device:TPU_SYSTEM:0, TPU_SYSTEM, 0, 0)\n"
     ]
    },
    {
     "name": "stderr",
     "output_type": "stream",
     "text": [
      "INFO:tensorflow:*** Available Device: _DeviceAttributes(/job:worker/replica:0/task:0/device:TPU_SYSTEM:0, TPU_SYSTEM, 0, 0)\n"
     ]
    },
    {
     "name": "stdout",
     "output_type": "stream",
     "text": [
      "INFO:tensorflow:*** Available Device: _DeviceAttributes(/job:worker/replica:0/task:0/device:XLA_CPU:0, XLA_CPU, 0, 0)\n"
     ]
    },
    {
     "name": "stderr",
     "output_type": "stream",
     "text": [
      "INFO:tensorflow:*** Available Device: _DeviceAttributes(/job:worker/replica:0/task:0/device:XLA_CPU:0, XLA_CPU, 0, 0)\n"
     ]
    }
   ],
   "source": [
    "# import os\n",
    "# import pprint\n",
    "# import tensorflow as tf\n",
    "\n",
    "# if 'COLAB_TPU_ADDR' not in os.environ:\n",
    "#   print('ERROR: Not connected to a TPU runtime; please see the first cell in this notebook for instructions!')\n",
    "# else:\n",
    "#   tpu_address = 'grpc://' + os.environ['COLAB_TPU_ADDR']\n",
    "#   print ('TPU address is', tpu_address)\n",
    "\n",
    "#   with tf.compat.v1.Session(tpu_address) as session:\n",
    "#     devices = session.list_devices()\n",
    "    \n",
    "#   print('TPU devices:')\n",
    "#   pprint.pprint(devices)\n",
    "\n",
    "%tensorflow_version 2.x\n",
    "import tensorflow as tf\n",
    "print(\"Tensorflow version \" + tf.__version__)\n",
    "\n",
    "try:\n",
    "  tpu = tf.distribute.cluster_resolver.TPUClusterResolver()  # TPU detection\n",
    "  print('Running on TPU ', tpu.cluster_spec().as_dict()['worker'])\n",
    "except ValueError:\n",
    "  raise BaseException('ERROR: Not connected to a TPU runtime; please see the previous cell in this notebook for instructions!')\n",
    "\n",
    "tf.config.experimental_connect_to_cluster(tpu)\n",
    "tf.tpu.experimental.initialize_tpu_system(tpu)\n",
    "tpu_strategy = tf.distribute.experimental.TPUStrategy(tpu)"
   ]
  },
  {
   "cell_type": "code",
   "execution_count": 1,
   "metadata": {
    "colab": {},
    "colab_type": "code",
    "id": "mnw6EF1EaGFH"
   },
   "outputs": [
    {
     "name": "stderr",
     "output_type": "stream",
     "text": [
      "Using TensorFlow backend.\n"
     ]
    }
   ],
   "source": [
    "from math import sqrt\n",
    "\n",
    "import pandas as pd\n",
    "import numpy as np\n",
    "import keras\n",
    "from IPython.display import SVG\n",
    "from keras.optimizers import Adam\n",
    "from keras.utils.vis_utils import model_to_dot\n",
    "from keras.models import load_model\n",
    "import matplotlib.pyplot as plt\n",
    "from sklearn.model_selection import train_test_split\n",
    "from sklearn.metrics import mean_squared_error\n",
    "import warnings\n",
    "warnings.filterwarnings('ignore')\n",
    "\n",
    "%matplotlib inline"
   ]
  },
  {
   "cell_type": "code",
   "execution_count": 2,
   "metadata": {
    "colab": {},
    "colab_type": "code",
    "id": "c6e1KJRSeWUB"
   },
   "outputs": [],
   "source": [
    "train = pd.read_csv('https://raw.githubusercontent.com/rosen-mark-projects/recommender-systems-project/master/Data/train.csv', names=['user_id', 'profile_id', 'rating']).astype(int)\n",
    "test = pd.read_csv('https://raw.githubusercontent.com/rosen-mark-projects/recommender-systems-project/master/Data/test.csv', names=['user_id', 'profile_id', 'rating']).astype(int)"
   ]
  },
  {
   "cell_type": "code",
   "execution_count": 3,
   "metadata": {
    "colab": {
     "base_uri": "https://localhost:8080/",
     "height": 402
    },
    "colab_type": "code",
    "id": "0mFnb2D-CUh3",
    "outputId": "77e1495a-a941-4937-ed2d-f3bf8cfeeb77"
   },
   "outputs": [
    {
     "data": {
      "text/html": [
       "<div>\n",
       "<style scoped>\n",
       "    .dataframe tbody tr th:only-of-type {\n",
       "        vertical-align: middle;\n",
       "    }\n",
       "\n",
       "    .dataframe tbody tr th {\n",
       "        vertical-align: top;\n",
       "    }\n",
       "\n",
       "    .dataframe thead th {\n",
       "        text-align: right;\n",
       "    }\n",
       "</style>\n",
       "<table border=\"1\" class=\"dataframe\">\n",
       "  <thead>\n",
       "    <tr style=\"text-align: right;\">\n",
       "      <th></th>\n",
       "      <th>user_id</th>\n",
       "      <th>profile_id</th>\n",
       "      <th>rating</th>\n",
       "    </tr>\n",
       "  </thead>\n",
       "  <tbody>\n",
       "    <tr>\n",
       "      <th>0</th>\n",
       "      <td>0</td>\n",
       "      <td>1067</td>\n",
       "      <td>3</td>\n",
       "    </tr>\n",
       "    <tr>\n",
       "      <th>1</th>\n",
       "      <td>0</td>\n",
       "      <td>1575</td>\n",
       "      <td>1</td>\n",
       "    </tr>\n",
       "    <tr>\n",
       "      <th>2</th>\n",
       "      <td>0</td>\n",
       "      <td>653</td>\n",
       "      <td>1</td>\n",
       "    </tr>\n",
       "    <tr>\n",
       "      <th>3</th>\n",
       "      <td>0</td>\n",
       "      <td>1693</td>\n",
       "      <td>4</td>\n",
       "    </tr>\n",
       "    <tr>\n",
       "      <th>4</th>\n",
       "      <td>0</td>\n",
       "      <td>1296</td>\n",
       "      <td>6</td>\n",
       "    </tr>\n",
       "    <tr>\n",
       "      <th>...</th>\n",
       "      <td>...</td>\n",
       "      <td>...</td>\n",
       "      <td>...</td>\n",
       "    </tr>\n",
       "    <tr>\n",
       "      <th>82496</th>\n",
       "      <td>1999</td>\n",
       "      <td>715</td>\n",
       "      <td>4</td>\n",
       "    </tr>\n",
       "    <tr>\n",
       "      <th>82497</th>\n",
       "      <td>1999</td>\n",
       "      <td>297</td>\n",
       "      <td>1</td>\n",
       "    </tr>\n",
       "    <tr>\n",
       "      <th>82498</th>\n",
       "      <td>1999</td>\n",
       "      <td>1289</td>\n",
       "      <td>6</td>\n",
       "    </tr>\n",
       "    <tr>\n",
       "      <th>82499</th>\n",
       "      <td>1999</td>\n",
       "      <td>148</td>\n",
       "      <td>1</td>\n",
       "    </tr>\n",
       "    <tr>\n",
       "      <th>82500</th>\n",
       "      <td>1999</td>\n",
       "      <td>644</td>\n",
       "      <td>8</td>\n",
       "    </tr>\n",
       "  </tbody>\n",
       "</table>\n",
       "<p>82501 rows × 3 columns</p>\n",
       "</div>"
      ],
      "text/plain": [
       "       user_id  profile_id  rating\n",
       "0            0        1067       3\n",
       "1            0        1575       1\n",
       "2            0         653       1\n",
       "3            0        1693       4\n",
       "4            0        1296       6\n",
       "...        ...         ...     ...\n",
       "82496     1999         715       4\n",
       "82497     1999         297       1\n",
       "82498     1999        1289       6\n",
       "82499     1999         148       1\n",
       "82500     1999         644       8\n",
       "\n",
       "[82501 rows x 3 columns]"
      ]
     },
     "execution_count": 3,
     "metadata": {},
     "output_type": "execute_result"
    }
   ],
   "source": [
    "train"
   ]
  },
  {
   "cell_type": "markdown",
   "metadata": {
    "colab_type": "text",
    "id": "oTAFP0bMwmXC"
   },
   "source": [
    "# Matrix factorization"
   ]
  },
  {
   "cell_type": "code",
   "execution_count": 4,
   "metadata": {
    "colab": {
     "base_uri": "https://localhost:8080/",
     "height": 402
    },
    "colab_type": "code",
    "id": "FnqJHFA3fvp6",
    "outputId": "05f3c59f-b58f-4788-89ac-a5660b65f037"
   },
   "outputs": [
    {
     "data": {
      "text/html": [
       "<div>\n",
       "<style scoped>\n",
       "    .dataframe tbody tr th:only-of-type {\n",
       "        vertical-align: middle;\n",
       "    }\n",
       "\n",
       "    .dataframe tbody tr th {\n",
       "        vertical-align: top;\n",
       "    }\n",
       "\n",
       "    .dataframe thead th {\n",
       "        text-align: right;\n",
       "    }\n",
       "</style>\n",
       "<table border=\"1\" class=\"dataframe\">\n",
       "  <thead>\n",
       "    <tr style=\"text-align: right;\">\n",
       "      <th></th>\n",
       "      <th>user_id</th>\n",
       "      <th>profile_id</th>\n",
       "      <th>rating</th>\n",
       "    </tr>\n",
       "  </thead>\n",
       "  <tbody>\n",
       "    <tr>\n",
       "      <th>0</th>\n",
       "      <td>0</td>\n",
       "      <td>1826</td>\n",
       "      <td>1.0</td>\n",
       "    </tr>\n",
       "    <tr>\n",
       "      <th>1</th>\n",
       "      <td>0</td>\n",
       "      <td>300</td>\n",
       "      <td>0.8</td>\n",
       "    </tr>\n",
       "    <tr>\n",
       "      <th>2</th>\n",
       "      <td>0</td>\n",
       "      <td>1215</td>\n",
       "      <td>0.7</td>\n",
       "    </tr>\n",
       "    <tr>\n",
       "      <th>3</th>\n",
       "      <td>0</td>\n",
       "      <td>76</td>\n",
       "      <td>0.8</td>\n",
       "    </tr>\n",
       "    <tr>\n",
       "      <th>4</th>\n",
       "      <td>0</td>\n",
       "      <td>842</td>\n",
       "      <td>0.1</td>\n",
       "    </tr>\n",
       "    <tr>\n",
       "      <th>...</th>\n",
       "      <td>...</td>\n",
       "      <td>...</td>\n",
       "      <td>...</td>\n",
       "    </tr>\n",
       "    <tr>\n",
       "      <th>27517</th>\n",
       "      <td>1999</td>\n",
       "      <td>763</td>\n",
       "      <td>0.9</td>\n",
       "    </tr>\n",
       "    <tr>\n",
       "      <th>27518</th>\n",
       "      <td>1999</td>\n",
       "      <td>280</td>\n",
       "      <td>0.5</td>\n",
       "    </tr>\n",
       "    <tr>\n",
       "      <th>27519</th>\n",
       "      <td>1999</td>\n",
       "      <td>1615</td>\n",
       "      <td>0.4</td>\n",
       "    </tr>\n",
       "    <tr>\n",
       "      <th>27520</th>\n",
       "      <td>1999</td>\n",
       "      <td>1585</td>\n",
       "      <td>0.6</td>\n",
       "    </tr>\n",
       "    <tr>\n",
       "      <th>27521</th>\n",
       "      <td>1999</td>\n",
       "      <td>313</td>\n",
       "      <td>0.2</td>\n",
       "    </tr>\n",
       "  </tbody>\n",
       "</table>\n",
       "<p>27522 rows × 3 columns</p>\n",
       "</div>"
      ],
      "text/plain": [
       "       user_id  profile_id  rating\n",
       "0            0        1826     1.0\n",
       "1            0         300     0.8\n",
       "2            0        1215     0.7\n",
       "3            0          76     0.8\n",
       "4            0         842     0.1\n",
       "...        ...         ...     ...\n",
       "27517     1999         763     0.9\n",
       "27518     1999         280     0.5\n",
       "27519     1999        1615     0.4\n",
       "27520     1999        1585     0.6\n",
       "27521     1999         313     0.2\n",
       "\n",
       "[27522 rows x 3 columns]"
      ]
     },
     "execution_count": 4,
     "metadata": {},
     "output_type": "execute_result"
    }
   ],
   "source": [
    "train.rating = train.rating / 10\n",
    "test.rating = test.rating / 10\n",
    "test"
   ]
  },
  {
   "cell_type": "code",
   "execution_count": 5,
   "metadata": {
    "colab": {
     "base_uri": "https://localhost:8080/",
     "height": 1000
    },
    "colab_type": "code",
    "id": "99-SHLftja1o",
    "outputId": "9edf1383-6f4b-4087-fc01-84a3e3961efe"
   },
   "outputs": [
    {
     "name": "stdout",
     "output_type": "stream",
     "text": [
      "WARNING:tensorflow:From /home/mark/GVI_Analytics/Rec_system/recommender-systems-project/env/lib/python3.7/site-packages/tensorflow_core/python/ops/resource_variable_ops.py:1630: calling BaseResourceVariable.__init__ (from tensorflow.python.ops.resource_variable_ops) with constraint is deprecated and will be removed in a future version.\n",
      "Instructions for updating:\n",
      "If using Keras pass *_constraint arguments to layers.\n"
     ]
    },
    {
     "data": {
      "image/svg+xml": [
       "<svg height=\"959pt\" viewBox=\"0.00 0.00 672.50 719.00\" width=\"897pt\" xmlns=\"http://www.w3.org/2000/svg\" xmlns:xlink=\"http://www.w3.org/1999/xlink\">\n",
       "<g class=\"graph\" id=\"graph0\" transform=\"scale(1.3333 1.3333) rotate(0) translate(4 715)\">\n",
       "<title>G</title>\n",
       "<polygon fill=\"#ffffff\" points=\"-4,4 -4,-715 668.5,-715 668.5,4 -4,4\" stroke=\"transparent\"/>\n",
       "<!-- 140385607299472 -->\n",
       "<g class=\"node\" id=\"node1\">\n",
       "<title>140385607299472</title>\n",
       "<polygon fill=\"none\" points=\"42,-664.5 42,-710.5 287,-710.5 287,-664.5 42,-664.5\" stroke=\"#000000\"/>\n",
       "<text fill=\"#000000\" font-family=\"Times,serif\" font-size=\"14.00\" text-anchor=\"middle\" x=\"102.5\" y=\"-683.8\">Profile: InputLayer</text>\n",
       "<polyline fill=\"none\" points=\"163,-664.5 163,-710.5 \" stroke=\"#000000\"/>\n",
       "<text fill=\"#000000\" font-family=\"Times,serif\" font-size=\"14.00\" text-anchor=\"middle\" x=\"190.5\" y=\"-695.3\">input:</text>\n",
       "<polyline fill=\"none\" points=\"163,-687.5 218,-687.5 \" stroke=\"#000000\"/>\n",
       "<text fill=\"#000000\" font-family=\"Times,serif\" font-size=\"14.00\" text-anchor=\"middle\" x=\"190.5\" y=\"-672.3\">output:</text>\n",
       "<polyline fill=\"none\" points=\"218,-664.5 218,-710.5 \" stroke=\"#000000\"/>\n",
       "<text fill=\"#000000\" font-family=\"Times,serif\" font-size=\"14.00\" text-anchor=\"middle\" x=\"252.5\" y=\"-695.3\">(None, 1)</text>\n",
       "<polyline fill=\"none\" points=\"218,-687.5 287,-687.5 \" stroke=\"#000000\"/>\n",
       "<text fill=\"#000000\" font-family=\"Times,serif\" font-size=\"14.00\" text-anchor=\"middle\" x=\"252.5\" y=\"-672.3\">(None, 1)</text>\n",
       "</g>\n",
       "<!-- 140385606947856 -->\n",
       "<g class=\"node\" id=\"node3\">\n",
       "<title>140385606947856</title>\n",
       "<polygon fill=\"none\" points=\"0,-581.5 0,-627.5 329,-627.5 329,-581.5 0,-581.5\" stroke=\"#000000\"/>\n",
       "<text fill=\"#000000\" font-family=\"Times,serif\" font-size=\"14.00\" text-anchor=\"middle\" x=\"95.5\" y=\"-600.8\">Profile-Embedding: Embedding</text>\n",
       "<polyline fill=\"none\" points=\"191,-581.5 191,-627.5 \" stroke=\"#000000\"/>\n",
       "<text fill=\"#000000\" font-family=\"Times,serif\" font-size=\"14.00\" text-anchor=\"middle\" x=\"218.5\" y=\"-612.3\">input:</text>\n",
       "<polyline fill=\"none\" points=\"191,-604.5 246,-604.5 \" stroke=\"#000000\"/>\n",
       "<text fill=\"#000000\" font-family=\"Times,serif\" font-size=\"14.00\" text-anchor=\"middle\" x=\"218.5\" y=\"-589.3\">output:</text>\n",
       "<polyline fill=\"none\" points=\"246,-581.5 246,-627.5 \" stroke=\"#000000\"/>\n",
       "<text fill=\"#000000\" font-family=\"Times,serif\" font-size=\"14.00\" text-anchor=\"middle\" x=\"287.5\" y=\"-612.3\">(None, 1)</text>\n",
       "<polyline fill=\"none\" points=\"246,-604.5 329,-604.5 \" stroke=\"#000000\"/>\n",
       "<text fill=\"#000000\" font-family=\"Times,serif\" font-size=\"14.00\" text-anchor=\"middle\" x=\"287.5\" y=\"-589.3\">(None, 1, 6)</text>\n",
       "</g>\n",
       "<!-- 140385607299472&#45;&gt;140385606947856 -->\n",
       "<g class=\"edge\" id=\"edge1\">\n",
       "<title>140385607299472-&gt;140385606947856</title>\n",
       "<path d=\"M164.5,-664.3799C164.5,-656.1745 164.5,-646.7679 164.5,-637.8786\" fill=\"none\" stroke=\"#000000\"/>\n",
       "<polygon fill=\"#000000\" points=\"168.0001,-637.784 164.5,-627.784 161.0001,-637.784 168.0001,-637.784\" stroke=\"#000000\"/>\n",
       "</g>\n",
       "<!-- 140385606949200 -->\n",
       "<g class=\"node\" id=\"node2\">\n",
       "<title>140385606949200</title>\n",
       "<polygon fill=\"none\" points=\"388.5,-664.5 388.5,-710.5 622.5,-710.5 622.5,-664.5 388.5,-664.5\" stroke=\"#000000\"/>\n",
       "<text fill=\"#000000\" font-family=\"Times,serif\" font-size=\"14.00\" text-anchor=\"middle\" x=\"443.5\" y=\"-683.8\">User: InputLayer</text>\n",
       "<polyline fill=\"none\" points=\"498.5,-664.5 498.5,-710.5 \" stroke=\"#000000\"/>\n",
       "<text fill=\"#000000\" font-family=\"Times,serif\" font-size=\"14.00\" text-anchor=\"middle\" x=\"526\" y=\"-695.3\">input:</text>\n",
       "<polyline fill=\"none\" points=\"498.5,-687.5 553.5,-687.5 \" stroke=\"#000000\"/>\n",
       "<text fill=\"#000000\" font-family=\"Times,serif\" font-size=\"14.00\" text-anchor=\"middle\" x=\"526\" y=\"-672.3\">output:</text>\n",
       "<polyline fill=\"none\" points=\"553.5,-664.5 553.5,-710.5 \" stroke=\"#000000\"/>\n",
       "<text fill=\"#000000\" font-family=\"Times,serif\" font-size=\"14.00\" text-anchor=\"middle\" x=\"588\" y=\"-695.3\">(None, 1)</text>\n",
       "<polyline fill=\"none\" points=\"553.5,-687.5 622.5,-687.5 \" stroke=\"#000000\"/>\n",
       "<text fill=\"#000000\" font-family=\"Times,serif\" font-size=\"14.00\" text-anchor=\"middle\" x=\"588\" y=\"-672.3\">(None, 1)</text>\n",
       "</g>\n",
       "<!-- 140385606949520 -->\n",
       "<g class=\"node\" id=\"node4\">\n",
       "<title>140385606949520</title>\n",
       "<polygon fill=\"none\" points=\"346.5,-581.5 346.5,-627.5 664.5,-627.5 664.5,-581.5 346.5,-581.5\" stroke=\"#000000\"/>\n",
       "<text fill=\"#000000\" font-family=\"Times,serif\" font-size=\"14.00\" text-anchor=\"middle\" x=\"436.5\" y=\"-600.8\">User-Embedding: Embedding</text>\n",
       "<polyline fill=\"none\" points=\"526.5,-581.5 526.5,-627.5 \" stroke=\"#000000\"/>\n",
       "<text fill=\"#000000\" font-family=\"Times,serif\" font-size=\"14.00\" text-anchor=\"middle\" x=\"554\" y=\"-612.3\">input:</text>\n",
       "<polyline fill=\"none\" points=\"526.5,-604.5 581.5,-604.5 \" stroke=\"#000000\"/>\n",
       "<text fill=\"#000000\" font-family=\"Times,serif\" font-size=\"14.00\" text-anchor=\"middle\" x=\"554\" y=\"-589.3\">output:</text>\n",
       "<polyline fill=\"none\" points=\"581.5,-581.5 581.5,-627.5 \" stroke=\"#000000\"/>\n",
       "<text fill=\"#000000\" font-family=\"Times,serif\" font-size=\"14.00\" text-anchor=\"middle\" x=\"623\" y=\"-612.3\">(None, 1)</text>\n",
       "<polyline fill=\"none\" points=\"581.5,-604.5 664.5,-604.5 \" stroke=\"#000000\"/>\n",
       "<text fill=\"#000000\" font-family=\"Times,serif\" font-size=\"14.00\" text-anchor=\"middle\" x=\"623\" y=\"-589.3\">(None, 1, 6)</text>\n",
       "</g>\n",
       "<!-- 140385606949200&#45;&gt;140385606949520 -->\n",
       "<g class=\"edge\" id=\"edge2\">\n",
       "<title>140385606949200-&gt;140385606949520</title>\n",
       "<path d=\"M505.5,-664.3799C505.5,-656.1745 505.5,-646.7679 505.5,-637.8786\" fill=\"none\" stroke=\"#000000\"/>\n",
       "<polygon fill=\"#000000\" points=\"509.0001,-637.784 505.5,-627.784 502.0001,-637.784 509.0001,-637.784\" stroke=\"#000000\"/>\n",
       "</g>\n",
       "<!-- 140385627655952 -->\n",
       "<g class=\"node\" id=\"node5\">\n",
       "<title>140385627655952</title>\n",
       "<polygon fill=\"none\" points=\"49,-498.5 49,-544.5 328,-544.5 328,-498.5 49,-498.5\" stroke=\"#000000\"/>\n",
       "<text fill=\"#000000\" font-family=\"Times,serif\" font-size=\"14.00\" text-anchor=\"middle\" x=\"119.5\" y=\"-517.8\">FlattenProfiles: Flatten</text>\n",
       "<polyline fill=\"none\" points=\"190,-498.5 190,-544.5 \" stroke=\"#000000\"/>\n",
       "<text fill=\"#000000\" font-family=\"Times,serif\" font-size=\"14.00\" text-anchor=\"middle\" x=\"217.5\" y=\"-529.3\">input:</text>\n",
       "<polyline fill=\"none\" points=\"190,-521.5 245,-521.5 \" stroke=\"#000000\"/>\n",
       "<text fill=\"#000000\" font-family=\"Times,serif\" font-size=\"14.00\" text-anchor=\"middle\" x=\"217.5\" y=\"-506.3\">output:</text>\n",
       "<polyline fill=\"none\" points=\"245,-498.5 245,-544.5 \" stroke=\"#000000\"/>\n",
       "<text fill=\"#000000\" font-family=\"Times,serif\" font-size=\"14.00\" text-anchor=\"middle\" x=\"286.5\" y=\"-529.3\">(None, 1, 6)</text>\n",
       "<polyline fill=\"none\" points=\"245,-521.5 328,-521.5 \" stroke=\"#000000\"/>\n",
       "<text fill=\"#000000\" font-family=\"Times,serif\" font-size=\"14.00\" text-anchor=\"middle\" x=\"286.5\" y=\"-506.3\">(None, 6)</text>\n",
       "</g>\n",
       "<!-- 140385606947856&#45;&gt;140385627655952 -->\n",
       "<g class=\"edge\" id=\"edge3\">\n",
       "<title>140385606947856-&gt;140385627655952</title>\n",
       "<path d=\"M171.1853,-581.3799C173.5838,-573.0854 176.3371,-563.5633 178.9321,-554.5889\" fill=\"none\" stroke=\"#000000\"/>\n",
       "<polygon fill=\"#000000\" points=\"182.3517,-555.3627 181.7673,-544.784 175.6272,-553.4182 182.3517,-555.3627\" stroke=\"#000000\"/>\n",
       "</g>\n",
       "<!-- 140385606949392 -->\n",
       "<g class=\"node\" id=\"node6\">\n",
       "<title>140385606949392</title>\n",
       "<polygon fill=\"none\" points=\"358.5,-498.5 358.5,-544.5 626.5,-544.5 626.5,-498.5 358.5,-498.5\" stroke=\"#000000\"/>\n",
       "<text fill=\"#000000\" font-family=\"Times,serif\" font-size=\"14.00\" text-anchor=\"middle\" x=\"423.5\" y=\"-517.8\">FlattenUsers: Flatten</text>\n",
       "<polyline fill=\"none\" points=\"488.5,-498.5 488.5,-544.5 \" stroke=\"#000000\"/>\n",
       "<text fill=\"#000000\" font-family=\"Times,serif\" font-size=\"14.00\" text-anchor=\"middle\" x=\"516\" y=\"-529.3\">input:</text>\n",
       "<polyline fill=\"none\" points=\"488.5,-521.5 543.5,-521.5 \" stroke=\"#000000\"/>\n",
       "<text fill=\"#000000\" font-family=\"Times,serif\" font-size=\"14.00\" text-anchor=\"middle\" x=\"516\" y=\"-506.3\">output:</text>\n",
       "<polyline fill=\"none\" points=\"543.5,-498.5 543.5,-544.5 \" stroke=\"#000000\"/>\n",
       "<text fill=\"#000000\" font-family=\"Times,serif\" font-size=\"14.00\" text-anchor=\"middle\" x=\"585\" y=\"-529.3\">(None, 1, 6)</text>\n",
       "<polyline fill=\"none\" points=\"543.5,-521.5 626.5,-521.5 \" stroke=\"#000000\"/>\n",
       "<text fill=\"#000000\" font-family=\"Times,serif\" font-size=\"14.00\" text-anchor=\"middle\" x=\"585\" y=\"-506.3\">(None, 6)</text>\n",
       "</g>\n",
       "<!-- 140385606949520&#45;&gt;140385606949392 -->\n",
       "<g class=\"edge\" id=\"edge4\">\n",
       "<title>140385606949520-&gt;140385606949392</title>\n",
       "<path d=\"M501.8788,-581.3799C500.5936,-573.1745 499.1203,-563.7679 497.728,-554.8786\" fill=\"none\" stroke=\"#000000\"/>\n",
       "<polygon fill=\"#000000\" points=\"501.1522,-554.1219 496.1469,-544.784 494.2365,-555.2052 501.1522,-554.1219\" stroke=\"#000000\"/>\n",
       "</g>\n",
       "<!-- 140385606950224 -->\n",
       "<g class=\"node\" id=\"node7\">\n",
       "<title>140385606950224</title>\n",
       "<polygon fill=\"none\" points=\"184.5,-415.5 184.5,-461.5 484.5,-461.5 484.5,-415.5 184.5,-415.5\" stroke=\"#000000\"/>\n",
       "<text fill=\"#000000\" font-family=\"Times,serif\" font-size=\"14.00\" text-anchor=\"middle\" x=\"238\" y=\"-434.8\">DotProduct: Dot</text>\n",
       "<polyline fill=\"none\" points=\"291.5,-415.5 291.5,-461.5 \" stroke=\"#000000\"/>\n",
       "<text fill=\"#000000\" font-family=\"Times,serif\" font-size=\"14.00\" text-anchor=\"middle\" x=\"319\" y=\"-446.3\">input:</text>\n",
       "<polyline fill=\"none\" points=\"291.5,-438.5 346.5,-438.5 \" stroke=\"#000000\"/>\n",
       "<text fill=\"#000000\" font-family=\"Times,serif\" font-size=\"14.00\" text-anchor=\"middle\" x=\"319\" y=\"-423.3\">output:</text>\n",
       "<polyline fill=\"none\" points=\"346.5,-415.5 346.5,-461.5 \" stroke=\"#000000\"/>\n",
       "<text fill=\"#000000\" font-family=\"Times,serif\" font-size=\"14.00\" text-anchor=\"middle\" x=\"415.5\" y=\"-446.3\">[(None, 6), (None, 6)]</text>\n",
       "<polyline fill=\"none\" points=\"346.5,-438.5 484.5,-438.5 \" stroke=\"#000000\"/>\n",
       "<text fill=\"#000000\" font-family=\"Times,serif\" font-size=\"14.00\" text-anchor=\"middle\" x=\"415.5\" y=\"-423.3\">(None, 1)</text>\n",
       "</g>\n",
       "<!-- 140385627655952&#45;&gt;140385606950224 -->\n",
       "<g class=\"edge\" id=\"edge5\">\n",
       "<title>140385627655952-&gt;140385606950224</title>\n",
       "<path d=\"M229.1691,-498.3799C246.4991,-488.5279 266.8753,-476.9442 285.0651,-466.6034\" fill=\"none\" stroke=\"#000000\"/>\n",
       "<polygon fill=\"#000000\" points=\"286.8323,-469.6248 293.796,-461.6399 283.3728,-463.5394 286.8323,-469.6248\" stroke=\"#000000\"/>\n",
       "</g>\n",
       "<!-- 140385606949392&#45;&gt;140385606950224 -->\n",
       "<g class=\"edge\" id=\"edge6\">\n",
       "<title>140385606949392-&gt;140385606950224</title>\n",
       "<path d=\"M448.4882,-498.3799C429.5634,-488.4384 407.2816,-476.7334 387.4618,-466.3217\" fill=\"none\" stroke=\"#000000\"/>\n",
       "<polygon fill=\"#000000\" points=\"389.0301,-463.192 378.5495,-461.6399 385.7747,-469.389 389.0301,-463.192\" stroke=\"#000000\"/>\n",
       "</g>\n",
       "<!-- 140385598295760 -->\n",
       "<g class=\"node\" id=\"node8\">\n",
       "<title>140385598295760</title>\n",
       "<polygon fill=\"none\" points=\"193.5,-332.5 193.5,-378.5 475.5,-378.5 475.5,-332.5 193.5,-332.5\" stroke=\"#000000\"/>\n",
       "<text fill=\"#000000\" font-family=\"Times,serif\" font-size=\"14.00\" text-anchor=\"middle\" x=\"265.5\" y=\"-351.8\">FullyConnected: Dense</text>\n",
       "<polyline fill=\"none\" points=\"337.5,-332.5 337.5,-378.5 \" stroke=\"#000000\"/>\n",
       "<text fill=\"#000000\" font-family=\"Times,serif\" font-size=\"14.00\" text-anchor=\"middle\" x=\"365\" y=\"-363.3\">input:</text>\n",
       "<polyline fill=\"none\" points=\"337.5,-355.5 392.5,-355.5 \" stroke=\"#000000\"/>\n",
       "<text fill=\"#000000\" font-family=\"Times,serif\" font-size=\"14.00\" text-anchor=\"middle\" x=\"365\" y=\"-340.3\">output:</text>\n",
       "<polyline fill=\"none\" points=\"392.5,-332.5 392.5,-378.5 \" stroke=\"#000000\"/>\n",
       "<text fill=\"#000000\" font-family=\"Times,serif\" font-size=\"14.00\" text-anchor=\"middle\" x=\"434\" y=\"-363.3\">(None, 1)</text>\n",
       "<polyline fill=\"none\" points=\"392.5,-355.5 475.5,-355.5 \" stroke=\"#000000\"/>\n",
       "<text fill=\"#000000\" font-family=\"Times,serif\" font-size=\"14.00\" text-anchor=\"middle\" x=\"434\" y=\"-340.3\">(None, 120)</text>\n",
       "</g>\n",
       "<!-- 140385606950224&#45;&gt;140385598295760 -->\n",
       "<g class=\"edge\" id=\"edge7\">\n",
       "<title>140385606950224-&gt;140385598295760</title>\n",
       "<path d=\"M334.5,-415.3799C334.5,-407.1745 334.5,-397.7679 334.5,-388.8786\" fill=\"none\" stroke=\"#000000\"/>\n",
       "<polygon fill=\"#000000\" points=\"338.0001,-388.784 334.5,-378.784 331.0001,-388.784 338.0001,-388.784\" stroke=\"#000000\"/>\n",
       "</g>\n",
       "<!-- 140385598379856 -->\n",
       "<g class=\"node\" id=\"node9\">\n",
       "<title>140385598379856</title>\n",
       "<polygon fill=\"none\" points=\"135.5,-249.5 135.5,-295.5 533.5,-295.5 533.5,-249.5 135.5,-249.5\" stroke=\"#000000\"/>\n",
       "<text fill=\"#000000\" font-family=\"Times,serif\" font-size=\"14.00\" text-anchor=\"middle\" x=\"265.5\" y=\"-268.8\">batch_normalization_1: BatchNormalization</text>\n",
       "<polyline fill=\"none\" points=\"395.5,-249.5 395.5,-295.5 \" stroke=\"#000000\"/>\n",
       "<text fill=\"#000000\" font-family=\"Times,serif\" font-size=\"14.00\" text-anchor=\"middle\" x=\"423\" y=\"-280.3\">input:</text>\n",
       "<polyline fill=\"none\" points=\"395.5,-272.5 450.5,-272.5 \" stroke=\"#000000\"/>\n",
       "<text fill=\"#000000\" font-family=\"Times,serif\" font-size=\"14.00\" text-anchor=\"middle\" x=\"423\" y=\"-257.3\">output:</text>\n",
       "<polyline fill=\"none\" points=\"450.5,-249.5 450.5,-295.5 \" stroke=\"#000000\"/>\n",
       "<text fill=\"#000000\" font-family=\"Times,serif\" font-size=\"14.00\" text-anchor=\"middle\" x=\"492\" y=\"-280.3\">(None, 120)</text>\n",
       "<polyline fill=\"none\" points=\"450.5,-272.5 533.5,-272.5 \" stroke=\"#000000\"/>\n",
       "<text fill=\"#000000\" font-family=\"Times,serif\" font-size=\"14.00\" text-anchor=\"middle\" x=\"492\" y=\"-257.3\">(None, 120)</text>\n",
       "</g>\n",
       "<!-- 140385598295760&#45;&gt;140385598379856 -->\n",
       "<g class=\"edge\" id=\"edge8\">\n",
       "<title>140385598295760-&gt;140385598379856</title>\n",
       "<path d=\"M334.5,-332.3799C334.5,-324.1745 334.5,-314.7679 334.5,-305.8786\" fill=\"none\" stroke=\"#000000\"/>\n",
       "<polygon fill=\"#000000\" points=\"338.0001,-305.784 334.5,-295.784 331.0001,-305.784 338.0001,-305.784\" stroke=\"#000000\"/>\n",
       "</g>\n",
       "<!-- 140385597946576 -->\n",
       "<g class=\"node\" id=\"node10\">\n",
       "<title>140385597946576</title>\n",
       "<polygon fill=\"none\" points=\"188,-166.5 188,-212.5 481,-212.5 481,-166.5 188,-166.5\" stroke=\"#000000\"/>\n",
       "<text fill=\"#000000\" font-family=\"Times,serif\" font-size=\"14.00\" text-anchor=\"middle\" x=\"265.5\" y=\"-185.8\">FullyConnected-1: Dense</text>\n",
       "<polyline fill=\"none\" points=\"343,-166.5 343,-212.5 \" stroke=\"#000000\"/>\n",
       "<text fill=\"#000000\" font-family=\"Times,serif\" font-size=\"14.00\" text-anchor=\"middle\" x=\"370.5\" y=\"-197.3\">input:</text>\n",
       "<polyline fill=\"none\" points=\"343,-189.5 398,-189.5 \" stroke=\"#000000\"/>\n",
       "<text fill=\"#000000\" font-family=\"Times,serif\" font-size=\"14.00\" text-anchor=\"middle\" x=\"370.5\" y=\"-174.3\">output:</text>\n",
       "<polyline fill=\"none\" points=\"398,-166.5 398,-212.5 \" stroke=\"#000000\"/>\n",
       "<text fill=\"#000000\" font-family=\"Times,serif\" font-size=\"14.00\" text-anchor=\"middle\" x=\"439.5\" y=\"-197.3\">(None, 120)</text>\n",
       "<polyline fill=\"none\" points=\"398,-189.5 481,-189.5 \" stroke=\"#000000\"/>\n",
       "<text fill=\"#000000\" font-family=\"Times,serif\" font-size=\"14.00\" text-anchor=\"middle\" x=\"439.5\" y=\"-174.3\">(None, 100)</text>\n",
       "</g>\n",
       "<!-- 140385598379856&#45;&gt;140385597946576 -->\n",
       "<g class=\"edge\" id=\"edge9\">\n",
       "<title>140385598379856-&gt;140385597946576</title>\n",
       "<path d=\"M334.5,-249.3799C334.5,-241.1745 334.5,-231.7679 334.5,-222.8786\" fill=\"none\" stroke=\"#000000\"/>\n",
       "<polygon fill=\"#000000\" points=\"338.0001,-222.784 334.5,-212.784 331.0001,-222.784 338.0001,-222.784\" stroke=\"#000000\"/>\n",
       "</g>\n",
       "<!-- 140385597946448 -->\n",
       "<g class=\"node\" id=\"node11\">\n",
       "<title>140385597946448</title>\n",
       "<polygon fill=\"none\" points=\"135.5,-83.5 135.5,-129.5 533.5,-129.5 533.5,-83.5 135.5,-83.5\" stroke=\"#000000\"/>\n",
       "<text fill=\"#000000\" font-family=\"Times,serif\" font-size=\"14.00\" text-anchor=\"middle\" x=\"265.5\" y=\"-102.8\">batch_normalization_2: BatchNormalization</text>\n",
       "<polyline fill=\"none\" points=\"395.5,-83.5 395.5,-129.5 \" stroke=\"#000000\"/>\n",
       "<text fill=\"#000000\" font-family=\"Times,serif\" font-size=\"14.00\" text-anchor=\"middle\" x=\"423\" y=\"-114.3\">input:</text>\n",
       "<polyline fill=\"none\" points=\"395.5,-106.5 450.5,-106.5 \" stroke=\"#000000\"/>\n",
       "<text fill=\"#000000\" font-family=\"Times,serif\" font-size=\"14.00\" text-anchor=\"middle\" x=\"423\" y=\"-91.3\">output:</text>\n",
       "<polyline fill=\"none\" points=\"450.5,-83.5 450.5,-129.5 \" stroke=\"#000000\"/>\n",
       "<text fill=\"#000000\" font-family=\"Times,serif\" font-size=\"14.00\" text-anchor=\"middle\" x=\"492\" y=\"-114.3\">(None, 100)</text>\n",
       "<polyline fill=\"none\" points=\"450.5,-106.5 533.5,-106.5 \" stroke=\"#000000\"/>\n",
       "<text fill=\"#000000\" font-family=\"Times,serif\" font-size=\"14.00\" text-anchor=\"middle\" x=\"492\" y=\"-91.3\">(None, 100)</text>\n",
       "</g>\n",
       "<!-- 140385597946576&#45;&gt;140385597946448 -->\n",
       "<g class=\"edge\" id=\"edge10\">\n",
       "<title>140385597946576-&gt;140385597946448</title>\n",
       "<path d=\"M334.5,-166.3799C334.5,-158.1745 334.5,-148.7679 334.5,-139.8786\" fill=\"none\" stroke=\"#000000\"/>\n",
       "<polygon fill=\"#000000\" points=\"338.0001,-139.784 334.5,-129.784 331.0001,-139.784 338.0001,-139.784\" stroke=\"#000000\"/>\n",
       "</g>\n",
       "<!-- 140385597996560 -->\n",
       "<g class=\"node\" id=\"node12\">\n",
       "<title>140385597996560</title>\n",
       "<polygon fill=\"none\" points=\"208,-.5 208,-46.5 461,-46.5 461,-.5 208,-.5\" stroke=\"#000000\"/>\n",
       "<text fill=\"#000000\" font-family=\"Times,serif\" font-size=\"14.00\" text-anchor=\"middle\" x=\"265.5\" y=\"-19.8\">Activation: Dense</text>\n",
       "<polyline fill=\"none\" points=\"323,-.5 323,-46.5 \" stroke=\"#000000\"/>\n",
       "<text fill=\"#000000\" font-family=\"Times,serif\" font-size=\"14.00\" text-anchor=\"middle\" x=\"350.5\" y=\"-31.3\">input:</text>\n",
       "<polyline fill=\"none\" points=\"323,-23.5 378,-23.5 \" stroke=\"#000000\"/>\n",
       "<text fill=\"#000000\" font-family=\"Times,serif\" font-size=\"14.00\" text-anchor=\"middle\" x=\"350.5\" y=\"-8.3\">output:</text>\n",
       "<polyline fill=\"none\" points=\"378,-.5 378,-46.5 \" stroke=\"#000000\"/>\n",
       "<text fill=\"#000000\" font-family=\"Times,serif\" font-size=\"14.00\" text-anchor=\"middle\" x=\"419.5\" y=\"-31.3\">(None, 100)</text>\n",
       "<polyline fill=\"none\" points=\"378,-23.5 461,-23.5 \" stroke=\"#000000\"/>\n",
       "<text fill=\"#000000\" font-family=\"Times,serif\" font-size=\"14.00\" text-anchor=\"middle\" x=\"419.5\" y=\"-8.3\">(None, 1)</text>\n",
       "</g>\n",
       "<!-- 140385597946448&#45;&gt;140385597996560 -->\n",
       "<g class=\"edge\" id=\"edge11\">\n",
       "<title>140385597946448-&gt;140385597996560</title>\n",
       "<path d=\"M334.5,-83.3799C334.5,-75.1745 334.5,-65.7679 334.5,-56.8786\" fill=\"none\" stroke=\"#000000\"/>\n",
       "<polygon fill=\"#000000\" points=\"338.0001,-56.784 334.5,-46.784 331.0001,-56.784 338.0001,-56.784\" stroke=\"#000000\"/>\n",
       "</g>\n",
       "</g>\n",
       "</svg>"
      ],
      "text/plain": [
       "<IPython.core.display.SVG object>"
      ]
     },
     "execution_count": 5,
     "metadata": {},
     "output_type": "execute_result"
    }
   ],
   "source": [
    "n_users, n_profiles = max(train.user_id.unique()), max(train.profile_id.unique())\n",
    "n_latent_factors = 6\n",
    "\n",
    "profile_input = keras.layers.Input(shape=[1],name='Profile')\n",
    "profile_embedding = keras.layers.Embedding(n_profiles + 1, n_latent_factors, name='Profile-Embedding')(profile_input)\n",
    "profile_vec = keras.layers.Flatten(name='FlattenProfiles')(profile_embedding)\n",
    "\n",
    "user_input = keras.layers.Input(shape=[1],name='User')\n",
    "user_embedding = keras.layers.Embedding(n_users + 1, n_latent_factors,name='User-Embedding')(user_input)\n",
    "user_vec = keras.layers.Flatten(name='FlattenUsers')(user_embedding)\n",
    "\n",
    "prod = keras.layers.dot([profile_vec, user_vec],axes=1, name= 'DotProduct')\n",
    "\n",
    "dense_1 = keras.layers.Dense(120, activation='relu', name='FullyConnected')(prod)\n",
    "bn_1 = keras.layers.BatchNormalization()(dense_1)\n",
    "\n",
    "dense_2 = keras.layers.Dense(100, activation='relu', name='FullyConnected-1')(bn_1)\n",
    "bn_2 = keras.layers.BatchNormalization()(dense_2)\n",
    "\n",
    "result = keras.layers.Dense(1, activation='sigmoid',name='Activation')(bn_2)\n",
    "\n",
    "model = keras.Model([user_input, profile_input], result)\n",
    "model.compile('adam', 'mean_squared_error')\n",
    "\n",
    "SVG(model_to_dot(model,  show_shapes=True, show_layer_names=True, rankdir='HB').create(prog='dot', format='svg'))"
   ]
  },
  {
   "cell_type": "code",
   "execution_count": 6,
   "metadata": {
    "colab": {
     "base_uri": "https://localhost:8080/",
     "height": 571
    },
    "colab_type": "code",
    "id": "YMlX9lnfkZMS",
    "outputId": "395e25db-7e1e-4b52-feff-0224ba72aacf"
   },
   "outputs": [
    {
     "name": "stdout",
     "output_type": "stream",
     "text": [
      "Model: \"model_1\"\n",
      "__________________________________________________________________________________________________\n",
      "Layer (type)                    Output Shape         Param #     Connected to                     \n",
      "==================================================================================================\n",
      "Profile (InputLayer)            (None, 1)            0                                            \n",
      "__________________________________________________________________________________________________\n",
      "User (InputLayer)               (None, 1)            0                                            \n",
      "__________________________________________________________________________________________________\n",
      "Profile-Embedding (Embedding)   (None, 1, 6)         12000       Profile[0][0]                    \n",
      "__________________________________________________________________________________________________\n",
      "User-Embedding (Embedding)      (None, 1, 6)         12000       User[0][0]                       \n",
      "__________________________________________________________________________________________________\n",
      "FlattenProfiles (Flatten)       (None, 6)            0           Profile-Embedding[0][0]          \n",
      "__________________________________________________________________________________________________\n",
      "FlattenUsers (Flatten)          (None, 6)            0           User-Embedding[0][0]             \n",
      "__________________________________________________________________________________________________\n",
      "DotProduct (Dot)                (None, 1)            0           FlattenProfiles[0][0]            \n",
      "                                                                 FlattenUsers[0][0]               \n",
      "__________________________________________________________________________________________________\n",
      "FullyConnected (Dense)          (None, 120)          240         DotProduct[0][0]                 \n",
      "__________________________________________________________________________________________________\n",
      "batch_normalization_1 (BatchNor (None, 120)          480         FullyConnected[0][0]             \n",
      "__________________________________________________________________________________________________\n",
      "FullyConnected-1 (Dense)        (None, 100)          12100       batch_normalization_1[0][0]      \n",
      "__________________________________________________________________________________________________\n",
      "batch_normalization_2 (BatchNor (None, 100)          400         FullyConnected-1[0][0]           \n",
      "__________________________________________________________________________________________________\n",
      "Activation (Dense)              (None, 1)            101         batch_normalization_2[0][0]      \n",
      "==================================================================================================\n",
      "Total params: 37,321\n",
      "Trainable params: 36,881\n",
      "Non-trainable params: 440\n",
      "__________________________________________________________________________________________________\n"
     ]
    }
   ],
   "source": [
    "model.summary()"
   ]
  },
  {
   "cell_type": "code",
   "execution_count": 7,
   "metadata": {
    "colab": {
     "base_uri": "https://localhost:8080/",
     "height": 1000
    },
    "colab_type": "code",
    "id": "apKbg0gIkbj3",
    "outputId": "3ca4e37c-d842-4049-f892-92102618cd37"
   },
   "outputs": [
    {
     "name": "stdout",
     "output_type": "stream",
     "text": [
      "WARNING:tensorflow:From /home/mark/GVI_Analytics/Rec_system/recommender-systems-project/env/lib/python3.7/site-packages/keras/backend/tensorflow_backend.py:422: The name tf.global_variables is deprecated. Please use tf.compat.v1.global_variables instead.\n",
      "\n",
      "Epoch 1/50\n",
      "82501/82501 [==============================] - 5s 64us/step - loss: 0.0814\n",
      "Epoch 2/50\n",
      "82501/82501 [==============================] - 5s 56us/step - loss: 0.0657\n",
      "Epoch 3/50\n",
      "82501/82501 [==============================] - 5s 55us/step - loss: 0.0595\n",
      "Epoch 4/50\n",
      "82501/82501 [==============================] - 4s 54us/step - loss: 0.0553\n",
      "Epoch 5/50\n",
      "82501/82501 [==============================] - 4s 54us/step - loss: 0.0523\n",
      "Epoch 6/50\n",
      "82501/82501 [==============================] - 4s 48us/step - loss: 0.0496\n",
      "Epoch 7/50\n",
      "82501/82501 [==============================] - 5s 58us/step - loss: 0.0463\n",
      "Epoch 8/50\n",
      "82501/82501 [==============================] - 6s 73us/step - loss: 0.0439\n",
      "Epoch 9/50\n",
      "82501/82501 [==============================] - 5s 58us/step - loss: 0.0424\n",
      "Epoch 10/50\n",
      "82501/82501 [==============================] - 5s 55us/step - loss: 0.0409\n",
      "Epoch 11/50\n",
      "82501/82501 [==============================] - 4s 53us/step - loss: 0.0398\n",
      "Epoch 12/50\n",
      "82501/82501 [==============================] - 4s 51us/step - loss: 0.0390\n",
      "Epoch 13/50\n",
      "82501/82501 [==============================] - 5s 57us/step - loss: 0.0382\n",
      "Epoch 14/50\n",
      "82501/82501 [==============================] - 5s 57us/step - loss: 0.0375\n",
      "Epoch 15/50\n",
      "82501/82501 [==============================] - 7s 79us/step - loss: 0.0369\n",
      "Epoch 16/50\n",
      "82501/82501 [==============================] - 5s 59us/step - loss: 0.0363\n",
      "Epoch 17/50\n",
      "82501/82501 [==============================] - 5s 55us/step - loss: 0.0361\n",
      "Epoch 18/50\n",
      "82501/82501 [==============================] - 6s 69us/step - loss: 0.0354\n",
      "Epoch 19/50\n",
      "82501/82501 [==============================] - 5s 63us/step - loss: 0.0350\n",
      "Epoch 20/50\n",
      "82501/82501 [==============================] - 5s 59us/step - loss: 0.0346\n",
      "Epoch 21/50\n",
      "82501/82501 [==============================] - 5s 60us/step - loss: 0.0344\n",
      "Epoch 22/50\n",
      "82501/82501 [==============================] - 5s 56us/step - loss: 0.0341\n",
      "Epoch 23/50\n",
      "82501/82501 [==============================] - 7s 81us/step - loss: 0.0337\n",
      "Epoch 24/50\n",
      "82501/82501 [==============================] - 5s 65us/step - loss: 0.0336\n",
      "Epoch 25/50\n",
      "82501/82501 [==============================] - 5s 63us/step - loss: 0.0333\n",
      "Epoch 26/50\n",
      "82501/82501 [==============================] - 5s 63us/step - loss: 0.0329\n",
      "Epoch 27/50\n",
      "82501/82501 [==============================] - 5s 55us/step - loss: 0.0328\n",
      "Epoch 28/50\n",
      "82501/82501 [==============================] - 4s 51us/step - loss: 0.0324\n",
      "Epoch 29/50\n",
      "82501/82501 [==============================] - 4s 50us/step - loss: 0.0323\n",
      "Epoch 30/50\n",
      "82501/82501 [==============================] - 4s 50us/step - loss: 0.0322\n",
      "Epoch 31/50\n",
      "82501/82501 [==============================] - 5s 61us/step - loss: 0.0320\n",
      "Epoch 32/50\n",
      "82501/82501 [==============================] - 5s 66us/step - loss: 0.0317\n",
      "Epoch 33/50\n",
      "82501/82501 [==============================] - 4s 48us/step - loss: 0.0316\n",
      "Epoch 34/50\n",
      "82501/82501 [==============================] - 5s 57us/step - loss: 0.0315\n",
      "Epoch 35/50\n",
      "82501/82501 [==============================] - 6s 75us/step - loss: 0.0314\n",
      "Epoch 36/50\n",
      "82501/82501 [==============================] - 5s 64us/step - loss: 0.0313\n",
      "Epoch 37/50\n",
      "82501/82501 [==============================] - 4s 53us/step - loss: 0.0311\n",
      "Epoch 38/50\n",
      "82501/82501 [==============================] - 5s 61us/step - loss: 0.0310\n",
      "Epoch 39/50\n",
      "82501/82501 [==============================] - 4s 52us/step - loss: 0.0309\n",
      "Epoch 40/50\n",
      "82501/82501 [==============================] - 4s 48us/step - loss: 0.0307\n",
      "Epoch 41/50\n",
      "82501/82501 [==============================] - 5s 56us/step - loss: 0.0307\n",
      "Epoch 42/50\n",
      "82501/82501 [==============================] - 5s 57us/step - loss: 0.0308\n",
      "Epoch 43/50\n",
      "82501/82501 [==============================] - 4s 53us/step - loss: 0.0305\n",
      "Epoch 44/50\n",
      "82501/82501 [==============================] - 5s 60us/step - loss: 0.0304\n",
      "Epoch 45/50\n",
      "82501/82501 [==============================] - 4s 53us/step - loss: 0.0303\n",
      "Epoch 46/50\n",
      "82501/82501 [==============================] - 5s 63us/step - loss: 0.0302\n",
      "Epoch 47/50\n",
      "82501/82501 [==============================] - 6s 70us/step - loss: 0.0301\n",
      "Epoch 48/50\n",
      "82501/82501 [==============================] - 5s 62us/step - loss: 0.0300\n",
      "Epoch 49/50\n",
      "82501/82501 [==============================] - 4s 49us/step - loss: 0.0300\n",
      "Epoch 50/50\n",
      "82501/82501 [==============================] - 5s 63us/step - loss: 0.0299\n"
     ]
    }
   ],
   "source": [
    "history = model.fit([train['user_id'], train['profile_id']], train['rating'], epochs=50, verbose=1)"
   ]
  },
  {
   "cell_type": "code",
   "execution_count": 8,
   "metadata": {
    "colab": {
     "base_uri": "https://localhost:8080/",
     "height": 296
    },
    "colab_type": "code",
    "id": "St6zigA1nu5O",
    "outputId": "987c1f44-882e-4098-c784-6e73e872b0c8"
   },
   "outputs": [
    {
     "data": {
      "text/plain": [
       "Text(0, 0.5, 'Train Error')"
      ]
     },
     "execution_count": 8,
     "metadata": {},
     "output_type": "execute_result"
    },
    {
     "data": {
      "image/png": "[encoded data removed]",
      "text/plain": [
       "<Figure size 432x288 with 1 Axes>"
      ]
     },
     "metadata": {},
     "output_type": "display_data"
    }
   ],
   "source": [
    "pd.Series(history.history['loss']).plot(logy=True)\n",
    "plt.xlabel(\"Epoch\")\n",
    "plt.ylabel(\"Train Error\")"
   ]
  },
  {
   "cell_type": "code",
   "execution_count": 9,
   "metadata": {
    "colab": {},
    "colab_type": "code",
    "id": "SVtLSyawiWId"
   },
   "outputs": [],
   "source": [
    "model.save('mf-model')"
   ]
  },
  {
   "cell_type": "code",
   "execution_count": 10,
   "metadata": {
    "colab": {},
    "colab_type": "code",
    "id": "Qc-RXuEBoqLG"
   },
   "outputs": [],
   "source": [
    "y_hat = np.round(model.predict([test.user_id, test.profile_id]) * 10, 0)\n",
    "y_true = test.rating * 10"
   ]
  },
  {
   "cell_type": "code",
   "execution_count": 11,
   "metadata": {
    "colab": {
     "base_uri": "https://localhost:8080/",
     "height": 218
    },
    "colab_type": "code",
    "id": "9JsIUM2Ai9IL",
    "outputId": "f1a0acf9-2bbf-46e0-a66d-b3cc09c97afd"
   },
   "outputs": [
    {
     "data": {
      "text/plain": [
       "0        10.0\n",
       "1         8.0\n",
       "2         7.0\n",
       "3         8.0\n",
       "4         1.0\n",
       "         ... \n",
       "27517     9.0\n",
       "27518     5.0\n",
       "27519     4.0\n",
       "27520     6.0\n",
       "27521     2.0\n",
       "Name: rating, Length: 27522, dtype: float64"
      ]
     },
     "execution_count": 11,
     "metadata": {},
     "output_type": "execute_result"
    }
   ],
   "source": [
    "y_true"
   ]
  },
  {
   "cell_type": "code",
   "execution_count": 17,
   "metadata": {
    "colab": {
     "base_uri": "https://localhost:8080/",
     "height": 34
    },
    "colab_type": "code",
    "id": "FuT_UTxDoyoX",
    "outputId": "48e5e24e-6554-4ca6-d8af-2481b49456b7"
   },
   "outputs": [
    {
     "data": {
      "text/plain": [
       "2.61681520603614"
      ]
     },
     "execution_count": 17,
     "metadata": {},
     "output_type": "execute_result"
    }
   ],
   "source": [
    "sqrt(mean_squared_error(y_true, y_hat))"
   ]
  },
  {
   "cell_type": "code",
   "execution_count": 14,
   "metadata": {
    "colab": {},
    "colab_type": "code",
    "id": "uCs-glxAsyAk"
   },
   "outputs": [],
   "source": [
    "loaded_model = load_model('mf-model')"
   ]
  },
  {
   "cell_type": "code",
   "execution_count": 18,
   "metadata": {},
   "outputs": [
    {
     "data": {
      "text/plain": [
       "2.61681520603614"
      ]
     },
     "execution_count": 18,
     "metadata": {},
     "output_type": "execute_result"
    }
   ],
   "source": [
    "y_hat = np.round(loaded_model.predict([test.user_id, test.profile_id]) * 10, 0)\n",
    "\n",
    "sqrt(mean_squared_error(y_true, y_hat))"
   ]
  },
  {
   "cell_type": "code",
   "execution_count": null,
   "metadata": {},
   "outputs": [],
   "source": []
  }
 ],
 "metadata": {
  "accelerator": "TPU",
  "colab": {
   "collapsed_sections": [],
   "name": "recsys-mf.ipynb",
   "provenance": [],
   "toc_visible": true
  },
  "kernelspec": {
   "display_name": "Rec systems",
   "language": "python",
   "name": "mark"
  },
  "language_info": {
   "codemirror_mode": {
    "name": "ipython",
    "version": 3
   },
   "file_extension": ".py",
   "mimetype": "text/x-python",
   "name": "python",
   "nbconvert_exporter": "python",
   "pygments_lexer": "ipython3",
   "version": "3.7.6"
  }
 },
 "nbformat": 4,
 "nbformat_minor": 1
}
