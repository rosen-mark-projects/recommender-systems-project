{
  "nbformat": 4,
  "nbformat_minor": 0,
  "metadata": {
    "colab": {
      "name": "recsys-sgd.ipynb",
      "provenance": [],
      "collapsed_sections": []
    },
    "kernelspec": {
      "name": "python3",
      "display_name": "Python 3"
    }
  },
  "cells": [
    {
      "cell_type": "code",
      "metadata": {
        "id": "yjYwuudGWj8O",
        "colab_type": "code",
        "colab": {}
      },
      "source": [
        "import numpy as np\n",
        "import pandas as pd\n",
        "from sklearn.linear_model import SGDRegressor\n",
        "\n",
        "train = pd.read_csv('https://raw.githubusercontent.com/rosen-mark-projects/recommender-systems-project/master/Data/train.csv', names=['user_id', 'profile_id', 'rating']).astype(int)\n",
        "test = pd.read_csv('https://raw.githubusercontent.com/rosen-mark-projects/recommender-systems-project/master/Data/test.csv', names=['user_id', 'profile_id', 'rating']).astype(int)"
      ],
      "execution_count": 61,
      "outputs": []
    },
    {
      "cell_type": "code",
      "metadata": {
        "id": "MBS36htCXV_q",
        "colab_type": "code",
        "colab": {}
      },
      "source": [
        "sgd = SGDRegressor(max_iter=1000)\n"
      ],
      "execution_count": 82,
      "outputs": []
    },
    {
      "cell_type": "code",
      "metadata": {
        "id": "X_v-zzgbvEj4",
        "colab_type": "code",
        "colab": {}
      },
      "source": [
        "X = []\n",
        "for i in range(len(train)):\n",
        "  X.append(np.array([train.iloc[i].user_id, train.iloc[i].profile_id]))\n",
        "X = np.asarray(X)"
      ],
      "execution_count": 67,
      "outputs": []
    },
    {
      "cell_type": "code",
      "metadata": {
        "id": "_cSbYrn5vQE2",
        "colab_type": "code",
        "colab": {
          "base_uri": "https://localhost:8080/",
          "height": 34
        },
        "outputId": "b3ffefab-1251-489d-8d60-e3e64b10e454"
      },
      "source": [
        "Y = np.array(train.rating)\n",
        "Y"
      ],
      "execution_count": 81,
      "outputs": [
        {
          "output_type": "execute_result",
          "data": {
            "text/plain": [
              "array([3, 1, 1, ..., 6, 1, 8])"
            ]
          },
          "metadata": {
            "tags": []
          },
          "execution_count": 81
        }
      ]
    },
    {
      "cell_type": "code",
      "metadata": {
        "id": "M9G10pGmX3l0",
        "colab_type": "code",
        "colab": {
          "base_uri": "https://localhost:8080/",
          "height": 118
        },
        "outputId": "13b0ed13-3cef-470b-8c4a-ac22cea6833e"
      },
      "source": [
        "sgd.fit(X, Y)"
      ],
      "execution_count": 83,
      "outputs": [
        {
          "output_type": "execute_result",
          "data": {
            "text/plain": [
              "SGDRegressor(alpha=0.0001, average=False, early_stopping=False, epsilon=0.1,\n",
              "             eta0=0.01, fit_intercept=True, l1_ratio=0.15,\n",
              "             learning_rate='invscaling', loss='squared_loss', max_iter=1000,\n",
              "             n_iter_no_change=5, penalty=None, power_t=0.25, random_state=None,\n",
              "             shuffle=True, tol=0.001, validation_fraction=0.1, verbose=0,\n",
              "             warm_start=False)"
            ]
          },
          "metadata": {
            "tags": []
          },
          "execution_count": 83
        }
      ]
    },
    {
      "cell_type": "code",
      "metadata": {
        "id": "hQgDjZEIX7gj",
        "colab_type": "code",
        "colab": {}
      },
      "source": [
        "X_test = []\n",
        "for i in range(len(test)):\n",
        "  X_test.append(np.array([test.iloc[i].user_id, test.iloc[i].profile_id]))\n",
        "X_test = np.asarray(X_test)"
      ],
      "execution_count": 75,
      "outputs": []
    },
    {
      "cell_type": "code",
      "metadata": {
        "id": "L-uLlHsHYHga",
        "colab_type": "code",
        "colab": {}
      },
      "source": [
        "Y_test = np.array(test.rating)"
      ],
      "execution_count": 76,
      "outputs": []
    },
    {
      "cell_type": "code",
      "metadata": {
        "id": "44JTGo7EYUZM",
        "colab_type": "code",
        "colab": {}
      },
      "source": [
        "Y_hat = sgd.predict(X_test)"
      ],
      "execution_count": 86,
      "outputs": []
    }
  ]
}